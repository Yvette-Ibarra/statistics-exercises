{
 "cells": [
  {
   "cell_type": "markdown",
   "id": "30661609",
   "metadata": {},
   "source": [
    "# $Simulation$"
   ]
  },
  {
   "cell_type": "code",
   "execution_count": 12,
   "id": "820fd470",
   "metadata": {},
   "outputs": [],
   "source": [
    "import numpy as np\n",
    "import pandas as pd\n",
    "import matplotlib.pyplot as plt\n",
    "%config InlineBackend.figure_format = 'retina'\n",
    "import viz # curriculum example visualizations\n",
    "\n",
    "np.random.seed(9)"
   ]
  },
  {
   "cell_type": "markdown",
   "id": "3289d49d",
   "metadata": {},
   "source": [
    "### 1. How likely is it that you roll doubles when rolling two dice?"
   ]
  },
  {
   "cell_type": "code",
   "execution_count": 14,
   "id": "956aedeb",
   "metadata": {},
   "outputs": [
    {
     "data": {
      "text/plain": [
       "array([[1, 1],\n",
       "       [6, 5],\n",
       "       [2, 6],\n",
       "       ...,\n",
       "       [6, 6],\n",
       "       [5, 5],\n",
       "       [4, 1]])"
      ]
     },
     "execution_count": 14,
     "metadata": {},
     "output_type": "execute_result"
    }
   ],
   "source": [
    "n_trials = nrows = 10_000\n",
    "n_dice = ncols = 2\n",
    "\n",
    "rolls = np.random.choice([1, 2, 3, 4, 5, 6], size = (n_trials, n_dice))\n",
    "rolls"
   ]
  },
  {
   "cell_type": "code",
   "execution_count": 34,
   "id": "9ee97338",
   "metadata": {
    "scrolled": true
   },
   "outputs": [
    {
     "data": {
      "text/plain": [
       "(10000, 2)"
      ]
     },
     "execution_count": 34,
     "metadata": {},
     "output_type": "execute_result"
    }
   ],
   "source": [
    "df = pd.DataFrame(rolls, columns=['roll_1', 'roll_2'])\n",
    "df.shape"
   ]
  },
  {
   "cell_type": "code",
   "execution_count": 27,
   "id": "5dafdfab",
   "metadata": {
    "scrolled": true
   },
   "outputs": [],
   "source": [
    "bool_mask = df.roll_1.values == df.roll_2.values"
   ]
  },
  {
   "cell_type": "code",
   "execution_count": 37,
   "id": "ed78908f",
   "metadata": {},
   "outputs": [
    {
     "data": {
      "text/plain": [
       "0.1636"
      ]
     },
     "execution_count": 37,
     "metadata": {},
     "output_type": "execute_result"
    }
   ],
   "source": [
    "bool_mask.sum()/bool_mask.size"
   ]
  },
  {
   "cell_type": "code",
   "execution_count": 54,
   "id": "d02299e9",
   "metadata": {},
   "outputs": [
    {
     "data": {
      "text/plain": [
       "0.1636"
      ]
     },
     "execution_count": 54,
     "metadata": {},
     "output_type": "execute_result"
    }
   ],
   "source": [
    "#probability of rolling double dice\n",
    "bool_mask.mean()"
   ]
  },
  {
   "cell_type": "code",
   "execution_count": null,
   "id": "6756b5cc",
   "metadata": {
    "collapsed": true
   },
   "outputs": [],
   "source": []
  },
  {
   "cell_type": "markdown",
   "id": "d52a1379",
   "metadata": {},
   "source": [
    "### 2. If you flip 8 coins, what is the probability of getting exactly 3 heads? What is the probability of getting more than 3 heads?\n"
   ]
  },
  {
   "cell_type": "code",
   "execution_count": 42,
   "id": "18286d05",
   "metadata": {},
   "outputs": [
    {
     "data": {
      "text/plain": [
       "array([[1, 0, 0, ..., 1, 1, 1],\n",
       "       [1, 0, 1, ..., 0, 1, 1],\n",
       "       [1, 0, 1, ..., 0, 1, 1],\n",
       "       ...,\n",
       "       [1, 0, 0, ..., 0, 0, 1],\n",
       "       [1, 1, 0, ..., 0, 1, 0],\n",
       "       [1, 1, 0, ..., 1, 1, 1]])"
      ]
     },
     "execution_count": 42,
     "metadata": {},
     "output_type": "execute_result"
    }
   ],
   "source": [
    "n_trials = nrows = 10_000\n",
    "n_coins = ncols = 8\n",
    "\n",
    "# 1 equals heads 0 equals tails\n",
    "flips = np.random.choice([0, 1], size = (n_trials, n_coins))\n",
    "flips"
   ]
  },
  {
   "cell_type": "code",
   "execution_count": 47,
   "id": "82092f88",
   "metadata": {},
   "outputs": [
    {
     "data": {
      "text/html": [
       "<div>\n",
       "<style scoped>\n",
       "    .dataframe tbody tr th:only-of-type {\n",
       "        vertical-align: middle;\n",
       "    }\n",
       "\n",
       "    .dataframe tbody tr th {\n",
       "        vertical-align: top;\n",
       "    }\n",
       "\n",
       "    .dataframe thead th {\n",
       "        text-align: right;\n",
       "    }\n",
       "</style>\n",
       "<table border=\"1\" class=\"dataframe\">\n",
       "  <thead>\n",
       "    <tr style=\"text-align: right;\">\n",
       "      <th></th>\n",
       "      <th>1st</th>\n",
       "      <th>2nd</th>\n",
       "      <th>3rd</th>\n",
       "      <th>4th</th>\n",
       "      <th>5th</th>\n",
       "      <th>6th</th>\n",
       "      <th>7th</th>\n",
       "      <th>8th</th>\n",
       "    </tr>\n",
       "  </thead>\n",
       "  <tbody>\n",
       "    <tr>\n",
       "      <th>0</th>\n",
       "      <td>1</td>\n",
       "      <td>0</td>\n",
       "      <td>0</td>\n",
       "      <td>1</td>\n",
       "      <td>1</td>\n",
       "      <td>1</td>\n",
       "      <td>1</td>\n",
       "      <td>1</td>\n",
       "    </tr>\n",
       "    <tr>\n",
       "      <th>1</th>\n",
       "      <td>1</td>\n",
       "      <td>0</td>\n",
       "      <td>1</td>\n",
       "      <td>0</td>\n",
       "      <td>0</td>\n",
       "      <td>0</td>\n",
       "      <td>1</td>\n",
       "      <td>1</td>\n",
       "    </tr>\n",
       "    <tr>\n",
       "      <th>2</th>\n",
       "      <td>1</td>\n",
       "      <td>0</td>\n",
       "      <td>1</td>\n",
       "      <td>0</td>\n",
       "      <td>0</td>\n",
       "      <td>0</td>\n",
       "      <td>1</td>\n",
       "      <td>1</td>\n",
       "    </tr>\n",
       "    <tr>\n",
       "      <th>3</th>\n",
       "      <td>0</td>\n",
       "      <td>0</td>\n",
       "      <td>0</td>\n",
       "      <td>1</td>\n",
       "      <td>0</td>\n",
       "      <td>1</td>\n",
       "      <td>1</td>\n",
       "      <td>0</td>\n",
       "    </tr>\n",
       "    <tr>\n",
       "      <th>4</th>\n",
       "      <td>1</td>\n",
       "      <td>0</td>\n",
       "      <td>1</td>\n",
       "      <td>1</td>\n",
       "      <td>0</td>\n",
       "      <td>1</td>\n",
       "      <td>0</td>\n",
       "      <td>1</td>\n",
       "    </tr>\n",
       "  </tbody>\n",
       "</table>\n",
       "</div>"
      ],
      "text/plain": [
       "   1st  2nd  3rd  4th  5th  6th  7th  8th\n",
       "0    1    0    0    1    1    1    1    1\n",
       "1    1    0    1    0    0    0    1    1\n",
       "2    1    0    1    0    0    0    1    1\n",
       "3    0    0    0    1    0    1    1    0\n",
       "4    1    0    1    1    0    1    0    1"
      ]
     },
     "execution_count": 47,
     "metadata": {},
     "output_type": "execute_result"
    }
   ],
   "source": [
    "flips_df = pd.DataFrame(flips, columns=['1st','2nd','3rd','4th','5th','6th','7th','8th'])\n",
    "flips_df.head()"
   ]
  },
  {
   "cell_type": "code",
   "execution_count": 50,
   "id": "43442ecd",
   "metadata": {},
   "outputs": [
    {
     "data": {
      "text/plain": [
       "0    6\n",
       "1    4\n",
       "2    4\n",
       "3    3\n",
       "4    5\n",
       "dtype: int64"
      ]
     },
     "execution_count": 50,
     "metadata": {},
     "output_type": "execute_result"
    }
   ],
   "source": [
    "total_heads= flips_df.sum(axis=1)\n",
    "total_heads.head()"
   ]
  },
  {
   "cell_type": "code",
   "execution_count": 52,
   "id": "d0823064",
   "metadata": {},
   "outputs": [
    {
     "data": {
      "text/plain": [
       "0.2188"
      ]
     },
     "execution_count": 52,
     "metadata": {},
     "output_type": "execute_result"
    }
   ],
   "source": [
    "# probability of getting 3 heads\n",
    "(total_heads ==3).mean()"
   ]
  },
  {
   "cell_type": "code",
   "execution_count": 55,
   "id": "56b05b58",
   "metadata": {},
   "outputs": [
    {
     "data": {
      "text/plain": [
       "0.6337"
      ]
     },
     "execution_count": 55,
     "metadata": {},
     "output_type": "execute_result"
    }
   ],
   "source": [
    "#probablity of getting more than 3 heads\n",
    "(total_heads > 3).mean()"
   ]
  },
  {
   "cell_type": "markdown",
   "id": "5a77bc8c",
   "metadata": {},
   "source": [
    "### 3. There are approximately 3 web development cohorts for every 1 data science cohort at Codeup. Assuming that Codeup randomly selects an alumni to put on a billboard, what are the odds that the two billboards I drive past both have data science students on them?\n"
   ]
  },
  {
   "cell_type": "code",
   "execution_count": 81,
   "id": "86890c62",
   "metadata": {},
   "outputs": [],
   "source": [
    "n_trials = nrows = 10_000\n",
    "n_students = ncols = 2\n",
    "\n",
    "# 0 = Web Development students, 1=Data Science students\n",
    "billboard = np.random.choice([0,0,0,1], size = (n_trials, n_students))\n"
   ]
  },
  {
   "cell_type": "code",
   "execution_count": 86,
   "id": "0ec8c007",
   "metadata": {
    "scrolled": false
   },
   "outputs": [
    {
     "data": {
      "text/html": [
       "<div>\n",
       "<style scoped>\n",
       "    .dataframe tbody tr th:only-of-type {\n",
       "        vertical-align: middle;\n",
       "    }\n",
       "\n",
       "    .dataframe tbody tr th {\n",
       "        vertical-align: top;\n",
       "    }\n",
       "\n",
       "    .dataframe thead th {\n",
       "        text-align: right;\n",
       "    }\n",
       "</style>\n",
       "<table border=\"1\" class=\"dataframe\">\n",
       "  <thead>\n",
       "    <tr style=\"text-align: right;\">\n",
       "      <th></th>\n",
       "      <th>1st</th>\n",
       "      <th>2nd</th>\n",
       "    </tr>\n",
       "  </thead>\n",
       "  <tbody>\n",
       "    <tr>\n",
       "      <th>9995</th>\n",
       "      <td>0</td>\n",
       "      <td>1</td>\n",
       "    </tr>\n",
       "    <tr>\n",
       "      <th>9996</th>\n",
       "      <td>0</td>\n",
       "      <td>0</td>\n",
       "    </tr>\n",
       "    <tr>\n",
       "      <th>9997</th>\n",
       "      <td>1</td>\n",
       "      <td>0</td>\n",
       "    </tr>\n",
       "    <tr>\n",
       "      <th>9998</th>\n",
       "      <td>0</td>\n",
       "      <td>0</td>\n",
       "    </tr>\n",
       "    <tr>\n",
       "      <th>9999</th>\n",
       "      <td>1</td>\n",
       "      <td>0</td>\n",
       "    </tr>\n",
       "  </tbody>\n",
       "</table>\n",
       "</div>"
      ],
      "text/plain": [
       "      1st  2nd\n",
       "9995    0    1\n",
       "9996    0    0\n",
       "9997    1    0\n",
       "9998    0    0\n",
       "9999    1    0"
      ]
     },
     "execution_count": 86,
     "metadata": {},
     "output_type": "execute_result"
    }
   ],
   "source": [
    "billboard_df = pd.DataFrame(billboard, columns=['1st','2nd'])\n",
    "billboard_df.tail()"
   ]
  },
  {
   "cell_type": "code",
   "execution_count": 95,
   "id": "8e363dbf",
   "metadata": {
    "scrolled": true
   },
   "outputs": [
    {
     "data": {
      "text/plain": [
       "0.0643"
      ]
     },
     "execution_count": 95,
     "metadata": {},
     "output_type": "execute_result"
    }
   ],
   "source": [
    "# probability of two data science students selected on a billboard\n",
    "((billboard_df.sum(axis=1) == 2).sum())/len(billboard_df)\n"
   ]
  },
  {
   "cell_type": "markdown",
   "id": "8a4f40c8",
   "metadata": {},
   "source": [
    "### 4. Codeup students buy, on average, 3 poptart packages with a standard deviation of 1.5 a day from the snack vending machine. If on monday the machine is restocked with 17 poptart packages, how likely is it that I will be able to buy some poptarts on Friday afternoon? (Remember, if you have mean and standard deviation, use the np.random.normal) You'll need to make a judgement call on how to handle some of your values.\n"
   ]
  },
  {
   "cell_type": "code",
   "execution_count": 145,
   "id": "2697fdcf",
   "metadata": {},
   "outputs": [],
   "source": [
    "nrows = 10_000\n",
    "monday = 17\n",
    "\n",
    "array_pop = np.random.normal(loc = 3 , scale = 1.5, size=(nrows,5))"
   ]
  },
  {
   "cell_type": "code",
   "execution_count": 147,
   "id": "1994c1bc",
   "metadata": {
    "scrolled": true
   },
   "outputs": [],
   "source": [
    "# Monday Tuesday  Wednesday  Thursday\n",
    "sum_pop= array_pop.sum(axis=1)"
   ]
  },
  {
   "cell_type": "code",
   "execution_count": 148,
   "id": "961d36d3",
   "metadata": {},
   "outputs": [
    {
     "data": {
      "text/plain": [
       "array([13.88757223,  8.16134546, 16.62591946, ..., 17.76262174,\n",
       "       11.8781606 ,  9.75049894])"
      ]
     },
     "execution_count": 148,
     "metadata": {},
     "output_type": "execute_result"
    }
   ],
   "source": [
    "sum_pop"
   ]
  },
  {
   "cell_type": "code",
   "execution_count": 158,
   "id": "a77997fe",
   "metadata": {},
   "outputs": [],
   "source": [
    "bool_mask = sum_pop < 17\n",
    "                   \n",
    "                      "
   ]
  },
  {
   "cell_type": "code",
   "execution_count": 161,
   "id": "6db36234",
   "metadata": {},
   "outputs": [
    {
     "data": {
      "text/plain": [
       "0.7259"
      ]
     },
     "execution_count": 161,
     "metadata": {},
     "output_type": "execute_result"
    }
   ],
   "source": [
    "bool_mask.sum()/len(bool_mask)"
   ]
  },
  {
   "cell_type": "code",
   "execution_count": 162,
   "id": "f0501840",
   "metadata": {},
   "outputs": [
    {
     "data": {
      "text/plain": [
       "0.7259"
      ]
     },
     "execution_count": 162,
     "metadata": {},
     "output_type": "execute_result"
    }
   ],
   "source": [
    "# probability that I will be able to buy poptarts on Friday\n",
    "bool_mask.mean()"
   ]
  },
  {
   "cell_type": "markdown",
   "id": "cf59b97d",
   "metadata": {},
   "source": [
    "### 5. Compare Heights\n",
    "* Men have an average height of 178 cm and standard deviation of 8cm.\n",
    "* Women have a mean of 170, sd = 6cm.\n",
    "* Since you have means and standard deviations, you can use np.random.normal to generate observations.\n",
    "* If a man and woman are chosen at random, what is the likelihood the woman is taller than the man?"
   ]
  },
  {
   "cell_type": "code",
   "execution_count": 165,
   "id": "e415d594",
   "metadata": {},
   "outputs": [
    {
     "data": {
      "text/plain": [
       "array([[190.88796959],\n",
       "       [166.17563607],\n",
       "       [182.30292171],\n",
       "       ...,\n",
       "       [172.9158126 ],\n",
       "       [174.19909036],\n",
       "       [183.81536539]])"
      ]
     },
     "execution_count": 165,
     "metadata": {},
     "output_type": "execute_result"
    }
   ],
   "source": [
    "nrows = 10_000\n",
    "men_random = np.random.normal(loc = 178, scale =8, size = (nrows,1))\n",
    "men_random"
   ]
  },
  {
   "cell_type": "code",
   "execution_count": 185,
   "id": "44c52286",
   "metadata": {
    "scrolled": true
   },
   "outputs": [
    {
     "data": {
      "text/plain": [
       "array([[173.03255568],\n",
       "       [169.48935079],\n",
       "       [170.69102706],\n",
       "       ...,\n",
       "       [166.02061306],\n",
       "       [177.42393796],\n",
       "       [175.90773415]])"
      ]
     },
     "execution_count": 185,
     "metadata": {},
     "output_type": "execute_result"
    }
   ],
   "source": [
    "women_random = np.random.normal(loc = 170, scale =6, size = (nrows,1))\n",
    "women_random"
   ]
  },
  {
   "cell_type": "code",
   "execution_count": 187,
   "id": "e18a0b71",
   "metadata": {},
   "outputs": [
    {
     "data": {
      "text/plain": [
       "array([[[190.88796959],\n",
       "        [166.17563607],\n",
       "        [182.30292171],\n",
       "        ...,\n",
       "        [172.9158126 ],\n",
       "        [174.19909036],\n",
       "        [183.81536539]],\n",
       "\n",
       "       [[173.03255568],\n",
       "        [169.48935079],\n",
       "        [170.69102706],\n",
       "        ...,\n",
       "        [166.02061306],\n",
       "        [177.42393796],\n",
       "        [175.90773415]]])"
      ]
     },
     "execution_count": 187,
     "metadata": {},
     "output_type": "execute_result"
    }
   ],
   "source": [
    "array_no = np.array([men_random, women_random])\n",
    "\n",
    "array_no"
   ]
  },
  {
   "cell_type": "code",
   "execution_count": 192,
   "id": "1342da8c",
   "metadata": {},
   "outputs": [
    {
     "ename": "SyntaxError",
     "evalue": "invalid syntax (959771982.py, line 1)",
     "output_type": "error",
     "traceback": [
      "\u001b[0;36m  Input \u001b[0;32mIn [192]\u001b[0;36m\u001b[0m\n\u001b[0;31m    lambda men_women[x]<men_women[x]:\u001b[0m\n\u001b[0m                    ^\u001b[0m\n\u001b[0;31mSyntaxError\u001b[0m\u001b[0;31m:\u001b[0m invalid syntax\n"
     ]
    }
   ],
   "source": []
  },
  {
   "cell_type": "code",
   "execution_count": 189,
   "id": "ed50e706",
   "metadata": {},
   "outputs": [],
   "source": [
    "men_women= np.array(list(zip(men_random,women_random)))"
   ]
  },
  {
   "cell_type": "markdown",
   "id": "3807a982",
   "metadata": {},
   "source": [
    "### 6. When installing anaconda on a student's computer, there's a 1 in 250 chance that the download is corrupted and the installation fails.\n",
    "\n",
    "* What are the odds that after having 50 students download anaconda, no one has an installation issue? 100 students?\n",
    "* What is the probability that we observe an installation issue within the first 150 students that download anaconda?\n",
    "* How likely is it that 450 students all download anaconda without an issue?\n"
   ]
  },
  {
   "cell_type": "markdown",
   "id": "b3dc19cc",
   "metadata": {},
   "source": [
    "### 7. There's a 70% chance on any given day that there will be at least one food truck at Travis Park.\n",
    "* However, you haven't seen a food truck there in 3 days. How unlikely is this?\n",
    "* How likely is it that a food truck will show up sometime this week?"
   ]
  },
  {
   "cell_type": "markdown",
   "id": "18383bf2",
   "metadata": {},
   "source": [
    "### 8. If 23 people are in the same room, what are the odds that two of them share a birthday? What if it's 20 people? 40?"
   ]
  }
 ],
 "metadata": {
  "kernelspec": {
   "display_name": "Python 3 (ipykernel)",
   "language": "python",
   "name": "python3"
  },
  "language_info": {
   "codemirror_mode": {
    "name": "ipython",
    "version": 3
   },
   "file_extension": ".py",
   "mimetype": "text/x-python",
   "name": "python",
   "nbconvert_exporter": "python",
   "pygments_lexer": "ipython3",
   "version": "3.9.12"
  }
 },
 "nbformat": 4,
 "nbformat_minor": 5
}
