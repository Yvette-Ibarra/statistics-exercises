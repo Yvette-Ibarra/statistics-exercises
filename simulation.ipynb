{
 "cells": [
  {
   "cell_type": "markdown",
   "id": "fac0c654",
   "metadata": {},
   "source": [
    "# $Simulation$"
   ]
  },
  {
   "cell_type": "code",
   "execution_count": 4,
   "id": "92e9877e",
   "metadata": {},
   "outputs": [],
   "source": [
    "import numpy as np\n",
    "import pandas as pd\n",
    "import matplotlib.pyplot as plt\n",
    "%config InlineBackend.figure_format = 'retina'\n",
    "import viz # curriculum example visualizations\n",
    "\n",
    "np.random.seed(9)"
   ]
  },
  {
   "cell_type": "markdown",
   "id": "3a520f9f",
   "metadata": {},
   "source": [
    "### 1. How likely is it that you roll doubles when rolling two dice?\n",
    "\n",
    "#### <font color=purple>It is 0.1636 likely to roll doubles when rolling two dice"
   ]
  },
  {
   "cell_type": "code",
   "execution_count": 14,
   "id": "74a217cd",
   "metadata": {},
   "outputs": [
    {
     "data": {
      "text/plain": [
       "array([[1, 1],\n",
       "       [6, 5],\n",
       "       [2, 6],\n",
       "       ...,\n",
       "       [6, 6],\n",
       "       [5, 5],\n",
       "       [4, 1]])"
      ]
     },
     "execution_count": 14,
     "metadata": {},
     "output_type": "execute_result"
    }
   ],
   "source": [
    "# set up random choice for dice\n",
    "n_trials = nrows = 10_000\n",
    "n_dice = ncols = 2\n",
    "\n",
    "rolls = np.random.choice([1, 2, 3, 4, 5, 6], size = (n_trials, n_dice))\n",
    "rolls"
   ]
  },
  {
   "cell_type": "code",
   "execution_count": 34,
   "id": "6ca11cdb",
   "metadata": {
    "scrolled": true
   },
   "outputs": [
    {
     "data": {
      "text/plain": [
       "(10000, 2)"
      ]
     },
     "execution_count": 34,
     "metadata": {},
     "output_type": "execute_result"
    }
   ],
   "source": [
    "# convert data to DataFrame\n",
    "df = pd.DataFrame(rolls, columns=['roll_1', 'roll_2'])\n",
    "df.shape"
   ]
  },
  {
   "cell_type": "code",
   "execution_count": 27,
   "id": "2030212c",
   "metadata": {
    "scrolled": true
   },
   "outputs": [],
   "source": [
    "#create a True and False based on condition \n",
    "bool_mask = df.roll_1.values == df.roll_2.values"
   ]
  },
  {
   "cell_type": "code",
   "execution_count": 37,
   "id": "29ec296c",
   "metadata": {},
   "outputs": [
    {
     "data": {
      "text/plain": [
       "0.1636"
      ]
     },
     "execution_count": 37,
     "metadata": {},
     "output_type": "execute_result"
    }
   ],
   "source": [
    "# probability of rolling double dice by using division\n",
    "bool_mask.sum()/bool_mask.size"
   ]
  },
  {
   "cell_type": "code",
   "execution_count": 54,
   "id": "e5626f41",
   "metadata": {},
   "outputs": [
    {
     "data": {
      "text/plain": [
       "0.1636"
      ]
     },
     "execution_count": 54,
     "metadata": {},
     "output_type": "execute_result"
    }
   ],
   "source": [
    "#probability of rolling double dice\n",
    "bool_mask.mean()"
   ]
  },
  {
   "cell_type": "markdown",
   "id": "b9b7cac2",
   "metadata": {},
   "source": [
    "### 2. If you flip 8 coins, what is the probability of getting exactly 3 heads? What is the probability of getting more than 3 heads?\n",
    "\n",
    "#### <font color=purple> The probability of getting exactly 3 heads is 0.2188.\n",
    "\n",
    "#### <font color=purple> The probability of getting exactly 3 or more heads is 0.6337.\n",
    "    "
   ]
  },
  {
   "cell_type": "code",
   "execution_count": 42,
   "id": "7aea585f",
   "metadata": {},
   "outputs": [
    {
     "data": {
      "text/plain": [
       "array([[1, 0, 0, ..., 1, 1, 1],\n",
       "       [1, 0, 1, ..., 0, 1, 1],\n",
       "       [1, 0, 1, ..., 0, 1, 1],\n",
       "       ...,\n",
       "       [1, 0, 0, ..., 0, 0, 1],\n",
       "       [1, 1, 0, ..., 0, 1, 0],\n",
       "       [1, 1, 0, ..., 1, 1, 1]])"
      ]
     },
     "execution_count": 42,
     "metadata": {},
     "output_type": "execute_result"
    }
   ],
   "source": [
    "n_trials = nrows = 10_000\n",
    "n_coins = ncols = 8\n",
    "\n",
    "# 1 equals heads, 0 equals tails\n",
    "flips = np.random.choice([0, 1], size = (n_trials, n_coins))\n",
    "flips"
   ]
  },
  {
   "cell_type": "code",
   "execution_count": 47,
   "id": "44c2b8a8",
   "metadata": {},
   "outputs": [
    {
     "data": {
      "text/html": [
       "<div>\n",
       "<style scoped>\n",
       "    .dataframe tbody tr th:only-of-type {\n",
       "        vertical-align: middle;\n",
       "    }\n",
       "\n",
       "    .dataframe tbody tr th {\n",
       "        vertical-align: top;\n",
       "    }\n",
       "\n",
       "    .dataframe thead th {\n",
       "        text-align: right;\n",
       "    }\n",
       "</style>\n",
       "<table border=\"1\" class=\"dataframe\">\n",
       "  <thead>\n",
       "    <tr style=\"text-align: right;\">\n",
       "      <th></th>\n",
       "      <th>1st</th>\n",
       "      <th>2nd</th>\n",
       "      <th>3rd</th>\n",
       "      <th>4th</th>\n",
       "      <th>5th</th>\n",
       "      <th>6th</th>\n",
       "      <th>7th</th>\n",
       "      <th>8th</th>\n",
       "    </tr>\n",
       "  </thead>\n",
       "  <tbody>\n",
       "    <tr>\n",
       "      <th>0</th>\n",
       "      <td>1</td>\n",
       "      <td>0</td>\n",
       "      <td>0</td>\n",
       "      <td>1</td>\n",
       "      <td>1</td>\n",
       "      <td>1</td>\n",
       "      <td>1</td>\n",
       "      <td>1</td>\n",
       "    </tr>\n",
       "    <tr>\n",
       "      <th>1</th>\n",
       "      <td>1</td>\n",
       "      <td>0</td>\n",
       "      <td>1</td>\n",
       "      <td>0</td>\n",
       "      <td>0</td>\n",
       "      <td>0</td>\n",
       "      <td>1</td>\n",
       "      <td>1</td>\n",
       "    </tr>\n",
       "    <tr>\n",
       "      <th>2</th>\n",
       "      <td>1</td>\n",
       "      <td>0</td>\n",
       "      <td>1</td>\n",
       "      <td>0</td>\n",
       "      <td>0</td>\n",
       "      <td>0</td>\n",
       "      <td>1</td>\n",
       "      <td>1</td>\n",
       "    </tr>\n",
       "    <tr>\n",
       "      <th>3</th>\n",
       "      <td>0</td>\n",
       "      <td>0</td>\n",
       "      <td>0</td>\n",
       "      <td>1</td>\n",
       "      <td>0</td>\n",
       "      <td>1</td>\n",
       "      <td>1</td>\n",
       "      <td>0</td>\n",
       "    </tr>\n",
       "    <tr>\n",
       "      <th>4</th>\n",
       "      <td>1</td>\n",
       "      <td>0</td>\n",
       "      <td>1</td>\n",
       "      <td>1</td>\n",
       "      <td>0</td>\n",
       "      <td>1</td>\n",
       "      <td>0</td>\n",
       "      <td>1</td>\n",
       "    </tr>\n",
       "  </tbody>\n",
       "</table>\n",
       "</div>"
      ],
      "text/plain": [
       "   1st  2nd  3rd  4th  5th  6th  7th  8th\n",
       "0    1    0    0    1    1    1    1    1\n",
       "1    1    0    1    0    0    0    1    1\n",
       "2    1    0    1    0    0    0    1    1\n",
       "3    0    0    0    1    0    1    1    0\n",
       "4    1    0    1    1    0    1    0    1"
      ]
     },
     "execution_count": 47,
     "metadata": {},
     "output_type": "execute_result"
    }
   ],
   "source": [
    "# create data frame and label columns\n",
    "flips_df = pd.DataFrame(flips, columns=['1st','2nd','3rd','4th','5th','6th','7th','8th'])\n",
    "flips_df.head()"
   ]
  },
  {
   "cell_type": "code",
   "execution_count": 50,
   "id": "7ff911da",
   "metadata": {},
   "outputs": [
    {
     "data": {
      "text/plain": [
       "0    6\n",
       "1    4\n",
       "2    4\n",
       "3    3\n",
       "4    5\n",
       "dtype: int64"
      ]
     },
     "execution_count": 50,
     "metadata": {},
     "output_type": "execute_result"
    }
   ],
   "source": [
    "#sum vertically of observations of heads\n",
    "total_heads= flips_df.sum(axis=1)\n",
    "total_heads.head()"
   ]
  },
  {
   "cell_type": "code",
   "execution_count": 52,
   "id": "4bebe46b",
   "metadata": {},
   "outputs": [
    {
     "data": {
      "text/plain": [
       "0.2188"
      ]
     },
     "execution_count": 52,
     "metadata": {},
     "output_type": "execute_result"
    }
   ],
   "source": [
    "# probability of getting 3 heads is 0.2188\n",
    "(total_heads ==3).mean()"
   ]
  },
  {
   "cell_type": "code",
   "execution_count": 55,
   "id": "9279c513",
   "metadata": {},
   "outputs": [
    {
     "data": {
      "text/plain": [
       "0.6337"
      ]
     },
     "execution_count": 55,
     "metadata": {},
     "output_type": "execute_result"
    }
   ],
   "source": [
    "#probablity of getting more than 3 heads is 0.6337\n",
    "(total_heads > 3).mean()"
   ]
  },
  {
   "cell_type": "markdown",
   "id": "3680da77",
   "metadata": {},
   "source": [
    "### 3. There are approximately 3 web development cohorts for every 1 data science cohort at Codeup. Assuming that Codeup randomly selects an alumni to put on a billboard, what are the odds that the two billboards I drive past both have data science students on them?\n",
    "\n",
    "#### <font color=purple> The probability that the two billboards have data science students in them is 0.0643\n"
   ]
  },
  {
   "cell_type": "code",
   "execution_count": 81,
   "id": "121084a2",
   "metadata": {},
   "outputs": [],
   "source": [
    "# set up random generation of data using random . choice\n",
    "n_trials = nrows = 10_000\n",
    "n_students = ncols = 2\n",
    "\n",
    "# 0 = Web Development students, 1=Data Science students\n",
    "billboard = np.random.choice([0,0,0,1], size = (n_trials, n_students))\n"
   ]
  },
  {
   "cell_type": "code",
   "execution_count": 86,
   "id": "0fdc4b6d",
   "metadata": {
    "scrolled": false
   },
   "outputs": [
    {
     "data": {
      "text/html": [
       "<div>\n",
       "<style scoped>\n",
       "    .dataframe tbody tr th:only-of-type {\n",
       "        vertical-align: middle;\n",
       "    }\n",
       "\n",
       "    .dataframe tbody tr th {\n",
       "        vertical-align: top;\n",
       "    }\n",
       "\n",
       "    .dataframe thead th {\n",
       "        text-align: right;\n",
       "    }\n",
       "</style>\n",
       "<table border=\"1\" class=\"dataframe\">\n",
       "  <thead>\n",
       "    <tr style=\"text-align: right;\">\n",
       "      <th></th>\n",
       "      <th>1st</th>\n",
       "      <th>2nd</th>\n",
       "    </tr>\n",
       "  </thead>\n",
       "  <tbody>\n",
       "    <tr>\n",
       "      <th>9995</th>\n",
       "      <td>0</td>\n",
       "      <td>1</td>\n",
       "    </tr>\n",
       "    <tr>\n",
       "      <th>9996</th>\n",
       "      <td>0</td>\n",
       "      <td>0</td>\n",
       "    </tr>\n",
       "    <tr>\n",
       "      <th>9997</th>\n",
       "      <td>1</td>\n",
       "      <td>0</td>\n",
       "    </tr>\n",
       "    <tr>\n",
       "      <th>9998</th>\n",
       "      <td>0</td>\n",
       "      <td>0</td>\n",
       "    </tr>\n",
       "    <tr>\n",
       "      <th>9999</th>\n",
       "      <td>1</td>\n",
       "      <td>0</td>\n",
       "    </tr>\n",
       "  </tbody>\n",
       "</table>\n",
       "</div>"
      ],
      "text/plain": [
       "      1st  2nd\n",
       "9995    0    1\n",
       "9996    0    0\n",
       "9997    1    0\n",
       "9998    0    0\n",
       "9999    1    0"
      ]
     },
     "execution_count": 86,
     "metadata": {},
     "output_type": "execute_result"
    }
   ],
   "source": [
    "# create data frame  with columns\n",
    "billboard_df = pd.DataFrame(billboard, columns=['1st','2nd'])\n",
    "billboard_df.tail()"
   ]
  },
  {
   "cell_type": "code",
   "execution_count": 95,
   "id": "4d5c67da",
   "metadata": {
    "scrolled": true
   },
   "outputs": [
    {
     "data": {
      "text/plain": [
       "0.0643"
      ]
     },
     "execution_count": 95,
     "metadata": {},
     "output_type": "execute_result"
    }
   ],
   "source": [
    "# probability of two data science students selected on a billboard\n",
    "((billboard_df.sum(axis=1) == 2).sum())/len(billboard_df)\n"
   ]
  },
  {
   "cell_type": "markdown",
   "id": "eb268f80",
   "metadata": {},
   "source": [
    "### Alternative code---------------------"
   ]
  },
  {
   "cell_type": "code",
   "execution_count": 5,
   "id": "90c5d16c",
   "metadata": {},
   "outputs": [
    {
     "data": {
      "text/plain": [
       "0.06348"
      ]
     },
     "execution_count": 5,
     "metadata": {},
     "output_type": "execute_result"
    }
   ],
   "source": [
    "# alternative code\n",
    "bb = np.random.choice([0, 1], size = (100000, 2), p = [0.75, 0.25])\n",
    "p = (bb.sum(axis = 1) == 2).mean()\n",
    "p"
   ]
  },
  {
   "cell_type": "code",
   "execution_count": 6,
   "id": "737aaaa0",
   "metadata": {},
   "outputs": [],
   "source": [
    "# Converting from probability to Odds"
   ]
  },
  {
   "cell_type": "code",
   "execution_count": 4,
   "id": "4cd447d3",
   "metadata": {},
   "outputs": [
    {
     "data": {
      "text/plain": [
       "0.06627996246694533"
      ]
     },
     "execution_count": 4,
     "metadata": {},
     "output_type": "execute_result"
    }
   ],
   "source": [
    "# Probability of seeing anything else\n",
    "1-p\n",
    "odds = p/(1-p)\n",
    "odds\n",
    "#1:14 odds"
   ]
  },
  {
   "cell_type": "code",
   "execution_count": 7,
   "id": "7b56b131",
   "metadata": {},
   "outputs": [
    {
     "data": {
      "text/plain": [
       "0.0625"
      ]
     },
     "execution_count": 7,
     "metadata": {},
     "output_type": "execute_result"
    }
   ],
   "source": [
    "# theoretical prob\n",
    "0.25 * 0.25"
   ]
  },
  {
   "cell_type": "markdown",
   "id": "284c263f",
   "metadata": {},
   "source": [
    "### 4. Codeup students buy, on average, 3 poptart packages with a standard deviation of 1.5 a day from the snack vending machine. If on monday the machine is restocked with 17 poptart packages, how likely is it that I will be able to buy some poptarts on Friday afternoon? (Remember, if you have mean and standard deviation, use the np.random.normal) You'll need to make a judgement call on how to handle some of your values.\n",
    "\n",
    "#### <font color=purple>  The probability that a poptart will remain on Friday afternoon is 0.6255\n"
   ]
  },
  {
   "cell_type": "code",
   "execution_count": 8,
   "id": "415d44ba",
   "metadata": {},
   "outputs": [
    {
     "data": {
      "text/plain": [
       "array([[ 5.02556905,  4.36740146,  1.85234778,  3.26759889,  3.89959202],\n",
       "       [ 2.00565909,  1.99148089,  5.88273109, -2.59357073,  5.55497761],\n",
       "       [ 5.43649725,  2.85271682,  3.64453974,  3.06326837,  6.37313803],\n",
       "       ...,\n",
       "       [ 3.44884984,  1.92918065,  2.30216915,  1.75649938,  2.8031367 ],\n",
       "       [ 2.89518731,  4.5996335 , -0.05087807,  2.60392907,  2.7777019 ],\n",
       "       [ 2.65849435,  3.63365333,  3.96095053,  0.49554319,  4.76786907]])"
      ]
     },
     "execution_count": 8,
     "metadata": {},
     "output_type": "execute_result"
    }
   ],
   "source": [
    "# assumption 17 is the total of poptarts\n",
    "# set up for random . normal data\n",
    "nrows = 10_000\n",
    "monday = 17\n",
    "\n",
    "array_pop = np.random.normal(loc = 3 , scale = 1.5, size=(nrows,5))\n",
    "array_pop"
   ]
  },
  {
   "cell_type": "code",
   "execution_count": 12,
   "id": "0670c1b5",
   "metadata": {},
   "outputs": [
    {
     "data": {
      "image/png": "[encoded data removed]",
      "text/plain": [
       "<Figure size 648x432 with 1 Axes>"
      ]
     },
     "metadata": {
      "image/png": {
       "height": 386,
       "width": 562
      },
      "needs_background": "light"
     },
     "output_type": "display_data"
    }
   ],
   "source": [
    "plt.hist(np.random.normal(3, 1.5, size = (10000)))\n",
    "\n",
    "plt.title('Distribution of Poptart Packages Purchased Each Day')\n",
    "plt.vlines(3, 0, 3000, color='black')\n",
    "plt.text(3.1, 3000, 'Mean')\n",
    "plt.vlines(4.5, 0, 3000, color='black', ls='--', alpha=0.5)\n",
    "plt.text(4.6, 3000, '1σ')\n",
    "plt.vlines(6.0, 0, 3000, color='black', ls='--', alpha=0.5)\n",
    "plt.text(6.1, 3000, '2σ')\n",
    "plt.vlines(1.5, 0, 3000, color='black', ls='--', alpha=0.5)\n",
    "plt.text(1.6, 3000, '-1σ')\n",
    "plt.vlines(0, 0, 3000, color='black', ls='--', alpha=0.5)\n",
    "plt.text(0.1, 3000, '-2σ')\n",
    "plt.ylabel('Count')\n",
    "plt.xlabel('Number of Packages Purchased')\n",
    "plt.show()"
   ]
  },
  {
   "cell_type": "code",
   "execution_count": 8,
   "id": "9bc32f75",
   "metadata": {
    "scrolled": true
   },
   "outputs": [],
   "source": [
    "# sum or poptarts taken away in 5 days.\n",
    "sum_pop= array_pop.sum(axis=1)"
   ]
  },
  {
   "cell_type": "code",
   "execution_count": 9,
   "id": "9bc0e227",
   "metadata": {},
   "outputs": [
    {
     "data": {
      "text/plain": [
       "array([20.3785861 , 13.59100975, 15.5121466 , ..., 13.2624069 ,\n",
       "       14.60890501, 16.36535157])"
      ]
     },
     "execution_count": 9,
     "metadata": {},
     "output_type": "execute_result"
    }
   ],
   "source": [
    "sum_pop"
   ]
  },
  {
   "cell_type": "code",
   "execution_count": 14,
   "id": "38bf6227",
   "metadata": {},
   "outputs": [],
   "source": [
    "# instances when the sum is less than 16, there should be at least one poptart left\n",
    "bool_mask = sum_pop <= 16                     "
   ]
  },
  {
   "cell_type": "code",
   "execution_count": 12,
   "id": "0d236be8",
   "metadata": {},
   "outputs": [
    {
     "data": {
      "text/plain": [
       "0.6255"
      ]
     },
     "execution_count": 12,
     "metadata": {},
     "output_type": "execute_result"
    }
   ],
   "source": [
    "bool_mask.sum()/len(bool_mask)"
   ]
  },
  {
   "cell_type": "code",
   "execution_count": 13,
   "id": "6e91c663",
   "metadata": {},
   "outputs": [
    {
     "data": {
      "text/plain": [
       "0.6255"
      ]
     },
     "execution_count": 13,
     "metadata": {},
     "output_type": "execute_result"
    }
   ],
   "source": [
    "# probability that I will be able to buy poptarts on Friday\n",
    "bool_mask.mean()"
   ]
  },
  {
   "cell_type": "markdown",
   "id": "75f9b994",
   "metadata": {},
   "source": [
    "Alternative code -----------------"
   ]
  },
  {
   "cell_type": "code",
   "execution_count": 13,
   "id": "af5aa7e9",
   "metadata": {},
   "outputs": [
    {
     "data": {
      "text/plain": [
       "0.6177"
      ]
     },
     "execution_count": 13,
     "metadata": {},
     "output_type": "execute_result"
    }
   ],
   "source": [
    "(array_pop.sum(axis = 1) <= 16).mean()\n"
   ]
  },
  {
   "cell_type": "markdown",
   "id": "21fc12ad",
   "metadata": {},
   "source": [
    "### 5. Compare Heights\n",
    "* Men have an average height of 178 cm and standard deviation of 8cm.\n",
    "* Women have a mean of 170, sd = 6cm.\n",
    "* Since you have means and standard deviations, you can use np.random.normal to generate observations.\n",
    "* If a man and woman are chosen at random, what is the likelihood the woman is taller than the man?\n",
    "\n",
    "#### <font color= purple> The likelihood of a women chosen at random to be taller than a man is 0.2074."
   ]
  },
  {
   "cell_type": "code",
   "execution_count": 15,
   "id": "4ad3133f",
   "metadata": {
    "scrolled": false
   },
   "outputs": [
    {
     "data": {
      "text/plain": [
       "array([[178.28202969],\n",
       "       [173.65421458],\n",
       "       [180.43279203],\n",
       "       ...,\n",
       "       [172.85828193],\n",
       "       [188.51587497],\n",
       "       [181.37482601]])"
      ]
     },
     "execution_count": 15,
     "metadata": {},
     "output_type": "execute_result"
    }
   ],
   "source": [
    "# creating random heights for men given a mean and std\n",
    "nrows = 10_000\n",
    "men_random = np.random.normal(loc = 178, scale =8, size = (nrows,1))\n",
    "men_random"
   ]
  },
  {
   "cell_type": "code",
   "execution_count": 16,
   "id": "afaf7a1d",
   "metadata": {
    "scrolled": false
   },
   "outputs": [
    {
     "data": {
      "text/plain": [
       "array([[180.12187735],\n",
       "       [166.08143346],\n",
       "       [176.43473814],\n",
       "       ...,\n",
       "       [175.29705434],\n",
       "       [173.96876894],\n",
       "       [174.71427652]])"
      ]
     },
     "execution_count": 16,
     "metadata": {},
     "output_type": "execute_result"
    }
   ],
   "source": [
    "# creating random heights for women given a mean and std\n",
    "women_random = np.random.normal(loc = 170, scale =6, size = (nrows,1))\n",
    "women_random"
   ]
  },
  {
   "cell_type": "code",
   "execution_count": 97,
   "id": "d35bc0fe",
   "metadata": {},
   "outputs": [],
   "source": [
    "#conbining random heights into one array\n",
    "combine = np.concatenate((women_random,men_random), axis =1)"
   ]
  },
  {
   "cell_type": "code",
   "execution_count": 98,
   "id": "2fd54dae",
   "metadata": {
    "scrolled": true
   },
   "outputs": [],
   "source": [
    "#converting array to a datafram\n",
    "combine_df = pd.DataFrame(combine, columns = {'men','women'})\n"
   ]
  },
  {
   "cell_type": "code",
   "execution_count": 99,
   "id": "3fda0ba0",
   "metadata": {
    "scrolled": true
   },
   "outputs": [
    {
     "data": {
      "text/plain": [
       "women    float64\n",
       "men      float64\n",
       "dtype: object"
      ]
     },
     "execution_count": 99,
     "metadata": {},
     "output_type": "execute_result"
    }
   ],
   "source": [
    "#checking dataframe type\n",
    "combine_df.dtypes"
   ]
  },
  {
   "cell_type": "code",
   "execution_count": 100,
   "id": "e2e7434f",
   "metadata": {},
   "outputs": [
    {
     "data": {
      "text/plain": [
       "0       False\n",
       "1       False\n",
       "2       False\n",
       "3       False\n",
       "4       False\n",
       "        ...  \n",
       "9995    False\n",
       "9996     True\n",
       "9997    False\n",
       "9998    False\n",
       "9999    False\n",
       "Length: 10000, dtype: bool"
      ]
     },
     "execution_count": 100,
     "metadata": {},
     "output_type": "execute_result"
    }
   ],
   "source": [
    "# creating a True and False Series based on the condition that women are taller than men\n",
    "bool_mask = combine_df.women > combine_df.men\n",
    "bool_mask"
   ]
  },
  {
   "cell_type": "code",
   "execution_count": 101,
   "id": "41fae878",
   "metadata": {},
   "outputs": [
    {
     "data": {
      "text/plain": [
       "0.2074"
      ]
     },
     "execution_count": 101,
     "metadata": {},
     "output_type": "execute_result"
    }
   ],
   "source": [
    "# The probability that a women chosen at random is taller than a man chosen at random\n",
    "bool_mask.mean()"
   ]
  },
  {
   "cell_type": "markdown",
   "id": "3ff7a531",
   "metadata": {},
   "source": [
    "#### Alternative code ---------------------"
   ]
  },
  {
   "cell_type": "code",
   "execution_count": 17,
   "id": "a6723beb",
   "metadata": {},
   "outputs": [
    {
     "data": {
      "text/plain": [
       "0.2176"
      ]
     },
     "execution_count": 17,
     "metadata": {},
     "output_type": "execute_result"
    }
   ],
   "source": [
    "# Alternative code\n",
    "(women_random > men_random).mean()"
   ]
  },
  {
   "cell_type": "markdown",
   "id": "5f5fc6ab",
   "metadata": {},
   "source": [
    "### 6. When installing anaconda on a student's computer, there's a 1 in 250 chance that the download is corrupted and the installation fails.\n",
    "\n",
    "* What are the odds that after having 50 students download anaconda, no one has an installation issue? 100 students?\n",
    "* What is the probability that we observe an installation issue within the first 150 students that download anaconda?\n",
    "* How likely is it that 450 students all download anaconda without an issue?\n",
    "\n",
    "#### <font color= blue>  The odds of having no issues in the first 50 students are .816\n",
    "    \n",
    "#### <font color= blue> The odds of having no issues in the first 100 students are 0.6805\n",
    "    \n",
    "#### <font color= blue> The probability that we observe and istallation issue within the first 150 students is 0.459\n",
    "    \n",
    "#### <font color= blue> The likelyhood that 450 students download anaconda with no issues 0.1643"
   ]
  },
  {
   "cell_type": "code",
   "execution_count": 23,
   "id": "ade87be2",
   "metadata": {},
   "outputs": [],
   "source": [
    "# function that outputs the probability of corruption occuring ; given input is the number of students\n",
    "def p_nocorruption(n_students):\n",
    "    install = np.random.choice([0,1], size = (10000, n_students), p = [249/250, 1/250])\n",
    "    return (install.sum(axis = 1) == 0).mean()\n",
    "# set equal to ==0 because you want to know the probability of 0 issues"
   ]
  },
  {
   "cell_type": "code",
   "execution_count": 24,
   "id": "e27b16f9",
   "metadata": {
    "scrolled": false
   },
   "outputs": [
    {
     "data": {
      "text/plain": [
       "0.8186"
      ]
     },
     "execution_count": 24,
     "metadata": {},
     "output_type": "execute_result"
    }
   ],
   "source": [
    "p_nocorruption(50)"
   ]
  },
  {
   "cell_type": "code",
   "execution_count": 25,
   "id": "e0b9d078",
   "metadata": {},
   "outputs": [
    {
     "data": {
      "text/plain": [
       "0.6805"
      ]
     },
     "execution_count": 25,
     "metadata": {},
     "output_type": "execute_result"
    }
   ],
   "source": [
    "p_nocorruption(100)"
   ]
  },
  {
   "cell_type": "code",
   "execution_count": 26,
   "id": "2edec802",
   "metadata": {},
   "outputs": [
    {
     "data": {
      "text/plain": [
       "0.45999999999999996"
      ]
     },
     "execution_count": 26,
     "metadata": {},
     "output_type": "execute_result"
    }
   ],
   "source": [
    "1-p_nocorruption(150)"
   ]
  },
  {
   "cell_type": "code",
   "execution_count": 27,
   "id": "50658596",
   "metadata": {},
   "outputs": [
    {
     "data": {
      "text/plain": [
       "0.1643"
      ]
     },
     "execution_count": 27,
     "metadata": {},
     "output_type": "execute_result"
    }
   ],
   "source": [
    "p_nocorruption(450)"
   ]
  },
  {
   "cell_type": "markdown",
   "id": "b6a570d3",
   "metadata": {},
   "source": [
    "### 7. There's a 70% chance on any given day that there will be at least one food truck at Travis Park.\n",
    "* However, you haven't seen a food truck there in 3 days. How unlikely is this?\n",
    "* How likely is it that a food truck will show up sometime this week?\n",
    "\n",
    "#### <font color= blue> The probability of not seeing a food truck in 3 days is 0.0283 \n",
    "    \n",
    "#### <font color= blue> The probability of the food truck showing up sometime this week is 0.9968\n"
   ]
  },
  {
   "cell_type": "code",
   "execution_count": 46,
   "id": "8a9b9aeb",
   "metadata": {},
   "outputs": [
    {
     "data": {
      "text/plain": [
       "array([[0.38354424, 0.95516614, 0.31255071],\n",
       "       [0.56965598, 0.3280947 , 0.83103881],\n",
       "       [0.95201644, 0.28394707, 0.6336477 ],\n",
       "       ...,\n",
       "       [0.51583606, 0.49412919, 0.72565616],\n",
       "       [0.53462057, 0.25434612, 0.98850294],\n",
       "       [0.59448796, 0.7293193 , 0.14916469]])"
      ]
     },
     "execution_count": 46,
     "metadata": {},
     "output_type": "execute_result"
    }
   ],
   "source": [
    "# generating random.random data, for 3 days\n",
    "p_truck =.7\n",
    "\n",
    "ncols = 3\n",
    "nrows = 10_000\n",
    "\n",
    "data = np.random.random((nrows, ncols))\n",
    "data"
   ]
  },
  {
   "cell_type": "code",
   "execution_count": 58,
   "id": "678ea5ec",
   "metadata": {},
   "outputs": [],
   "source": [
    "# setting weight on data\n",
    "food_truck = (data <= p_truck)\n"
   ]
  },
  {
   "cell_type": "code",
   "execution_count": 59,
   "id": "d1a1e920",
   "metadata": {},
   "outputs": [
    {
     "data": {
      "text/plain": [
       "0.0032"
      ]
     },
     "execution_count": 59,
     "metadata": {},
     "output_type": "execute_result"
    }
   ],
   "source": [
    "#probability of food truck not showing up 3 days in a row\n",
    "# set it equal to == 0, because 0 is\n",
    "(food_truck.sum(axis=1)==0).mean()"
   ]
  },
  {
   "cell_type": "code",
   "execution_count": 60,
   "id": "f9d78fa4",
   "metadata": {
    "scrolled": true
   },
   "outputs": [
    {
     "data": {
      "text/plain": [
       "0.9968"
      ]
     },
     "execution_count": 60,
     "metadata": {},
     "output_type": "execute_result"
    }
   ],
   "source": [
    "# How likely is it that a food truck will show up sometime this week?\n",
    "#\n",
    "\n",
    "# generating random.random data, for 5 days\n",
    "p_truck =.7\n",
    "\n",
    "ncols = 5\n",
    "nrows = 10_000\n",
    "\n",
    "data = np.random.random((nrows, ncols))\n",
    "data\n",
    "(food_truck.sum(axis = 1) >= 1).mean()"
   ]
  },
  {
   "cell_type": "markdown",
   "id": "99300b78",
   "metadata": {},
   "source": [
    "### Alternative code  ---------"
   ]
  },
  {
   "cell_type": "code",
   "execution_count": 55,
   "id": "1ef3594f",
   "metadata": {
    "scrolled": false
   },
   "outputs": [
    {
     "data": {
      "text/plain": [
       "array([[1, 0, 1, 1, 1],\n",
       "       [1, 1, 1, 1, 1],\n",
       "       [1, 1, 0, 1, 0],\n",
       "       ...,\n",
       "       [0, 0, 0, 1, 1],\n",
       "       [1, 1, 1, 1, 1],\n",
       "       [1, 1, 0, 1, 1]])"
      ]
     },
     "execution_count": 55,
     "metadata": {},
     "output_type": "execute_result"
    }
   ],
   "source": [
    "trucks1 = np.random.choice([0, 1], size = (10000, 5), p = [0.3, 0.7] )\n",
    "trucks1"
   ]
  },
  {
   "cell_type": "code",
   "execution_count": 56,
   "id": "a9dfce95",
   "metadata": {},
   "outputs": [
    {
     "data": {
      "text/plain": [
       "0.002"
      ]
     },
     "execution_count": 56,
     "metadata": {},
     "output_type": "execute_result"
    }
   ],
   "source": [
    "#probability of food truck not showing up 3 days in a row\n",
    "(trucks1.sum(axis =1)==0).mean()"
   ]
  },
  {
   "cell_type": "code",
   "execution_count": 57,
   "id": "1e1fe9f9",
   "metadata": {},
   "outputs": [
    {
     "data": {
      "text/plain": [
       "0.998"
      ]
     },
     "execution_count": 57,
     "metadata": {},
     "output_type": "execute_result"
    }
   ],
   "source": [
    "# How likely is it that a food truck will show up sometime this week?\n",
    "(trucks1.sum(axis = 1) >= 1).mean()"
   ]
  },
  {
   "cell_type": "markdown",
   "id": "23d331dc",
   "metadata": {},
   "source": [
    "### 8. If 23 people are in the same room, what are the odds that two of them share a birthday? What if it's 20 people? 40?\n",
    "\n",
    "#### <font color= blue> The probability of having two people in a room of 23 with the same birthday is 0.5073.\n",
    "#### <font color= blue> The probability of having two people in a room of 20 with the same birthday is 0.4145.\n",
    "#### <font color= blue> The probability of having two people in a room of 20 with the same birthday is 0.8954."
   ]
  },
  {
   "cell_type": "code",
   "execution_count": 33,
   "id": "a7617875",
   "metadata": {},
   "outputs": [
    {
     "data": {
      "text/plain": [
       "array([[214, 228, 322, ..., 115,  15,  55],\n",
       "       [227, 225, 176, ..., 146, 298,  71],\n",
       "       [ 14, 151,  20, ...,   3, 106, 271],\n",
       "       ...,\n",
       "       [302,  74,  88, ...,  43, 351,  49],\n",
       "       [213,  35,  62, ..., 319, 154, 323],\n",
       "       [284,  88, 110, ..., 348, 145, 137]])"
      ]
     },
     "execution_count": 33,
     "metadata": {},
     "output_type": "execute_result"
    }
   ],
   "source": [
    "# we similate 1000 rooms,each with 23 people in them\n",
    "bd = np.random.choice(range(1,366), size = (10000,23))\n",
    "bd"
   ]
  },
  {
   "cell_type": "code",
   "execution_count": 34,
   "id": "f6bdb220",
   "metadata": {},
   "outputs": [
    {
     "data": {
      "text/plain": [
       "0       23\n",
       "1       22\n",
       "2       23\n",
       "3       23\n",
       "4       22\n",
       "        ..\n",
       "9995    23\n",
       "9996    23\n",
       "9997    23\n",
       "9998    22\n",
       "9999    22\n",
       "Length: 10000, dtype: int64"
      ]
     },
     "execution_count": 34,
     "metadata": {},
     "output_type": "execute_result"
    }
   ],
   "source": [
    "# unique birthdays should be 23 unless there is doubles\n",
    "pd.DataFrame(bd).nunique(axis =1)"
   ]
  },
  {
   "cell_type": "code",
   "execution_count": 35,
   "id": "b0c0ccac",
   "metadata": {},
   "outputs": [
    {
     "data": {
      "text/plain": [
       "0.5073"
      ]
     },
     "execution_count": 35,
     "metadata": {},
     "output_type": "execute_result"
    }
   ],
   "source": [
    "# percentage of rooms with a shared birthday\n",
    "(pd.DataFrame(bd).nunique(axis =1)< 23).mean()"
   ]
  },
  {
   "cell_type": "code",
   "execution_count": 37,
   "id": "e0b699de",
   "metadata": {},
   "outputs": [
    {
     "data": {
      "text/plain": [
       "0.4145"
      ]
     },
     "execution_count": 37,
     "metadata": {},
     "output_type": "execute_result"
    }
   ],
   "source": [
    "# what about the probability 20 people sharing a birthday\n",
    "bd = np.random.choice(range(1,366), size = (10000,20))\n",
    "pd.DataFrame(bd).nunique(axis =1)\n",
    "(pd.DataFrame(bd).nunique(axis =1)< 20).mean()\n",
    "\n"
   ]
  },
  {
   "cell_type": "code",
   "execution_count": 38,
   "id": "65a09820",
   "metadata": {},
   "outputs": [
    {
     "data": {
      "text/plain": [
       "0.8954"
      ]
     },
     "execution_count": 38,
     "metadata": {},
     "output_type": "execute_result"
    }
   ],
   "source": [
    "# what about the probability of 40 people sharing a birthday\n",
    "bd = np.random.choice(range(1,366), size = (10000,40))\n",
    "pd.DataFrame(bd).nunique(axis =1)\n",
    "(pd.DataFrame(bd).nunique(axis =1)< 40).mean()\n",
    "\n"
   ]
  }
 ],
 "metadata": {
  "kernelspec": {
   "display_name": "Python 3 (ipykernel)",
   "language": "python",
   "name": "python3"
  },
  "language_info": {
   "codemirror_mode": {
    "name": "ipython",
    "version": 3
   },
   "file_extension": ".py",
   "mimetype": "text/x-python",
   "name": "python",
   "nbconvert_exporter": "python",
   "pygments_lexer": "ipython3",
   "version": "3.9.12"
  }
 },
 "nbformat": 4,
 "nbformat_minor": 5
}
