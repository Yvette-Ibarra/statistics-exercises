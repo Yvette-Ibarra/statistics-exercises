{
 "cells": [
  {
   "cell_type": "markdown",
   "id": "90d7fe4b",
   "metadata": {},
   "source": [
    "# $Probability Distributions$"
   ]
  },
  {
   "cell_type": "code",
   "execution_count": 12,
   "id": "4d980547",
   "metadata": {},
   "outputs": [],
   "source": [
    "# pyplot for plotting\n",
    "import matplotlib.pyplot as plt\n",
    "# numpy for vectorized array operations\n",
    "import numpy as np\n",
    "# pandas for proper tabular manipulation\n",
    "import pandas as pd\n",
    "# scipy stats for our subversions\n",
    "from scipy import stats"
   ]
  },
  {
   "cell_type": "markdown",
   "id": "b64c567b",
   "metadata": {},
   "source": [
    "## 1. A bank found that the average number of cars waiting during the noon hour at a drive-up window follows a Poisson distribution with a mean of 2 cars. Make a chart of this distribution and answer these questions concerning the probability of cars waiting at the drive-up window.\n",
    "* What is the probability that no cars drive up in the noon hour?\n",
    "* What is the probability that 3 or more cars come through the drive through?\n",
    "* How likely is it that the drive through gets at least 1 car?"
   ]
  },
  {
   "cell_type": "code",
   "execution_count": 16,
   "id": "febedc26",
   "metadata": {},
   "outputs": [],
   "source": [
    "# defining lambda\n",
    "λ = 2\n"
   ]
  },
  {
   "cell_type": "code",
   "execution_count": 17,
   "id": "8af503ad",
   "metadata": {},
   "outputs": [],
   "source": [
    "# set up poisson function\n",
    "cars = stats.poisson(λ)"
   ]
  },
  {
   "cell_type": "code",
   "execution_count": 18,
   "id": "2fb21079",
   "metadata": {},
   "outputs": [
    {
     "data": {
      "text/plain": [
       "0.1353352832366127"
      ]
     },
     "execution_count": 18,
     "metadata": {},
     "output_type": "execute_result"
    }
   ],
   "source": [
    "# probability of no cars at noon\n",
    "cars.pmf(0)"
   ]
  },
  {
   "cell_type": "code",
   "execution_count": 19,
   "id": "d2da6a27",
   "metadata": {},
   "outputs": [
    {
     "data": {
      "text/plain": [
       "0.14287653950145296"
      ]
     },
     "execution_count": 19,
     "metadata": {},
     "output_type": "execute_result"
    }
   ],
   "source": [
    "# probability of 3 or more cars\n",
    "cars.sf(3)"
   ]
  },
  {
   "cell_type": "code",
   "execution_count": 21,
   "id": "1ebaaeaa",
   "metadata": {},
   "outputs": [
    {
     "data": {
      "text/plain": [
       "0.5939941502901616"
      ]
     },
     "execution_count": 21,
     "metadata": {},
     "output_type": "execute_result"
    }
   ],
   "source": [
    "# probability of at least 1 car in the drive through\n",
    "cars.sf(1)"
   ]
  },
  {
   "cell_type": "markdown",
   "id": "dc0d141d",
   "metadata": {},
   "source": [
    "## 2. Grades of State University graduates are normally distributed with a mean of 3.0 and a standard deviation of .3. Calculate the following:\n",
    "* What grade point average is required to be in the top 5% of the graduating class?\n",
    "* What GPA constitutes the bottom 15% of the class?\n",
    "* An eccentric alumnus left scholarship money for students in the third decile from the bottom of their class. Determine the range of the third decile. Would a student with a 2.8 grade point average qualify for this scholarship?\n",
    "* If I have a GPA of 3.5, what percentile am I in?"
   ]
  },
  {
   "cell_type": "code",
   "execution_count": 30,
   "id": "f485eaa6",
   "metadata": {},
   "outputs": [],
   "source": [
    "# set up normal given mean and average\n",
    "μ = 3.0\n",
    "σ = .3\n",
    "gpa = stats.norm(μ, σ)"
   ]
  },
  {
   "cell_type": "code",
   "execution_count": 31,
   "id": "38bf86be",
   "metadata": {},
   "outputs": [
    {
     "data": {
      "text/plain": [
       "3.4934560880854417"
      ]
     },
     "execution_count": 31,
     "metadata": {},
     "output_type": "execute_result"
    }
   ],
   "source": [
    "# top 5% must have 3.4934 gpa or higher\n",
    "gpa.isf(.05)"
   ]
  },
  {
   "cell_type": "code",
   "execution_count": 35,
   "id": "5dd099f9",
   "metadata": {},
   "outputs": [
    {
     "data": {
      "text/plain": [
       "1.0494515075362604e-21"
      ]
     },
     "execution_count": 35,
     "metadata": {},
     "output_type": "execute_result"
    }
   ],
   "source": [
    "# This GPA and lower are the bottom 15% GPA's\n",
    "gpa.cdf(.15)"
   ]
  },
  {
   "cell_type": "code",
   "execution_count": 38,
   "id": "9452209e",
   "metadata": {},
   "outputs": [
    {
     "data": {
      "text/plain": [
       "1.1285884059538162e-19"
      ]
     },
     "execution_count": 38,
     "metadata": {},
     "output_type": "execute_result"
    }
   ],
   "source": [
    "# third decile from the bottom of class, a student with a 2.8 would not qualify for this scholarship.\n",
    "# range is from 0 to 1.128 GPA\n",
    "gpa.cdf(.3)"
   ]
  },
  {
   "cell_type": "code",
   "execution_count": 41,
   "id": "2e2a35dd",
   "metadata": {},
   "outputs": [
    {
     "data": {
      "text/plain": [
       "0.0477903522728147"
      ]
     },
     "execution_count": 41,
     "metadata": {},
     "output_type": "execute_result"
    }
   ],
   "source": [
    "# The percentile someone with a GPA 3.5 Top percent 4.77%\n",
    "gpa.sf(3.5)"
   ]
  },
  {
   "cell_type": "markdown",
   "id": "0a15fa0f",
   "metadata": {},
   "source": [
    "## 3. A marketing website has an average click-through rate of 2%. One day they observe 4326 visitors and 97 click-throughs. How likely is it that this many people or more click through?"
   ]
  },
  {
   "cell_type": "code",
   "execution_count": 42,
   "id": "30b29e07",
   "metadata": {},
   "outputs": [],
   "source": [
    "prob = .02\n",
    "visits = 4326\n",
    "website_click = stats.binom(visits, prob)"
   ]
  },
  {
   "cell_type": "code",
   "execution_count": 48,
   "id": "c2e2eeb2",
   "metadata": {},
   "outputs": [
    {
     "data": {
      "text/plain": [
       "0.13975823631416448"
      ]
     },
     "execution_count": 48,
     "metadata": {},
     "output_type": "execute_result"
    }
   ],
   "source": [
    "# there is a 13.97% chance that more than 97 or more clicked through\n",
    "website_click.sf(96)"
   ]
  },
  {
   "cell_type": "markdown",
   "id": "3ae317e0",
   "metadata": {},
   "source": [
    "## 4. You are working on some statistics homework consisting of 100 questions where all of the answers are a probability rounded to the hundreths place. Looking to save time, you put down random probabilities as the answer to each question.\n",
    "What is the probability that at least one of your first 60 answers is correct?"
   ]
  },
  {
   "cell_type": "code",
   "execution_count": 62,
   "id": "7f167921",
   "metadata": {},
   "outputs": [],
   "source": [
    "#set up binomila with 60 trials\n",
    "questions = 60\n",
    "prob = .01 \n",
    "right_question = stats.binom(questions, prob)"
   ]
  },
  {
   "cell_type": "code",
   "execution_count": 63,
   "id": "6309dc04",
   "metadata": {},
   "outputs": [
    {
     "data": {
      "text/plain": [
       "0.12123327131180726"
      ]
     },
     "execution_count": 63,
     "metadata": {},
     "output_type": "execute_result"
    }
   ],
   "source": [
    "# There is a 12.12% probability of getting at least one answer correct in the first 60 questions\n",
    "right_question.sf(1)"
   ]
  },
  {
   "cell_type": "markdown",
   "id": "d9637a73",
   "metadata": {},
   "source": [
    "## 5. The codeup staff tends to get upset when the student break area is not cleaned up. Suppose that there's a 3% chance that any one student cleans the break area when they visit it, and, on any given day, about 90% of the 3 active cohorts of 22 students visit the break area. How likely is it that the break area gets cleaned up each day? How likely is it that it goes two days without getting cleaned up? All week?"
   ]
  },
  {
   "cell_type": "code",
   "execution_count": 67,
   "id": "906bc30d",
   "metadata": {},
   "outputs": [],
   "source": [
    "# set up binomial distribution \n",
    "prob = .03\n",
    "visits = 60\n",
    "cleaned_area = stats.binom(visits, prob)"
   ]
  },
  {
   "cell_type": "code",
   "execution_count": 68,
   "id": "b683b9c1",
   "metadata": {},
   "outputs": [
    {
     "data": {
      "text/plain": [
       "0.540789202897146"
      ]
     },
     "execution_count": 68,
     "metadata": {},
     "output_type": "execute_result"
    }
   ],
   "source": [
    "# the probability of the break room being cleaned at least once.\n",
    "cleaned_area.sf(1)"
   ]
  },
  {
   "cell_type": "code",
   "execution_count": 77,
   "id": "cc09c471",
   "metadata": {},
   "outputs": [
    {
     "data": {
      "text/plain": [
       "0.27225531273394876"
      ]
     },
     "execution_count": 77,
     "metadata": {},
     "output_type": "execute_result"
    }
   ],
   "source": [
    "cleaned_area.pmf(2)"
   ]
  },
  {
   "cell_type": "code",
   "execution_count": null,
   "id": "c01813b1",
   "metadata": {},
   "outputs": [],
   "source": [
    "prob = .03\n",
    "visits = 60*5\n",
    "cleaned_area = stats.binom(visits, prob)"
   ]
  },
  {
   "cell_type": "code",
   "execution_count": 76,
   "id": "cfbabdbe",
   "metadata": {
    "scrolled": true
   },
   "outputs": [
    {
     "data": {
      "text/plain": [
       "0.2984041280812768"
      ]
     },
     "execution_count": 76,
     "metadata": {},
     "output_type": "execute_result"
    }
   ],
   "source": [
    "cleaned_area.pmf(1)"
   ]
  },
  {
   "cell_type": "code",
   "execution_count": 69,
   "id": "d52278a3",
   "metadata": {},
   "outputs": [
    {
     "data": {
      "text/plain": [
       "0.2108745561758385"
      ]
     },
     "execution_count": 69,
     "metadata": {},
     "output_type": "execute_result"
    }
   ],
   "source": [
    "# the probability of room not cleaned for 2 days is 21.08 %\n",
    "(1 - cleaned_area.sf(1))**2"
   ]
  },
  {
   "cell_type": "code",
   "execution_count": 70,
   "id": "d9a2646d",
   "metadata": {},
   "outputs": [
    {
     "data": {
      "text/plain": [
       "0.020420221747146933"
      ]
     },
     "execution_count": 70,
     "metadata": {},
     "output_type": "execute_result"
    }
   ],
   "source": [
    "# the probability of room not cleaned for 5 days is 2.04%\n",
    "(1 - cleaned_area.sf(1))**5"
   ]
  },
  {
   "cell_type": "markdown",
   "id": "758bb7fc",
   "metadata": {},
   "source": [
    "## 6. You want to get lunch at La Panaderia, but notice that the line is usually very long at lunchtime. After several weeks of careful observation, you notice that the average number of people in line when your lunch break starts is normally distributed with a mean of 15 and standard deviation of 3. If it takes 2 minutes for each person to order, and 10 minutes from ordering to getting your food, what is the likelihood that you have at least 15 minutes left to eat your food before you have to go back to class? Assume you have one hour for lunch, and ignore travel time to and from La Panaderia."
   ]
  },
  {
   "cell_type": "code",
   "execution_count": 72,
   "id": "987c8cec",
   "metadata": {},
   "outputs": [],
   "source": [
    "μ = 15\n",
    "σ = 3\n",
    "lunch = stats.norm(μ, σ)"
   ]
  },
  {
   "cell_type": "code",
   "execution_count": 73,
   "id": "912d67bb",
   "metadata": {},
   "outputs": [
    {
     "ename": "AttributeError",
     "evalue": "'norm_gen' object has no attribute 'pmf'",
     "output_type": "error",
     "traceback": [
      "\u001b[0;31m---------------------------------------------------------------------------\u001b[0m",
      "\u001b[0;31mAttributeError\u001b[0m                            Traceback (most recent call last)",
      "Input \u001b[0;32mIn [73]\u001b[0m, in \u001b[0;36m<cell line: 1>\u001b[0;34m()\u001b[0m\n\u001b[0;32m----> 1\u001b[0m \u001b[43mlunch\u001b[49m\u001b[38;5;241;43m.\u001b[39;49m\u001b[43mpmf\u001b[49m\u001b[43m(\u001b[49m\u001b[38;5;241;43m15\u001b[39;49m\u001b[43m)\u001b[49m\n",
      "File \u001b[0;32m/opt/homebrew/anaconda3/lib/python3.9/site-packages/scipy/stats/_distn_infrastructure.py:505\u001b[0m, in \u001b[0;36mrv_frozen.pmf\u001b[0;34m(self, k)\u001b[0m\n\u001b[1;32m    504\u001b[0m \u001b[38;5;28;01mdef\u001b[39;00m \u001b[38;5;21mpmf\u001b[39m(\u001b[38;5;28mself\u001b[39m, k):\n\u001b[0;32m--> 505\u001b[0m     \u001b[38;5;28;01mreturn\u001b[39;00m \u001b[38;5;28;43mself\u001b[39;49m\u001b[38;5;241;43m.\u001b[39;49m\u001b[43mdist\u001b[49m\u001b[38;5;241;43m.\u001b[39;49m\u001b[43mpmf\u001b[49m(k, \u001b[38;5;241m*\u001b[39m\u001b[38;5;28mself\u001b[39m\u001b[38;5;241m.\u001b[39margs, \u001b[38;5;241m*\u001b[39m\u001b[38;5;241m*\u001b[39m\u001b[38;5;28mself\u001b[39m\u001b[38;5;241m.\u001b[39mkwds)\n",
      "\u001b[0;31mAttributeError\u001b[0m: 'norm_gen' object has no attribute 'pmf'"
     ]
    }
   ],
   "source": [
    "lunch.pmf(15)"
   ]
  },
  {
   "cell_type": "markdown",
   "id": "8df06477",
   "metadata": {},
   "source": [
    "## 7. Connect to the employees database and find the average salary of current employees, along with the standard deviation. For the following questions, calculate the answer based on modeling the employees salaries with a normal distribution defined by the calculated mean and standard deviation then compare this answer to the actual values present in the salaries dataset.\n",
    "* What percent of employees earn less than 60,000?\n",
    "* What percent of employees earn more than 95,000?\n",
    "* What percent of employees earn between 65,000 and 80,000?\n",
    "* What do the top 5% of employees make?\n",
    "\n",
    "Hint If you're looking at this exercise and wondering \"How do I get pandas to talk the database, again?\", remember that you'll need 3 things: your .gitignore, your env.py, and to use pd.read_sql. Copy over your .gitignore and env.py from your data science libraries exercises folder, and connect to the employees database like so:"
   ]
  }
 ],
 "metadata": {
  "kernelspec": {
   "display_name": "Python 3 (ipykernel)",
   "language": "python",
   "name": "python3"
  },
  "language_info": {
   "codemirror_mode": {
    "name": "ipython",
    "version": 3
   },
   "file_extension": ".py",
   "mimetype": "text/x-python",
   "name": "python",
   "nbconvert_exporter": "python",
   "pygments_lexer": "ipython3",
   "version": "3.9.12"
  }
 },
 "nbformat": 4,
 "nbformat_minor": 5
}
