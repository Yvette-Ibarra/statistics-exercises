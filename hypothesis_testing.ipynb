{
 "cells": [
  {
   "cell_type": "markdown",
   "id": "53766878",
   "metadata": {},
   "source": [
    "# $ Hypothesis Testing$"
   ]
  },
  {
   "cell_type": "markdown",
   "id": "c6ff0658",
   "metadata": {},
   "source": [
    "For each of the following questions:\n",
    "* formulate a null and alternative hypothesis (be as specific as you can be), \n",
    "* then give an example of what a true positive, true negative, type I and type II errors would look like. \n",
    "\n",
    "Note that some of the questions are intentionally phrased in a vague way. It is your job to reword these as more precise questions that could be tested.\n"
   ]
  },
  {
   "cell_type": "markdown",
   "id": "a949cc2d",
   "metadata": {},
   "source": [
    "### 1. \"Has the network latency gone up since we switched internet service providers?\"\n",
    "T-test\n",
    "#### Is there a relationship between data speed and internet provider\n",
    "Data Types: \n",
    "\n",
    "        - data speed (discrete, numeric) use bins\n",
    "        \n",
    "        - internet providers(discrete, Boolean)\n",
    "WE are testing Dependency\n",
    "\n",
    "$H_{0}$: There is no relationship between internet providers and data speed\n",
    "\n",
    "$H_{a}$: There is a relationship between internet providers and data speed\n",
    "\n"
   ]
  },
  {
   "cell_type": "markdown",
   "id": "3d2dfdc3",
   "metadata": {},
   "source": [
    "###### True Negative:\n",
    "There is no relatinship between internet providers and data speed and our testing failed to reject $H_{0}"
   ]
  },
  {
   "cell_type": "markdown",
   "id": "3562d490",
   "metadata": {},
   "source": [
    "###### True Positive: \n",
    "There is a relationship between internet providers and data speed and our testing rejected $H_{0}\n"
   ]
  },
  {
   "cell_type": "markdown",
   "id": "7d1155bd",
   "metadata": {},
   "source": [
    "###### Type I Error (Reject null when null was true): \n",
    "There is no relationship between the data speed and internet providers but our conclusions found that there was a relationship."
   ]
  },
  {
   "cell_type": "markdown",
   "id": "bd48dc14",
   "metadata": {},
   "source": [
    "###### Type II Error (Accept null when null was false): \n",
    "There is a relationship between the data speed and the internet provider but our conclusion failed to determined the existance of such relationship."
   ]
  },
  {
   "cell_type": "markdown",
   "id": "fb65aec4",
   "metadata": {},
   "source": [
    "### 1. \"Has the network latency gone up since we switched internet service providers?\"\n",
    "T-test\n",
    "#### Is there an increase of mean latency with the new internet service providers\n",
    "Data Types: \n",
    "\n",
    "        - latency (continuous, numeric) use bins\n",
    "        \n",
    "        - internet providers(discrete, Boolean)\n",
    "We are testing difference the difference between two means\n",
    "\n",
    "$H_{0}$: the mean latency group a(new internet provider) < = to the mean latency group b(previous internet provider)\n",
    "\n",
    "$H_{a}$: the mean latency group a(new internet provider) > to the mean latency group b(previous internet provider)\n",
    "    \n",
    "* True Negative:\n",
    "    Latency did not go up and we said it did not go up\n",
    "     \n",
    "* True Positive:\n",
    "    Latency went up and we said it went up\n",
    "    \n",
    "* Type I Error:\n",
    "    Latency did not go up but we said it did\n",
    "    \n",
    "* Type II Error:\n",
    "    Latency did go up but we said it did not.\n",
    "\n"
   ]
  },
  {
   "cell_type": "markdown",
   "id": "d0dd62a3",
   "metadata": {},
   "source": [
    "### 2.  \"Is the website redesign any good?\"\n",
    "##### Does our website design increase the  engagement of our targeted audience?\n",
    "Data Types: \n",
    "        -new website desgin (discrete, Boolean)\n",
    "        -engagement of targeted audience(continuous, numeric)\n",
    "WE are testing difference\n",
    "\n",
    "$H_{0}$: The mean engament of our targeted audiences with our original website >=  The mean engament of our targeted audiences with our new website\n",
    "\n",
    "$H_{a}$: The mean engament of our targeted audiences with our original website < The mean engament of our targeted audiences with our new website\n",
    "\n"
   ]
  },
  {
   "cell_type": "markdown",
   "id": "9e20af9c",
   "metadata": {},
   "source": [
    "###### True Negative:\n",
    "The new website does not increase targeted audience engagement and we failed to reject $H_{0}$ "
   ]
  },
  {
   "cell_type": "markdown",
   "id": "1f01b32b",
   "metadata": {},
   "source": [
    "###### True Positive:\n",
    "The new website does increased engagement with targeted audience and we rejected $H_{0}$"
   ]
  },
  {
   "cell_type": "markdown",
   "id": "e1cd2853",
   "metadata": {},
   "source": [
    "###### Type I Error (Reject null when null was true):\n",
    "The new website does not increase engagement with targeted audience and we concluded that our new webside does increase engagement"
   ]
  },
  {
   "cell_type": "markdown",
   "id": "6be2d9e7",
   "metadata": {},
   "source": [
    "###### Type II Error (Accept null when null was false):\n",
    "The new website does increase engagement with targeted audience and we concluded that our new webside does not increase engagement"
   ]
  },
  {
   "cell_type": "markdown",
   "id": "d42f89df",
   "metadata": {},
   "source": [
    "### 2.  \"Is the website redesign any good?\"\n",
    "##### Does our website design increase the  engagement of our targeted audience?\n",
    "Data Types: \n",
    "        -old vs new website desgin (discrete, Boolean)\n",
    "        -Time on site in seconds(continuous, numeric)\n",
    "\n",
    "WE are testing difference\n",
    "\n",
    "$H_{0}$: The mean time of our old website >=  The mean time with our new website\n",
    "\n",
    "$H_{a}$: The mean time of our old website <  The mean time with our new website \n",
    "    \n",
    "* True Negative:\n",
    "    Visitors spent less or equal time now and we said that\n",
    "    \n",
    "* True Postive:\n",
    "    Visitors spend more time and we stated that\n",
    "    \n",
    "* Type I Error:\n",
    "    We stated the site was better but it is not\n",
    "    \n",
    "* Type II Error:\n",
    "    We stated the site was better but it is better\n",
    "\n"
   ]
  },
  {
   "cell_type": "markdown",
   "id": "870b8204",
   "metadata": {},
   "source": [
    "### 3. \"Is our television ad driving more sales?\"\n",
    "\n",
    "#### Is there a linear relationship between sales and the time period our television ad was run\n",
    "#### Where mean sales increased in the time period that our ads where showing on television?\n",
    "\n",
    "Data Types: \n",
    "        -Sales (continuous, numeric)\n",
    "        -Time period Ad was ran (discrete, Boolean)\n",
    "        \n",
    "WE are testing Difference\n",
    "\n",
    "$H_{0}$: The mean sales while ad did not show on television >= The mean sales while ad did show on television\n",
    "\n",
    "$H_{a}$: The mean sales while ad did not show on television < The mean sales while ad did show on television\n",
    "\n"
   ]
  },
  {
   "cell_type": "markdown",
   "id": "2711a11c",
   "metadata": {},
   "source": [
    "###### True Negative:\n",
    "The television ad does not increase sales and and we failed to reject $H_{0}$ "
   ]
  },
  {
   "cell_type": "markdown",
   "id": "950b0a65",
   "metadata": {},
   "source": [
    "###### True Positive:\n",
    "The television ad does increase sales and and we reject $H_{0}$ \n",
    "\n",
    " "
   ]
  },
  {
   "cell_type": "markdown",
   "id": "a50561dc",
   "metadata": {},
   "source": [
    "###### Type I Error (Reject null when null was true):\n",
    "The television ad does not increase sales but our conclusions state that it does increase sales"
   ]
  },
  {
   "cell_type": "markdown",
   "id": "1faf64b9",
   "metadata": {},
   "source": [
    "###### Type II Error (Accept null when null was false):\n",
    "The television ad does increase sales but our conclusions state that it does not increase sales."
   ]
  },
  {
   "cell_type": "markdown",
   "id": "2fb9e813",
   "metadata": {},
   "source": [
    "### 3. \"Is our television ad driving more sales?\"\n",
    "\n",
    "#### \n",
    "\n",
    "T-test\n",
    "Data Types: \n",
    "        -Sales (continuous, numeric)\n",
    "        - pre-Ad  (discrete, Boolean)\n",
    "        \n",
    "WE are testing Difference\n",
    "\n",
    "$H_{0}$: The mean sales pre-Ad >= The mean sales post-Ad\n",
    "\n",
    "$H_{a}$: The mean sales pre-Ad < The mean sales post-Ad\n",
    "\n",
    "\n",
    "\n",
    "* True Negative:\n",
    "    Sales did not increased post-Ad and we stated that\n",
    "    \n",
    "* True Positive:\n",
    "    post-ad sales increased and we stated that they would increase\n",
    "    \n",
    "* Type I Error:\n",
    "    Post-Ad sales are not increased but we said they did increased\n",
    "    \n",
    "* Type II Error:\n",
    "    Post-Ad sales increased but we said that sales did not increased.\n",
    "    Ad was working but we didnt think so \n",
    "\n"
   ]
  },
  {
   "cell_type": "markdown",
   "id": "22a14c2b",
   "metadata": {},
   "source": [
    "# $T-Test Exercises$"
   ]
  },
  {
   "cell_type": "markdown",
   "id": "9c3fd3e5",
   "metadata": {},
   "source": [
    "### Imports"
   ]
  },
  {
   "cell_type": "code",
   "execution_count": 90,
   "id": "cd8b5e8f",
   "metadata": {},
   "outputs": [],
   "source": [
    "# pyplot for plotting\n",
    "import matplotlib.pyplot as plt\n",
    "# numpy for vectorized array operations\n",
    "import numpy as np\n",
    "# pandas for proper tabular manipulation\n",
    "import pandas as pd\n",
    "# scipy stats for our subversions\n",
    "from scipy import stats\n",
    "from pydataset import data\n",
    "import seaborn as sns"
   ]
  },
  {
   "cell_type": "markdown",
   "id": "888e0ab2",
   "metadata": {},
   "source": [
    "# 1.\n",
    "Answer with the type of test you would use (assume normal distribution):\n"
   ]
  },
  {
   "cell_type": "markdown",
   "id": "4461ea54",
   "metadata": {},
   "source": [
    "* Is there a difference in grades of students on the second floor compared to grades of all students?\n",
    "\n",
    "This situation compares the mean of and individual against a group.  The difference grades of students on the second floor compared to grades of all students.\n",
    "\n",
    "One sample t-test: scipy.stats.ttest_1samp, Two tails\n"
   ]
  },
  {
   "cell_type": "markdown",
   "id": "0e05614d",
   "metadata": {},
   "source": [
    "* Are adults who drink milk taller than adults who dont drink milk?\n",
    "\n",
    "This situation compares two heights means of the groups adults who drink milk and Adults who do not drink milk. \n",
    "\n",
    "Independent t-test (or 2-sample), One - Tail"
   ]
  },
  {
   "cell_type": "markdown",
   "id": "059aae0f",
   "metadata": {},
   "source": [
    "* Is the the price of gas higher in texas or in new mexico?\n",
    "\n",
    "This compares two means of gas prices of differnt regions Texas and New Mexico:\n",
    "\n",
    "Independent t-test (or 2-sample), One - Tail"
   ]
  },
  {
   "cell_type": "markdown",
   "id": "56f4a401",
   "metadata": {},
   "source": [
    "* Are there differences in stress levels between students who take data science vs students who take web development vs students who take cloud academy?\n",
    "\n",
    "This compares three differnt means of stress levels of groups a,b,and c:\n",
    "    \n",
    "ANOVA"
   ]
  },
  {
   "cell_type": "markdown",
   "id": "bf5e2319",
   "metadata": {},
   "source": [
    "# 2. \n",
    "Ace Realty wants to determine whether the average time it takes to sell homes is different for its two offices. A sample of 40 sales from office #1 revealed a mean of 90 days and a standard deviation of 15 days. A sample of 50 sales from office #2 revealed a mean of 100 days and a standard deviation of 20 days. Use a .05 level of significance.\n",
    "\n"
   ]
  },
  {
   "cell_type": "markdown",
   "id": "cb10082a",
   "metadata": {},
   "source": [
    "What are we comparing?\n",
    "\n",
    "-We are comparing the average time(continuous, numberic) of two offices(discrete, categories).\n",
    "- One Sample of two sample?\n",
    "    * two sample; two groups out of the population\n",
    "- One tailed or two tailed?\n",
    "    * two tailed; we are looking for difference\n",
    "\n",
    "Variables:\n",
    "\n",
    "    * mean days to sell home(continuous, numeric)\n",
    "    * Office A vs Office B (discrete, boolean)\n",
    "    \n",
    "Test: \n",
    "\n",
    "    * Independent t-test (or 2-sample): scipy.stats.ttest_in\n",
    "    (if levene is passed to show equal variance) \n",
    "       Else:\n",
    "    * Mann-Whitney's test\n",
    "    * will use Two-Tails  to show inequality\n",
    "    * alpha = 0.5\n",
    "Office A mean : 90 days, std: 15 Sample Size = 40\n",
    "\n",
    "Office B mean : 100 days, std: 20 Sample Size = 50\n"
   ]
  },
  {
   "cell_type": "markdown",
   "id": "2f678224",
   "metadata": {},
   "source": [
    "$H_0$: Average time to sell at Office A == average time to sell at Office B\n",
    "\n",
    "$H_a$: Average time to sell at Office A != average time to sell at Office B\n",
    "\n",
    "Significance level alpha = 0.05"
   ]
  },
  {
   "cell_type": "code",
   "execution_count": 4,
   "id": "7a2f3210",
   "metadata": {},
   "outputs": [
    {
     "data": {
      "text/plain": [
       "<matplotlib.legend.Legend at 0x145efc580>"
      ]
     },
     "execution_count": 4,
     "metadata": {},
     "output_type": "execute_result"
    },
    {
     "data": {
      "image/png": "[encoded data removed]",
      "text/plain": [
       "<Figure size 648x432 with 1 Axes>"
      ]
     },
     "metadata": {
      "needs_background": "light"
     },
     "output_type": "display_data"
    }
   ],
   "source": [
    "# Visualize two distribution:\n",
    "\n",
    "x = np.arange(50,150)\n",
    "\n",
    "y1 = stats.norm(90,15).pdf(x)\n",
    "y2 = stats.norm(100,20).pdf(x)\n",
    "\n",
    "plt.figure(figsize=(9,6))\n",
    "plt.plot(x, y1, label = 'office 1')\n",
    "plt.plot(x, y2, label = 'office 2')\n",
    "plt.axvline(90, ls = ':')\n",
    "plt.axvline(100, ls = ':', color = 'orange')\n",
    "\n",
    "plt.legend()\n"
   ]
  },
  {
   "cell_type": "code",
   "execution_count": 17,
   "id": "c93efe90",
   "metadata": {
    "scrolled": true
   },
   "outputs": [
    {
     "name": "stdout",
     "output_type": "stream",
     "text": [
      "88.2548689856308\n",
      "99.31616750749785\n"
     ]
    }
   ],
   "source": [
    "#stats.norm(μ, σ)\n",
    "office_a = stats.norm(90, 15).rvs(40)\n",
    "print(office_a.mean())\n",
    "office_b = stats.norm(100, 20).rvs(50)\n",
    "print(office_b.mean())"
   ]
  },
  {
   "cell_type": "code",
   "execution_count": 18,
   "id": "ab1aa932",
   "metadata": {
    "scrolled": true
   },
   "outputs": [
    {
     "data": {
      "text/plain": [
       "186.85314571008612"
      ]
     },
     "execution_count": 18,
     "metadata": {},
     "output_type": "execute_result"
    }
   ],
   "source": [
    "office_a.var()"
   ]
  },
  {
   "cell_type": "code",
   "execution_count": 19,
   "id": "66c287a2",
   "metadata": {},
   "outputs": [
    {
     "data": {
      "text/plain": [
       "390.5619037850359"
      ]
     },
     "execution_count": 19,
     "metadata": {},
     "output_type": "execute_result"
    }
   ],
   "source": [
    "office_b.var()"
   ]
  },
  {
   "cell_type": "code",
   "execution_count": 20,
   "id": "f576c3be",
   "metadata": {
    "scrolled": false
   },
   "outputs": [
    {
     "name": "stdout",
     "output_type": "stream",
     "text": [
      "we can reject H0 ==> inequal variance\n"
     ]
    }
   ],
   "source": [
    "# use Levene test to see if equal variance is true or false\n",
    "stat, pval = stats.levene(office_a, office_b)\n",
    "\n",
    "if pval < 0.05:\n",
    "    print('we can reject H0 ==> inequal variance')"
   ]
  },
  {
   "cell_type": "code",
   "execution_count": 21,
   "id": "c7c7434d",
   "metadata": {},
   "outputs": [
    {
     "data": {
      "text/plain": [
       "0.009282286551936317"
      ]
     },
     "execution_count": 21,
     "metadata": {},
     "output_type": "execute_result"
    }
   ],
   "source": [
    "# depending on pval equal_var is false when p>=0.5\n",
    "# if pval is less than 0.05 then we then equal_var is True\n",
    "pval"
   ]
  },
  {
   "cell_type": "code",
   "execution_count": 22,
   "id": "1d6c1f98",
   "metadata": {},
   "outputs": [
    {
     "name": "stdout",
     "output_type": "stream",
     "text": [
      " t-stat:7.076111146202412\n",
      " p-value:0.009282286551936317\n"
     ]
    }
   ],
   "source": [
    "alpha = 0.05\n",
    "\n",
    "t_stat, p_val = stats.ttest_ind(office_a,office_b, equal_var = False)\n",
    "print(f' t-stat:{stat}')\n",
    "print(f' p-value:{pval}')\n"
   ]
  },
  {
   "cell_type": "code",
   "execution_count": 23,
   "id": "c04c0ca0",
   "metadata": {},
   "outputs": [
    {
     "name": "stdout",
     "output_type": "stream",
     "text": [
      "we can reject H0 \n"
     ]
    }
   ],
   "source": [
    "# if pval is less than .05 we reject the null hypothesis,\n",
    "# if pval is greater than 0.05 we fail to reject the null hypotheis\n",
    "if pval < 0.05:\n",
    "    print('we can reject H0 ')"
   ]
  },
  {
   "cell_type": "code",
   "execution_count": 24,
   "id": "026bc4e2",
   "metadata": {},
   "outputs": [],
   "source": [
    "# we are using random simulating values so our pval for levene\n",
    "# ranges greatly and changes our method of equal_var"
   ]
  },
  {
   "cell_type": "code",
   "execution_count": 25,
   "id": "e380a9ec",
   "metadata": {
    "scrolled": true
   },
   "outputs": [
    {
     "name": "stdout",
     "output_type": "stream",
     "text": [
      "\n",
      "Because the p-value (0.002641670218173098) is less than alpha value (0.05), we reject the null hypothesis\n"
     ]
    }
   ],
   "source": [
    "print(f'''\n",
    "Because the p-value ({p_val}) is less than alpha value ({alpha}), we reject the null hypothesis''')"
   ]
  },
  {
   "cell_type": "markdown",
   "id": "a1ef2e1c",
   "metadata": {},
   "source": [
    "# 2. Load the mpg dataset and use it to answer the following questions:"
   ]
  },
  {
   "cell_type": "code",
   "execution_count": 27,
   "id": "4286c06a",
   "metadata": {},
   "outputs": [],
   "source": [
    "mpg = data('mpg')"
   ]
  },
  {
   "cell_type": "markdown",
   "id": "08c75262",
   "metadata": {},
   "source": [
    "\n",
    "###  Is there a difference in fuel-efficiency in cars from 2008 vs 1999?\n"
   ]
  },
  {
   "cell_type": "markdown",
   "id": "69557c72",
   "metadata": {},
   "source": [
    "- one tail or two tail? Two tailed: looking specifically for inequality\n",
    "- one sample/Two sample? Two sample (independent) Looking to compare values across cars manufactued specifially in 2008\n",
    "- for this one, we perform a ttest_ind on these two subsets of our data"
   ]
  },
  {
   "cell_type": "markdown",
   "id": "b0878742",
   "metadata": {},
   "source": [
    "h0: there is no difference in fuel =efficiency in cars from 2008 vs 1999\n",
    "\n",
    "ha: there is difference in fuel =efficiency in cars from 2008 vs 1999"
   ]
  },
  {
   "cell_type": "markdown",
   "id": "e7d5d3ef",
   "metadata": {},
   "source": [
    "arithmetic meand: (c + h)/2\n",
    "harmonic mean 2/((1/c)+(1/h))"
   ]
  },
  {
   "cell_type": "code",
   "execution_count": 28,
   "id": "f1820833",
   "metadata": {
    "scrolled": true
   },
   "outputs": [
    {
     "data": {
      "text/html": [
       "<div>\n",
       "<style scoped>\n",
       "    .dataframe tbody tr th:only-of-type {\n",
       "        vertical-align: middle;\n",
       "    }\n",
       "\n",
       "    .dataframe tbody tr th {\n",
       "        vertical-align: top;\n",
       "    }\n",
       "\n",
       "    .dataframe thead th {\n",
       "        text-align: right;\n",
       "    }\n",
       "</style>\n",
       "<table border=\"1\" class=\"dataframe\">\n",
       "  <thead>\n",
       "    <tr style=\"text-align: right;\">\n",
       "      <th></th>\n",
       "      <th>manufacturer</th>\n",
       "      <th>model</th>\n",
       "      <th>displ</th>\n",
       "      <th>year</th>\n",
       "      <th>cyl</th>\n",
       "      <th>trans</th>\n",
       "      <th>drv</th>\n",
       "      <th>cty</th>\n",
       "      <th>hwy</th>\n",
       "      <th>fl</th>\n",
       "      <th>class</th>\n",
       "      <th>avg_fe</th>\n",
       "    </tr>\n",
       "  </thead>\n",
       "  <tbody>\n",
       "    <tr>\n",
       "      <th>1</th>\n",
       "      <td>audi</td>\n",
       "      <td>a4</td>\n",
       "      <td>1.8</td>\n",
       "      <td>1999</td>\n",
       "      <td>4</td>\n",
       "      <td>auto(l5)</td>\n",
       "      <td>f</td>\n",
       "      <td>18</td>\n",
       "      <td>29</td>\n",
       "      <td>p</td>\n",
       "      <td>compact</td>\n",
       "      <td>22.212766</td>\n",
       "    </tr>\n",
       "    <tr>\n",
       "      <th>2</th>\n",
       "      <td>audi</td>\n",
       "      <td>a4</td>\n",
       "      <td>1.8</td>\n",
       "      <td>1999</td>\n",
       "      <td>4</td>\n",
       "      <td>manual(m5)</td>\n",
       "      <td>f</td>\n",
       "      <td>21</td>\n",
       "      <td>29</td>\n",
       "      <td>p</td>\n",
       "      <td>compact</td>\n",
       "      <td>24.360000</td>\n",
       "    </tr>\n",
       "    <tr>\n",
       "      <th>3</th>\n",
       "      <td>audi</td>\n",
       "      <td>a4</td>\n",
       "      <td>2.0</td>\n",
       "      <td>2008</td>\n",
       "      <td>4</td>\n",
       "      <td>manual(m6)</td>\n",
       "      <td>f</td>\n",
       "      <td>20</td>\n",
       "      <td>31</td>\n",
       "      <td>p</td>\n",
       "      <td>compact</td>\n",
       "      <td>24.313725</td>\n",
       "    </tr>\n",
       "    <tr>\n",
       "      <th>4</th>\n",
       "      <td>audi</td>\n",
       "      <td>a4</td>\n",
       "      <td>2.0</td>\n",
       "      <td>2008</td>\n",
       "      <td>4</td>\n",
       "      <td>auto(av)</td>\n",
       "      <td>f</td>\n",
       "      <td>21</td>\n",
       "      <td>30</td>\n",
       "      <td>p</td>\n",
       "      <td>compact</td>\n",
       "      <td>24.705882</td>\n",
       "    </tr>\n",
       "    <tr>\n",
       "      <th>5</th>\n",
       "      <td>audi</td>\n",
       "      <td>a4</td>\n",
       "      <td>2.8</td>\n",
       "      <td>1999</td>\n",
       "      <td>6</td>\n",
       "      <td>auto(l5)</td>\n",
       "      <td>f</td>\n",
       "      <td>16</td>\n",
       "      <td>26</td>\n",
       "      <td>p</td>\n",
       "      <td>compact</td>\n",
       "      <td>19.809524</td>\n",
       "    </tr>\n",
       "    <tr>\n",
       "      <th>...</th>\n",
       "      <td>...</td>\n",
       "      <td>...</td>\n",
       "      <td>...</td>\n",
       "      <td>...</td>\n",
       "      <td>...</td>\n",
       "      <td>...</td>\n",
       "      <td>...</td>\n",
       "      <td>...</td>\n",
       "      <td>...</td>\n",
       "      <td>...</td>\n",
       "      <td>...</td>\n",
       "      <td>...</td>\n",
       "    </tr>\n",
       "    <tr>\n",
       "      <th>230</th>\n",
       "      <td>volkswagen</td>\n",
       "      <td>passat</td>\n",
       "      <td>2.0</td>\n",
       "      <td>2008</td>\n",
       "      <td>4</td>\n",
       "      <td>auto(s6)</td>\n",
       "      <td>f</td>\n",
       "      <td>19</td>\n",
       "      <td>28</td>\n",
       "      <td>p</td>\n",
       "      <td>midsize</td>\n",
       "      <td>22.638298</td>\n",
       "    </tr>\n",
       "    <tr>\n",
       "      <th>231</th>\n",
       "      <td>volkswagen</td>\n",
       "      <td>passat</td>\n",
       "      <td>2.0</td>\n",
       "      <td>2008</td>\n",
       "      <td>4</td>\n",
       "      <td>manual(m6)</td>\n",
       "      <td>f</td>\n",
       "      <td>21</td>\n",
       "      <td>29</td>\n",
       "      <td>p</td>\n",
       "      <td>midsize</td>\n",
       "      <td>24.360000</td>\n",
       "    </tr>\n",
       "    <tr>\n",
       "      <th>232</th>\n",
       "      <td>volkswagen</td>\n",
       "      <td>passat</td>\n",
       "      <td>2.8</td>\n",
       "      <td>1999</td>\n",
       "      <td>6</td>\n",
       "      <td>auto(l5)</td>\n",
       "      <td>f</td>\n",
       "      <td>16</td>\n",
       "      <td>26</td>\n",
       "      <td>p</td>\n",
       "      <td>midsize</td>\n",
       "      <td>19.809524</td>\n",
       "    </tr>\n",
       "    <tr>\n",
       "      <th>233</th>\n",
       "      <td>volkswagen</td>\n",
       "      <td>passat</td>\n",
       "      <td>2.8</td>\n",
       "      <td>1999</td>\n",
       "      <td>6</td>\n",
       "      <td>manual(m5)</td>\n",
       "      <td>f</td>\n",
       "      <td>18</td>\n",
       "      <td>26</td>\n",
       "      <td>p</td>\n",
       "      <td>midsize</td>\n",
       "      <td>21.272727</td>\n",
       "    </tr>\n",
       "    <tr>\n",
       "      <th>234</th>\n",
       "      <td>volkswagen</td>\n",
       "      <td>passat</td>\n",
       "      <td>3.6</td>\n",
       "      <td>2008</td>\n",
       "      <td>6</td>\n",
       "      <td>auto(s6)</td>\n",
       "      <td>f</td>\n",
       "      <td>17</td>\n",
       "      <td>26</td>\n",
       "      <td>p</td>\n",
       "      <td>midsize</td>\n",
       "      <td>20.558140</td>\n",
       "    </tr>\n",
       "  </tbody>\n",
       "</table>\n",
       "<p>234 rows × 12 columns</p>\n",
       "</div>"
      ],
      "text/plain": [
       "    manufacturer   model  displ  year  cyl       trans drv  cty  hwy fl  \\\n",
       "1           audi      a4    1.8  1999    4    auto(l5)   f   18   29  p   \n",
       "2           audi      a4    1.8  1999    4  manual(m5)   f   21   29  p   \n",
       "3           audi      a4    2.0  2008    4  manual(m6)   f   20   31  p   \n",
       "4           audi      a4    2.0  2008    4    auto(av)   f   21   30  p   \n",
       "5           audi      a4    2.8  1999    6    auto(l5)   f   16   26  p   \n",
       "..           ...     ...    ...   ...  ...         ...  ..  ...  ... ..   \n",
       "230   volkswagen  passat    2.0  2008    4    auto(s6)   f   19   28  p   \n",
       "231   volkswagen  passat    2.0  2008    4  manual(m6)   f   21   29  p   \n",
       "232   volkswagen  passat    2.8  1999    6    auto(l5)   f   16   26  p   \n",
       "233   volkswagen  passat    2.8  1999    6  manual(m5)   f   18   26  p   \n",
       "234   volkswagen  passat    3.6  2008    6    auto(s6)   f   17   26  p   \n",
       "\n",
       "       class     avg_fe  \n",
       "1    compact  22.212766  \n",
       "2    compact  24.360000  \n",
       "3    compact  24.313725  \n",
       "4    compact  24.705882  \n",
       "5    compact  19.809524  \n",
       "..       ...        ...  \n",
       "230  midsize  22.638298  \n",
       "231  midsize  24.360000  \n",
       "232  midsize  19.809524  \n",
       "233  midsize  21.272727  \n",
       "234  midsize  20.558140  \n",
       "\n",
       "[234 rows x 12 columns]"
      ]
     },
     "execution_count": 28,
     "metadata": {},
     "output_type": "execute_result"
    }
   ],
   "source": [
    "# add harmonic mean collumn\n",
    "mpg['avg_fe'] = stats.hmean(mpg[['cty','hwy']], axis =1)\n",
    "mpg"
   ]
  },
  {
   "cell_type": "code",
   "execution_count": 29,
   "id": "50eaefbd",
   "metadata": {},
   "outputs": [],
   "source": [
    "# filter by 2008 year and fuel efficeincy\n",
    "fe_2008 = mpg[mpg.year == 2008].avg_fe\n",
    "fe_1999 = mpg[mpg.year == 1999].avg_fe"
   ]
  },
  {
   "cell_type": "code",
   "execution_count": 33,
   "id": "27f329df",
   "metadata": {},
   "outputs": [
    {
     "data": {
      "text/plain": [
       "<AxesSubplot:>"
      ]
     },
     "execution_count": 33,
     "metadata": {},
     "output_type": "execute_result"
    },
    {
     "data": {
      "image/png": "[encoded data removed]",
      "text/plain": [
       "<Figure size 648x432 with 1 Axes>"
      ]
     },
     "metadata": {
      "needs_background": "light"
     },
     "output_type": "display_data"
    }
   ],
   "source": [
    "# plot distribution for fe_2008\n",
    "plt.figure(figsize=(9,6))\n",
    "fe_2008.hist()\n"
   ]
  },
  {
   "cell_type": "code",
   "execution_count": 34,
   "id": "4605d76c",
   "metadata": {},
   "outputs": [
    {
     "data": {
      "text/plain": [
       "<AxesSubplot:>"
      ]
     },
     "execution_count": 34,
     "metadata": {},
     "output_type": "execute_result"
    },
    {
     "data": {
      "image/png": "[encoded data removed]",
      "text/plain": [
       "<Figure size 648x432 with 1 Axes>"
      ]
     },
     "metadata": {
      "needs_background": "light"
     },
     "output_type": "display_data"
    }
   ],
   "source": [
    "# plot distribution for fe_2008\n",
    "plt.figure(figsize=(9,6))\n",
    "fe_1999.hist()"
   ]
  },
  {
   "cell_type": "code",
   "execution_count": 108,
   "id": "1c31c9e6",
   "metadata": {},
   "outputs": [
    {
     "data": {
      "text/plain": [
       "(117, 117)"
      ]
     },
     "execution_count": 108,
     "metadata": {},
     "output_type": "execute_result"
    }
   ],
   "source": [
    "# how many observations I have for each sample? (N>30,we we meet normality condition)\n",
    "\n",
    "fe_2008.count(),fe_1999.count()"
   ]
  },
  {
   "cell_type": "code",
   "execution_count": 109,
   "id": "fec3056e",
   "metadata": {},
   "outputs": [
    {
     "data": {
      "text/plain": [
       "(22.550836772260343, 25.850396545865912)"
      ]
     },
     "execution_count": 109,
     "metadata": {},
     "output_type": "execute_result"
    }
   ],
   "source": [
    "# is the variance same for both sample? Yes\n",
    "\n",
    "fe_2008.var(),fe_1999.var()"
   ]
  },
  {
   "cell_type": "code",
   "execution_count": 35,
   "id": "cb90d15f",
   "metadata": {},
   "outputs": [
    {
     "name": "stdout",
     "output_type": "stream",
     "text": [
      "we can reject H0 ==> inequal variance\n"
     ]
    }
   ],
   "source": [
    "# # stats Levene test - returns p value. small p-value means unequal variances\n",
    "stats.levene(fe_2008, fe_1999)\n",
    "\n",
    "# high p-value suggests that the populations have equal variances\n",
    "\n",
    "if pval < 0.05:\n",
    "    print('we can reject H0 ==> inequal variance')"
   ]
  },
  {
   "cell_type": "code",
   "execution_count": 37,
   "id": "fc83f82c",
   "metadata": {},
   "outputs": [
    {
     "data": {
      "text/plain": [
       "(-0.3011962975077886, 0.7635345888327115)"
      ]
     },
     "execution_count": 37,
     "metadata": {},
     "output_type": "execute_result"
    }
   ],
   "source": [
    "t, p = stats.ttest_ind(fe_2008, fe_1999)\n",
    "t,p"
   ]
  },
  {
   "cell_type": "code",
   "execution_count": 38,
   "id": "0e443564",
   "metadata": {},
   "outputs": [
    {
     "name": "stdout",
     "output_type": "stream",
     "text": [
      "\n",
      "Because p (0.764) > alpha (.05), we fail to reject the null hypothesis that there is no difference in fuel-efficency in cars from 2008 and 1999.\n"
     ]
    }
   ],
   "source": [
    "# because p value is greater than alpha we fail \n",
    "# to reject null and there is no difference in fuel-efficiency in cars\n",
    "# form 2008 and 1999\n",
    "print(f'''\n",
    "Because p ({p:.3f}) > alpha (.05), we fail to reject the null\\\n",
    " hypothesis that there is no difference in fuel-efficency in cars\\\n",
    " from 2008 and 1999.''')"
   ]
  },
  {
   "cell_type": "code",
   "execution_count": 115,
   "id": "d556ae82",
   "metadata": {},
   "outputs": [
    {
     "data": {
      "text/plain": [
       "(19.488662986569054, 19.68238764869729)"
      ]
     },
     "execution_count": 115,
     "metadata": {},
     "output_type": "execute_result"
    }
   ],
   "source": [
    "# we can compare means but ttest gives us that backing\n",
    "# of the resulst that we are seeing\n",
    "fe_2008.mean(),fe_1999.mean()"
   ]
  },
  {
   "cell_type": "code",
   "execution_count": 39,
   "id": "e8a74f37",
   "metadata": {},
   "outputs": [
    {
     "data": {
      "text/plain": [
       "<matplotlib.legend.Legend at 0x1463700d0>"
      ]
     },
     "execution_count": 39,
     "metadata": {},
     "output_type": "execute_result"
    },
    {
     "data": {
      "image/png": "[encoded data removed]",
      "text/plain": [
       "<Figure size 648x432 with 1 Axes>"
      ]
     },
     "metadata": {
      "needs_background": "light"
     },
     "output_type": "display_data"
    }
   ],
   "source": [
    "plt.figure(figsize=(9,6))\n",
    "plt.hist([fe_1999, fe_2008], label=[\"1999 cars\", \"2008 cars\"])\n",
    "plt.legend(loc=\"upper right\")"
   ]
  },
  {
   "cell_type": "markdown",
   "id": "f85ee0ba",
   "metadata": {},
   "source": [
    "###  Are compact cars more fuel-efficient than the average car?\n",
    "* one tail\n",
    "* one Sample"
   ]
  },
  {
   "cell_type": "markdown",
   "id": "e1e7e6c1",
   "metadata": {},
   "source": [
    "H0 : mpg for compact cars  < = mpg for the average car\n",
    "HA : mpg for compact cars  > mpg for the average car"
   ]
  },
  {
   "cell_type": "markdown",
   "id": "6d1639ed",
   "metadata": {},
   "source": [
    "* p/2 will be compared to alpha as opposed to just p(because of the one tail)\n",
    "* tstat should be positive if we feed compact car value into our function first"
   ]
  },
  {
   "cell_type": "code",
   "execution_count": 120,
   "id": "bc5ab9a3",
   "metadata": {},
   "outputs": [
    {
     "data": {
      "text/plain": [
       "1      22.212766\n",
       "2      24.360000\n",
       "3      24.313725\n",
       "4      24.705882\n",
       "5      19.809524\n",
       "6      21.272727\n",
       "7      21.600000\n",
       "8      21.272727\n",
       "9      19.512195\n",
       "10     23.333333\n",
       "11     22.304348\n",
       "12     18.750000\n",
       "13     20.238095\n",
       "14     20.238095\n",
       "15     18.750000\n",
       "142    24.360000\n",
       "143    22.304348\n",
       "170    22.222222\n",
       "171    22.978723\n",
       "172    21.590909\n",
       "173    22.978723\n",
       "187    23.625000\n",
       "188    24.360000\n",
       "189    25.038462\n",
       "190    25.735849\n",
       "191    21.272727\n",
       "192    21.272727\n",
       "193    21.600000\n",
       "194    26.666667\n",
       "195    27.789474\n",
       "196    29.836066\n",
       "197    31.876923\n",
       "198    29.836066\n",
       "208    24.360000\n",
       "209    21.955556\n",
       "210    24.360000\n",
       "211    25.019608\n",
       "212    19.902439\n",
       "213    37.714286\n",
       "214    24.360000\n",
       "215    21.955556\n",
       "216    25.019608\n",
       "217    24.360000\n",
       "218    24.360000\n",
       "219    24.360000\n",
       "220    18.871795\n",
       "221    19.902439\n",
       "Name: avg_fe, dtype: float64"
      ]
     },
     "execution_count": 120,
     "metadata": {},
     "output_type": "execute_result"
    }
   ],
   "source": [
    "fe_compact = mpg[mpg['class'] == 'compact'].avg_fe\n",
    "fe_compact"
   ]
  },
  {
   "cell_type": "code",
   "execution_count": 124,
   "id": "fdd9f47c",
   "metadata": {
    "scrolled": true
   },
   "outputs": [],
   "source": [
    "mean_pop = mpg.avg_fe.mean()"
   ]
  },
  {
   "cell_type": "code",
   "execution_count": 127,
   "id": "bd5fac35",
   "metadata": {},
   "outputs": [
    {
     "data": {
      "text/plain": [
       "(<AxesSubplot:>, 47)"
      ]
     },
     "execution_count": 127,
     "metadata": {},
     "output_type": "execute_result"
    },
    {
     "data": {
      "image/png": "[encoded data removed]",
      "text/plain": [
       "<Figure size 432x288 with 1 Axes>"
      ]
     },
     "metadata": {
      "needs_background": "light"
     },
     "output_type": "display_data"
    }
   ],
   "source": [
    "# assume normality because compact is greater than 30, looks kind of normal\n",
    "fe_compact.hist(), fe_compact.count()"
   ]
  },
  {
   "cell_type": "code",
   "execution_count": 132,
   "id": "bd7dbcd6",
   "metadata": {},
   "outputs": [
    {
     "data": {
      "text/plain": [
       "(7.512360093161354, 7.808833174403837e-10)"
      ]
     },
     "execution_count": 132,
     "metadata": {},
     "output_type": "execute_result"
    }
   ],
   "source": [
    "tstat, pval = stats.ttest_1samp(fe_compact,mean_pop)\n",
    "tstat, pval/2"
   ]
  },
  {
   "cell_type": "code",
   "execution_count": 40,
   "id": "559112cc",
   "metadata": {},
   "outputs": [
    {
     "name": "stdout",
     "output_type": "stream",
     "text": [
      "Because p/2 (0.38176729442) < alpha (.05) and t > 0, we reject the null hypothesis.\n"
     ]
    }
   ],
   "source": [
    "# Because p/2 < alpha and t > 0, \n",
    "# we can reject the null hypothesis\n",
    "print(f'''Because p/2 ({p/2:.11f}) < alpha (.05) and t > 0, we reject the null hypothesis.''')"
   ]
  },
  {
   "cell_type": "markdown",
   "id": "3bc391f0",
   "metadata": {},
   "source": [
    "There appears to be a significant relationship between average mpg compact car and the average mpg average car."
   ]
  },
  {
   "cell_type": "markdown",
   "id": "2edd41b4",
   "metadata": {},
   "source": [
    "### Do manual cars get better gas mileage than automatic cars?"
   ]
  },
  {
   "cell_type": "markdown",
   "id": "32e48f03",
   "metadata": {},
   "source": [
    "* one tail\n",
    "* two sample\n",
    "\n",
    "we use: Independent t-test (or 2-sample): scipy.stats.ttest_ind\n",
    "\n",
    "$H_0$ : manual cars mpg <= automatic cars mpg\n",
    "\n",
    "$H_a$ : manual cars mpg > automatic cars mpg"
   ]
  },
  {
   "cell_type": "code",
   "execution_count": 135,
   "id": "a4babbdd",
   "metadata": {},
   "outputs": [
    {
     "data": {
      "text/plain": [
       "1       True\n",
       "2      False\n",
       "3      False\n",
       "4       True\n",
       "5       True\n",
       "       ...  \n",
       "230     True\n",
       "231    False\n",
       "232     True\n",
       "233    False\n",
       "234     True\n",
       "Name: trans, Length: 234, dtype: bool"
      ]
     },
     "execution_count": 135,
     "metadata": {},
     "output_type": "execute_result"
    }
   ],
   "source": [
    "mpg.trans.str.contains('auto')"
   ]
  },
  {
   "cell_type": "code",
   "execution_count": 136,
   "id": "93d2576e",
   "metadata": {},
   "outputs": [
    {
     "data": {
      "text/plain": [
       "auto(l4)      83\n",
       "manual(m5)    58\n",
       "auto(l5)      39\n",
       "manual(m6)    19\n",
       "auto(s6)      16\n",
       "auto(l6)       6\n",
       "auto(av)       5\n",
       "auto(s5)       3\n",
       "auto(s4)       3\n",
       "auto(l3)       2\n",
       "Name: trans, dtype: int64"
      ]
     },
     "execution_count": 136,
     "metadata": {},
     "output_type": "execute_result"
    }
   ],
   "source": [
    "mpg.trans.value_counts()"
   ]
  },
  {
   "cell_type": "code",
   "execution_count": 138,
   "id": "d33fbc29",
   "metadata": {},
   "outputs": [],
   "source": [
    "# only auto trans cars, average fuel efficiency\n",
    "auto_fe = mpg[mpg.trans.str.contains('auto')].avg_fe\n",
    "man_fe = mpg[mpg.trans.str.contains('manual')].avg_fe\n"
   ]
  },
  {
   "cell_type": "code",
   "execution_count": 144,
   "id": "b071800e",
   "metadata": {},
   "outputs": [
    {
     "data": {
      "text/plain": [
       "(<AxesSubplot:>,\n",
       " <AxesSubplot:>,\n",
       " 157,\n",
       " 77,\n",
       " 20.428279095002054,\n",
       " 25.665633639828275)"
      ]
     },
     "execution_count": 144,
     "metadata": {},
     "output_type": "execute_result"
    },
    {
     "data": {
      "image/png": "[encoded data removed]",
      "text/plain": [
       "<Figure size 648x432 with 1 Axes>"
      ]
     },
     "metadata": {
      "needs_background": "light"
     },
     "output_type": "display_data"
    }
   ],
   "source": [
    "# look at the distribution. N >30\n",
    "\n",
    "plt.figure(figsize=(9,6))\n",
    "auto_fe.hist(), man_fe.hist(), auto_fe.count(),man_fe.count(), auto_fe.var(),man_fe.var()"
   ]
  },
  {
   "cell_type": "code",
   "execution_count": 145,
   "id": "b37114df",
   "metadata": {},
   "outputs": [
    {
     "data": {
      "text/plain": [
       "LeveneResult(statistic=0.013901207169738269, pvalue=0.9062462281015493)"
      ]
     },
     "execution_count": 145,
     "metadata": {},
     "output_type": "execute_result"
    }
   ],
   "source": [
    "# they have equal variance so set equl_var to True\n",
    "stats.levene(auto_fe, man_fe)"
   ]
  },
  {
   "cell_type": "code",
   "execution_count": 148,
   "id": "11c15e33",
   "metadata": {},
   "outputs": [
    {
     "data": {
      "text/plain": [
       "(4.652577547151351, 2.7552323050220043e-06)"
      ]
     },
     "execution_count": 148,
     "metadata": {},
     "output_type": "execute_result"
    }
   ],
   "source": [
    "t, p = stats.ttest_ind(man_fe, auto_fe, equal_var = True)\n",
    "t, p/2\n",
    "# p/2 because there is two tails"
   ]
  },
  {
   "cell_type": "code",
   "execution_count": 41,
   "id": "136804b1",
   "metadata": {},
   "outputs": [
    {
     "name": "stdout",
     "output_type": "stream",
     "text": [
      "\n",
      "Because p/2 (0.381767) < alpha (.05), and t > 0, we reject the null hypothesis\n"
     ]
    }
   ],
   "source": [
    "# since t is greater thatn one and p/2 is less than alpha\n",
    "# we reject the null hypothesis\n",
    "print(f'''\n",
    "Because p/2 ({p/2:.6f}) < alpha (.05), and t > 0, we reject the null hypothesis''')"
   ]
  },
  {
   "cell_type": "markdown",
   "id": "153ab307",
   "metadata": {},
   "source": [
    "There appears that mannual cars have better mpg than automatic cars."
   ]
  },
  {
   "cell_type": "code",
   "execution_count": 150,
   "id": "44c5d1f0",
   "metadata": {},
   "outputs": [],
   "source": [
    "mpg['transmission_type'] = np.where(mpg.trans.str.contains('auto'), 'Auto Transmission', 'Manual Transmission')"
   ]
  },
  {
   "cell_type": "code",
   "execution_count": 151,
   "id": "0a6c9ca0",
   "metadata": {
    "scrolled": true
   },
   "outputs": [
    {
     "data": {
      "text/plain": [
       "Text(0.5, 1.0, 'Is mileage different by transmission type?')"
      ]
     },
     "execution_count": 151,
     "metadata": {},
     "output_type": "execute_result"
    },
    {
     "data": {
      "image/png": "[encoded data removed]",
      "text/plain": [
       "<Figure size 648x432 with 1 Axes>"
      ]
     },
     "metadata": {
      "needs_background": "light"
     },
     "output_type": "display_data"
    }
   ],
   "source": [
    "plt.figure(figsize=(9,6))\n",
    "mpg.groupby('transmission_type').avg_fe.mean().plot.bar()\n",
    "plt.xticks(rotation=0)\n",
    "plt.xlabel('')\n",
    "plt.ylabel('Average mileage')\n",
    "plt.title('Is mileage different by transmission type?')"
   ]
  },
  {
   "cell_type": "markdown",
   "id": "7e91e623",
   "metadata": {},
   "source": [
    "# $ Correlation $"
   ]
  },
  {
   "cell_type": "markdown",
   "id": "f4a7db51",
   "metadata": {},
   "source": [
    "# 1\n",
    "Answer with the type of stats test you would use (assume normal distribution):\n",
    "\n",
    "Is there a relationship between the length of your arm and the length of your foot?\n",
    "* Variables:\n",
    "    * length of foot (continuous)\n",
    "    * length of arm (continuous)\n",
    "\n",
    "We would run a Pearson's R test\n",
    "\n",
    "Do guys and gals quit their jobs at the same rate?\n",
    "\n",
    "* Variables:\n",
    "    * guys vs gals (discrete)\n",
    "    * rate of quit job (continuous)\n",
    "\n",
    "We would run a ttest_ind, Two sample, with two tails\n",
    "\n",
    "Does the length of time of the lecture correlate with a students grade?\n",
    "\n",
    "* Variables:\n",
    "    * lenght of time of lecture (continuous)\n",
    "    * students grades (continuous)\n",
    "\n",
    "We would run a Pearson's R test\n"
   ]
  },
  {
   "cell_type": "markdown",
   "id": "2f37b12f",
   "metadata": {},
   "source": [
    "# 2. Use the telco_churn data.\n",
    "\n"
   ]
  },
  {
   "cell_type": "code",
   "execution_count": 67,
   "id": "9b245621",
   "metadata": {
    "scrolled": true
   },
   "outputs": [],
   "source": [
    "url = env.get_db_url('telco_churn')\n",
    "\n",
    "sql_query = '''SELECT *\n",
    "               FROM customers\n",
    "               JOIN internet_service_types USING (internet_service_type_id)'''"
   ]
  },
  {
   "cell_type": "code",
   "execution_count": 68,
   "id": "8d677c0d",
   "metadata": {
    "scrolled": false
   },
   "outputs": [],
   "source": [
    "df = pd.read_sql(sql_query, url)"
   ]
  },
  {
   "cell_type": "code",
   "execution_count": 69,
   "id": "87aa00c4",
   "metadata": {},
   "outputs": [],
   "source": [
    "# subset dataset!!\n",
    "df = df[['tenure', 'monthly_charges', 'total_charges', 'internet_service_type', 'phone_service']]"
   ]
  },
  {
   "cell_type": "code",
   "execution_count": 70,
   "id": "c747f15f",
   "metadata": {},
   "outputs": [
    {
     "data": {
      "text/html": [
       "<div>\n",
       "<style scoped>\n",
       "    .dataframe tbody tr th:only-of-type {\n",
       "        vertical-align: middle;\n",
       "    }\n",
       "\n",
       "    .dataframe tbody tr th {\n",
       "        vertical-align: top;\n",
       "    }\n",
       "\n",
       "    .dataframe thead th {\n",
       "        text-align: right;\n",
       "    }\n",
       "</style>\n",
       "<table border=\"1\" class=\"dataframe\">\n",
       "  <thead>\n",
       "    <tr style=\"text-align: right;\">\n",
       "      <th></th>\n",
       "      <th>tenure</th>\n",
       "      <th>monthly_charges</th>\n",
       "      <th>total_charges</th>\n",
       "      <th>internet_service_type</th>\n",
       "      <th>phone_service</th>\n",
       "    </tr>\n",
       "  </thead>\n",
       "  <tbody>\n",
       "    <tr>\n",
       "      <th>2855</th>\n",
       "      <td>0</td>\n",
       "      <td>73.35</td>\n",
       "      <td></td>\n",
       "      <td>DSL</td>\n",
       "      <td>Yes</td>\n",
       "    </tr>\n",
       "    <tr>\n",
       "      <th>3118</th>\n",
       "      <td>0</td>\n",
       "      <td>52.55</td>\n",
       "      <td></td>\n",
       "      <td>DSL</td>\n",
       "      <td>No</td>\n",
       "    </tr>\n",
       "    <tr>\n",
       "      <th>3052</th>\n",
       "      <td>0</td>\n",
       "      <td>25.75</td>\n",
       "      <td></td>\n",
       "      <td>None</td>\n",
       "      <td>Yes</td>\n",
       "    </tr>\n",
       "    <tr>\n",
       "      <th>5433</th>\n",
       "      <td>0</td>\n",
       "      <td>19.85</td>\n",
       "      <td></td>\n",
       "      <td>None</td>\n",
       "      <td>Yes</td>\n",
       "    </tr>\n",
       "    <tr>\n",
       "      <th>1731</th>\n",
       "      <td>0</td>\n",
       "      <td>20.00</td>\n",
       "      <td></td>\n",
       "      <td>None</td>\n",
       "      <td>Yes</td>\n",
       "    </tr>\n",
       "  </tbody>\n",
       "</table>\n",
       "</div>"
      ],
      "text/plain": [
       "      tenure  monthly_charges total_charges internet_service_type  \\\n",
       "2855       0            73.35                                 DSL   \n",
       "3118       0            52.55                                 DSL   \n",
       "3052       0            25.75                                None   \n",
       "5433       0            19.85                                None   \n",
       "1731       0            20.00                                None   \n",
       "\n",
       "     phone_service  \n",
       "2855           Yes  \n",
       "3118            No  \n",
       "3052           Yes  \n",
       "5433           Yes  \n",
       "1731           Yes  "
      ]
     },
     "execution_count": 70,
     "metadata": {},
     "output_type": "execute_result"
    }
   ],
   "source": [
    "df.sort_values(by='total_charges').head()"
   ]
  },
  {
   "cell_type": "code",
   "execution_count": 71,
   "id": "cf030b2d",
   "metadata": {},
   "outputs": [
    {
     "data": {
      "text/plain": [
       "11"
      ]
     },
     "execution_count": 71,
     "metadata": {},
     "output_type": "execute_result"
    }
   ],
   "source": [
    "df.total_charges.str.isspace().sum()"
   ]
  },
  {
   "cell_type": "code",
   "execution_count": 72,
   "id": "b9582c99",
   "metadata": {
    "scrolled": false
   },
   "outputs": [
    {
     "name": "stdout",
     "output_type": "stream",
     "text": [
      "<class 'pandas.core.frame.DataFrame'>\n",
      "RangeIndex: 7043 entries, 0 to 7042\n",
      "Data columns (total 5 columns):\n",
      " #   Column                 Non-Null Count  Dtype  \n",
      "---  ------                 --------------  -----  \n",
      " 0   tenure                 7043 non-null   int64  \n",
      " 1   monthly_charges        7043 non-null   float64\n",
      " 2   total_charges          7043 non-null   object \n",
      " 3   internet_service_type  7043 non-null   object \n",
      " 4   phone_service          7043 non-null   object \n",
      "dtypes: float64(1), int64(1), object(3)\n",
      "memory usage: 275.2+ KB\n"
     ]
    }
   ],
   "source": [
    "df.info()"
   ]
  },
  {
   "cell_type": "code",
   "execution_count": 73,
   "id": "3847dcff",
   "metadata": {},
   "outputs": [],
   "source": [
    "df.total_charges = df.total_charges.replace(' ', np.nan).astype(float)"
   ]
  },
  {
   "cell_type": "code",
   "execution_count": 74,
   "id": "c635f8e0",
   "metadata": {},
   "outputs": [
    {
     "name": "stdout",
     "output_type": "stream",
     "text": [
      "<class 'pandas.core.frame.DataFrame'>\n",
      "Int64Index: 7032 entries, 0 to 7042\n",
      "Data columns (total 5 columns):\n",
      " #   Column                 Non-Null Count  Dtype  \n",
      "---  ------                 --------------  -----  \n",
      " 0   tenure                 7032 non-null   int64  \n",
      " 1   monthly_charges        7032 non-null   float64\n",
      " 2   total_charges          7032 non-null   float64\n",
      " 3   internet_service_type  7032 non-null   object \n",
      " 4   phone_service          7032 non-null   object \n",
      "dtypes: float64(2), int64(1), object(2)\n",
      "memory usage: 329.6+ KB\n"
     ]
    }
   ],
   "source": [
    "df = df.dropna()\n",
    "df.info()"
   ]
  },
  {
   "cell_type": "markdown",
   "id": "bf68897a",
   "metadata": {},
   "source": [
    "### Does tenure correlate with monthly charges?\n",
    "\n",
    "    * tenure (continuous, numeric)\n",
    "    \n",
    "    * monthly charges (continuous, numeric)\n",
    "    \n",
    " Tenure vs. Monthly Charges\n",
    " \n",
    "H0\n",
    ": There is no linear relationship between tenure and monthly charges\n",
    "\n",
    "Ha\n",
    ": There is a linear relationship between tenure and monthly charges\n",
    "    \n",
    "We reject the null hypothesis\n",
    "\n",
    "There seems to be a moderate positive correlation \n",
    "\n",
    "r =.24"
   ]
  },
  {
   "cell_type": "code",
   "execution_count": 75,
   "id": "338b8a05",
   "metadata": {},
   "outputs": [],
   "source": [
    "alpha = 0.05"
   ]
  },
  {
   "cell_type": "code",
   "execution_count": 76,
   "id": "e04c25e8",
   "metadata": {},
   "outputs": [
    {
     "data": {
      "text/plain": [
       "(0     9\n",
       " 1     9\n",
       " 2     4\n",
       " 3    13\n",
       " 4     3\n",
       " Name: tenure, dtype: int64,\n",
       " 0    65.6\n",
       " 1    59.9\n",
       " 2    73.9\n",
       " 3    98.0\n",
       " 4    83.9\n",
       " Name: monthly_charges, dtype: float64)"
      ]
     },
     "execution_count": 76,
     "metadata": {},
     "output_type": "execute_result"
    }
   ],
   "source": [
    "df.tenure.head(), df.monthly_charges.head()"
   ]
  },
  {
   "cell_type": "code",
   "execution_count": 77,
   "id": "6f5a76a0",
   "metadata": {
    "scrolled": true
   },
   "outputs": [
    {
     "data": {
      "text/plain": [
       "<matplotlib.collections.PathCollection at 0x16846a7c0>"
      ]
     },
     "execution_count": 77,
     "metadata": {},
     "output_type": "execute_result"
    },
    {
     "data": {
      "image/png": "[encoded data removed]",
      "text/plain": [
       "<Figure size 432x288 with 1 Axes>"
      ]
     },
     "metadata": {
      "needs_background": "light"
     },
     "output_type": "display_data"
    }
   ],
   "source": [
    "\n",
    "plt.scatter(df.tenure, df.monthly_charges)"
   ]
  },
  {
   "cell_type": "code",
   "execution_count": 78,
   "id": "4b0d73cf",
   "metadata": {},
   "outputs": [
    {
     "data": {
      "text/plain": [
       "(0.2468617666408956, 3.9898213232510553e-98)"
      ]
     },
     "execution_count": 78,
     "metadata": {},
     "output_type": "execute_result"
    }
   ],
   "source": [
    "r, p = stats.pearsonr(df.tenure,df.monthly_charges )\n",
    "r, p"
   ]
  },
  {
   "cell_type": "code",
   "execution_count": 79,
   "id": "4fd648bb",
   "metadata": {},
   "outputs": [
    {
     "name": "stdout",
     "output_type": "stream",
     "text": [
      "Reject the null hypothesis\n"
     ]
    }
   ],
   "source": [
    "if p < alpha:\n",
    "    print('Reject the null hypothesis')\n",
    "else:\n",
    "    print('Fail to reject the null hypothesis')"
   ]
  },
  {
   "cell_type": "markdown",
   "id": "56186e52",
   "metadata": {},
   "source": [
    "We reject the null hypothesis, but while there is a weak-moderate relationship between tenure and monthly charges, there are two relationships apparent on visual inspection:\n",
    "\n",
    "A rising channel ranging from 0-100 at t=0 and ranging from 35-120 at t=end\n",
    "Two horizontal bands for customers paying 20 and 25 \n",
    "\n",
    "\n",
    "Overall, r & p scores demonstrate a weak positive correlation, but the magnitude of the relationship is relatively small"
   ]
  },
  {
   "cell_type": "markdown",
   "id": "d12fc7f5",
   "metadata": {},
   "source": [
    "### Tenure vs. Total Charges\n",
    "\n",
    "Ho: there is no linear relationship between tenure and total charges\n",
    "\n",
    "Ha: there is a linear relationship between tenure and total charges\n",
    "\n",
    "There appears to be a strong positive correlation between total charges and tenure"
   ]
  },
  {
   "cell_type": "code",
   "execution_count": 80,
   "id": "7d7316c1",
   "metadata": {},
   "outputs": [
    {
     "data": {
      "text/plain": [
       "dtype('float64')"
      ]
     },
     "execution_count": 80,
     "metadata": {},
     "output_type": "execute_result"
    }
   ],
   "source": [
    "df.total_charges.dtype"
   ]
  },
  {
   "cell_type": "code",
   "execution_count": 81,
   "id": "bdcff8b9",
   "metadata": {},
   "outputs": [
    {
     "data": {
      "text/plain": [
       "<matplotlib.collections.PathCollection at 0x14fcf8760>"
      ]
     },
     "execution_count": 81,
     "metadata": {},
     "output_type": "execute_result"
    },
    {
     "data": {
      "image/png": "[encoded data removed]",
      "text/plain": [
       "<Figure size 432x288 with 1 Axes>"
      ]
     },
     "metadata": {
      "needs_background": "light"
     },
     "output_type": "display_data"
    }
   ],
   "source": [
    "plt.scatter(df.tenure, df.total_charges)"
   ]
  },
  {
   "cell_type": "code",
   "execution_count": 82,
   "id": "fcfb6fc3",
   "metadata": {
    "scrolled": false
   },
   "outputs": [
    {
     "data": {
      "text/plain": [
       "(0.8258804609332071, 0.0)"
      ]
     },
     "execution_count": 82,
     "metadata": {},
     "output_type": "execute_result"
    }
   ],
   "source": [
    "r, p = stats.pearsonr(df.tenure, df.total_charges )\n",
    "r, p"
   ]
  },
  {
   "cell_type": "markdown",
   "id": "5f502a41",
   "metadata": {},
   "source": [
    "We reject the null hypothesis. There is a strong correlation between tenure and total charges. Significant heteroscedasticity is present on visual observation. Thus, a linear relationship, though technically present, may be limited in its ability to predict total charges at high tenure.\n",
    "\n",
    "The relationship is reasonable, given that a customer will always pay the company more in total charges over time.\n",
    "\n"
   ]
  },
  {
   "cell_type": "markdown",
   "id": "ab22b8d4",
   "metadata": {},
   "source": [
    "### Controlling for Phone and Internet Services\n",
    "\n",
    " \n",
    "* Variables:\n",
    "    * phone (discrete, boolean)\n",
    "    * internet service (discrete, numeric)\n",
    "    \n",
    "    \n",
    "There appears to be a weak positive correlation between phone and internet service"
   ]
  },
  {
   "cell_type": "code",
   "execution_count": 83,
   "id": "1e2b53cb",
   "metadata": {},
   "outputs": [],
   "source": [
    "def corr_tenure_and_monthly(df):\n",
    "    return pd.Series(stats.pearsonr(df.tenure,df.monthly_charges), index = ['r','p'])"
   ]
  },
  {
   "cell_type": "code",
   "execution_count": 84,
   "id": "3cfd7483",
   "metadata": {},
   "outputs": [
    {
     "data": {
      "text/plain": [
       "<pandas.core.groupby.generic.DataFrameGroupBy object at 0x14f6b4e80>"
      ]
     },
     "execution_count": 84,
     "metadata": {},
     "output_type": "execute_result"
    }
   ],
   "source": [
    "df.groupby(['internet_service_type','phone_service'])"
   ]
  },
  {
   "cell_type": "code",
   "execution_count": 85,
   "id": "dbd632b9",
   "metadata": {
    "scrolled": true
   },
   "outputs": [
    {
     "data": {
      "text/html": [
       "<div>\n",
       "<style scoped>\n",
       "    .dataframe tbody tr th:only-of-type {\n",
       "        vertical-align: middle;\n",
       "    }\n",
       "\n",
       "    .dataframe tbody tr th {\n",
       "        vertical-align: top;\n",
       "    }\n",
       "\n",
       "    .dataframe thead th {\n",
       "        text-align: right;\n",
       "    }\n",
       "</style>\n",
       "<table border=\"1\" class=\"dataframe\">\n",
       "  <thead>\n",
       "    <tr style=\"text-align: right;\">\n",
       "      <th></th>\n",
       "      <th></th>\n",
       "      <th>r</th>\n",
       "      <th>p</th>\n",
       "    </tr>\n",
       "    <tr>\n",
       "      <th>internet_service_type</th>\n",
       "      <th>phone_service</th>\n",
       "      <th></th>\n",
       "      <th></th>\n",
       "    </tr>\n",
       "  </thead>\n",
       "  <tbody>\n",
       "    <tr>\n",
       "      <th rowspan=\"2\" valign=\"top\">DSL</th>\n",
       "      <th>No</th>\n",
       "      <td>0.592430</td>\n",
       "      <td>1.173274e-65</td>\n",
       "    </tr>\n",
       "    <tr>\n",
       "      <th>Yes</th>\n",
       "      <td>0.658094</td>\n",
       "      <td>5.781402e-216</td>\n",
       "    </tr>\n",
       "    <tr>\n",
       "      <th>Fiber optic</th>\n",
       "      <th>Yes</th>\n",
       "      <td>0.624621</td>\n",
       "      <td>0.000000e+00</td>\n",
       "    </tr>\n",
       "    <tr>\n",
       "      <th>None</th>\n",
       "      <th>Yes</th>\n",
       "      <td>0.346188</td>\n",
       "      <td>4.896605e-44</td>\n",
       "    </tr>\n",
       "  </tbody>\n",
       "</table>\n",
       "</div>"
      ],
      "text/plain": [
       "                                            r              p\n",
       "internet_service_type phone_service                         \n",
       "DSL                   No             0.592430   1.173274e-65\n",
       "                      Yes            0.658094  5.781402e-216\n",
       "Fiber optic           Yes            0.624621   0.000000e+00\n",
       "None                  Yes            0.346188   4.896605e-44"
      ]
     },
     "execution_count": 85,
     "metadata": {},
     "output_type": "execute_result"
    }
   ],
   "source": [
    "df.groupby(['internet_service_type','phone_service']).apply(corr_tenure_and_monthly)"
   ]
  },
  {
   "cell_type": "code",
   "execution_count": 86,
   "id": "761c8874",
   "metadata": {
    "scrolled": true
   },
   "outputs": [
    {
     "data": {
      "text/html": [
       "<div>\n",
       "<style scoped>\n",
       "    .dataframe tbody tr th:only-of-type {\n",
       "        vertical-align: middle;\n",
       "    }\n",
       "\n",
       "    .dataframe tbody tr th {\n",
       "        vertical-align: top;\n",
       "    }\n",
       "\n",
       "    .dataframe thead th {\n",
       "        text-align: right;\n",
       "    }\n",
       "</style>\n",
       "<table border=\"1\" class=\"dataframe\">\n",
       "  <thead>\n",
       "    <tr style=\"text-align: right;\">\n",
       "      <th></th>\n",
       "      <th>r</th>\n",
       "      <th>p</th>\n",
       "    </tr>\n",
       "    <tr>\n",
       "      <th>phone_service</th>\n",
       "      <th></th>\n",
       "      <th></th>\n",
       "    </tr>\n",
       "  </thead>\n",
       "  <tbody>\n",
       "    <tr>\n",
       "      <th>No</th>\n",
       "      <td>0.592430</td>\n",
       "      <td>1.173274e-65</td>\n",
       "    </tr>\n",
       "    <tr>\n",
       "      <th>Yes</th>\n",
       "      <td>0.244194</td>\n",
       "      <td>6.828016e-87</td>\n",
       "    </tr>\n",
       "  </tbody>\n",
       "</table>\n",
       "</div>"
      ],
      "text/plain": [
       "                      r             p\n",
       "phone_service                        \n",
       "No             0.592430  1.173274e-65\n",
       "Yes            0.244194  6.828016e-87"
      ]
     },
     "execution_count": 86,
     "metadata": {},
     "output_type": "execute_result"
    }
   ],
   "source": [
    "# control group for phone service and tenure and monthly charges\n",
    "df.groupby(['phone_service']).apply(corr_tenure_and_monthly)"
   ]
  },
  {
   "cell_type": "code",
   "execution_count": 91,
   "id": "454829d1",
   "metadata": {
    "scrolled": false
   },
   "outputs": [
    {
     "data": {
      "text/plain": [
       "<seaborn.axisgrid.FacetGrid at 0x1474e8490>"
      ]
     },
     "execution_count": 91,
     "metadata": {},
     "output_type": "execute_result"
    },
    {
     "data": {
      "image/png": "[encoded data removed]",
      "text/plain": [
       "<Figure size 1080x720 with 6 Axes>"
      ]
     },
     "metadata": {
      "needs_background": "light"
     },
     "output_type": "display_data"
    }
   ],
   "source": [
    "sns.relplot(data=df, y='monthly_charges', x='tenure', col='internet_service_type', row='phone_service')"
   ]
  },
  {
   "cell_type": "code",
   "execution_count": 92,
   "id": "11771aab",
   "metadata": {},
   "outputs": [],
   "source": [
    "def corr_tenure_and_total(df):\n",
    "    return pd.Series(stats.pearsonr(df.tenure, df.total_charges), index=['r', 'p'])"
   ]
  },
  {
   "cell_type": "code",
   "execution_count": 93,
   "id": "9fb08e96",
   "metadata": {},
   "outputs": [
    {
     "data": {
      "text/html": [
       "<div>\n",
       "<style scoped>\n",
       "    .dataframe tbody tr th:only-of-type {\n",
       "        vertical-align: middle;\n",
       "    }\n",
       "\n",
       "    .dataframe tbody tr th {\n",
       "        vertical-align: top;\n",
       "    }\n",
       "\n",
       "    .dataframe thead th {\n",
       "        text-align: right;\n",
       "    }\n",
       "</style>\n",
       "<table border=\"1\" class=\"dataframe\">\n",
       "  <thead>\n",
       "    <tr style=\"text-align: right;\">\n",
       "      <th></th>\n",
       "      <th></th>\n",
       "      <th>r</th>\n",
       "      <th>p</th>\n",
       "    </tr>\n",
       "    <tr>\n",
       "      <th>internet_service_type</th>\n",
       "      <th>phone_service</th>\n",
       "      <th></th>\n",
       "      <th></th>\n",
       "    </tr>\n",
       "  </thead>\n",
       "  <tbody>\n",
       "    <tr>\n",
       "      <th rowspan=\"2\" valign=\"top\">DSL</th>\n",
       "      <th>No</th>\n",
       "      <td>0.953423</td>\n",
       "      <td>0.0</td>\n",
       "    </tr>\n",
       "    <tr>\n",
       "      <th>Yes</th>\n",
       "      <td>0.970533</td>\n",
       "      <td>0.0</td>\n",
       "    </tr>\n",
       "    <tr>\n",
       "      <th>Fiber optic</th>\n",
       "      <th>Yes</th>\n",
       "      <td>0.985309</td>\n",
       "      <td>0.0</td>\n",
       "    </tr>\n",
       "    <tr>\n",
       "      <th>None</th>\n",
       "      <th>Yes</th>\n",
       "      <td>0.981465</td>\n",
       "      <td>0.0</td>\n",
       "    </tr>\n",
       "  </tbody>\n",
       "</table>\n",
       "</div>"
      ],
      "text/plain": [
       "                                            r    p\n",
       "internet_service_type phone_service               \n",
       "DSL                   No             0.953423  0.0\n",
       "                      Yes            0.970533  0.0\n",
       "Fiber optic           Yes            0.985309  0.0\n",
       "None                  Yes            0.981465  0.0"
      ]
     },
     "execution_count": 93,
     "metadata": {},
     "output_type": "execute_result"
    }
   ],
   "source": [
    "df.groupby(['internet_service_type', 'phone_service']).apply(corr_tenure_and_total)"
   ]
  },
  {
   "cell_type": "code",
   "execution_count": 94,
   "id": "919b2681",
   "metadata": {},
   "outputs": [
    {
     "data": {
      "text/plain": [
       "(0.8258804609332071, 0.0)"
      ]
     },
     "execution_count": 94,
     "metadata": {},
     "output_type": "execute_result"
    }
   ],
   "source": [
    "stats.pearsonr(df.tenure, df.total_charges)"
   ]
  },
  {
   "cell_type": "markdown",
   "id": "5bcb6124",
   "metadata": {},
   "source": [
    "# 3 Use the employees database.\n"
   ]
  },
  {
   "cell_type": "code",
   "execution_count": 97,
   "id": "471c4d49",
   "metadata": {},
   "outputs": [],
   "source": [
    "from env import host, user, password \n",
    "url = f'mysql+pymysql://{user}:{password}@{host}/employees'\n",
    "query= '''\n",
    "Select\n",
    "    Datediff((select max(hire_date)From employees), e.hire_date) As tenure,\n",
    "    s.salary As salary\n",
    "From employees e\n",
    "Join salaries s USING (emp_no)\n",
    "where s.to_date > now()\n",
    "'''"
   ]
  },
  {
   "cell_type": "code",
   "execution_count": 98,
   "id": "109b8d70",
   "metadata": {},
   "outputs": [],
   "source": [
    "employees_with_salaries = pd.read_sql(query,url)"
   ]
  },
  {
   "cell_type": "code",
   "execution_count": 99,
   "id": "55d493c0",
   "metadata": {
    "scrolled": true
   },
   "outputs": [
    {
     "data": {
      "text/html": [
       "<div>\n",
       "<style scoped>\n",
       "    .dataframe tbody tr th:only-of-type {\n",
       "        vertical-align: middle;\n",
       "    }\n",
       "\n",
       "    .dataframe tbody tr th {\n",
       "        vertical-align: top;\n",
       "    }\n",
       "\n",
       "    .dataframe thead th {\n",
       "        text-align: right;\n",
       "    }\n",
       "</style>\n",
       "<table border=\"1\" class=\"dataframe\">\n",
       "  <thead>\n",
       "    <tr style=\"text-align: right;\">\n",
       "      <th></th>\n",
       "      <th>emp_no</th>\n",
       "      <th>salary</th>\n",
       "      <th>from_date</th>\n",
       "      <th>to_date</th>\n",
       "    </tr>\n",
       "  </thead>\n",
       "  <tbody>\n",
       "    <tr>\n",
       "      <th>0</th>\n",
       "      <td>10001</td>\n",
       "      <td>60117</td>\n",
       "      <td>1986-06-26</td>\n",
       "      <td>1987-06-26</td>\n",
       "    </tr>\n",
       "    <tr>\n",
       "      <th>1</th>\n",
       "      <td>10001</td>\n",
       "      <td>62102</td>\n",
       "      <td>1987-06-26</td>\n",
       "      <td>1988-06-25</td>\n",
       "    </tr>\n",
       "    <tr>\n",
       "      <th>2</th>\n",
       "      <td>10001</td>\n",
       "      <td>66074</td>\n",
       "      <td>1988-06-25</td>\n",
       "      <td>1989-06-25</td>\n",
       "    </tr>\n",
       "    <tr>\n",
       "      <th>3</th>\n",
       "      <td>10001</td>\n",
       "      <td>66596</td>\n",
       "      <td>1989-06-25</td>\n",
       "      <td>1990-06-25</td>\n",
       "    </tr>\n",
       "    <tr>\n",
       "      <th>4</th>\n",
       "      <td>10001</td>\n",
       "      <td>66961</td>\n",
       "      <td>1990-06-25</td>\n",
       "      <td>1991-06-25</td>\n",
       "    </tr>\n",
       "  </tbody>\n",
       "</table>\n",
       "</div>"
      ],
      "text/plain": [
       "   emp_no  salary   from_date     to_date\n",
       "0   10001   60117  1986-06-26  1987-06-26\n",
       "1   10001   62102  1987-06-26  1988-06-25\n",
       "2   10001   66074  1988-06-25  1989-06-25\n",
       "3   10001   66596  1989-06-25  1990-06-25\n",
       "4   10001   66961  1990-06-25  1991-06-25"
      ]
     },
     "execution_count": 99,
     "metadata": {},
     "output_type": "execute_result"
    }
   ],
   "source": [
    "salaries_df.head()"
   ]
  },
  {
   "cell_type": "code",
   "execution_count": 100,
   "id": "56d8c518",
   "metadata": {
    "scrolled": false
   },
   "outputs": [
    {
     "data": {
      "text/html": [
       "<div>\n",
       "<style scoped>\n",
       "    .dataframe tbody tr th:only-of-type {\n",
       "        vertical-align: middle;\n",
       "    }\n",
       "\n",
       "    .dataframe tbody tr th {\n",
       "        vertical-align: top;\n",
       "    }\n",
       "\n",
       "    .dataframe thead th {\n",
       "        text-align: right;\n",
       "    }\n",
       "</style>\n",
       "<table border=\"1\" class=\"dataframe\">\n",
       "  <thead>\n",
       "    <tr style=\"text-align: right;\">\n",
       "      <th></th>\n",
       "      <th>emp_no</th>\n",
       "      <th>salary</th>\n",
       "      <th>from_date</th>\n",
       "      <th>to_date</th>\n",
       "    </tr>\n",
       "  </thead>\n",
       "  <tbody>\n",
       "    <tr>\n",
       "      <th>0</th>\n",
       "      <td>10001</td>\n",
       "      <td>60117</td>\n",
       "      <td>1986-06-26</td>\n",
       "      <td>1987-06-26</td>\n",
       "    </tr>\n",
       "    <tr>\n",
       "      <th>1</th>\n",
       "      <td>10001</td>\n",
       "      <td>62102</td>\n",
       "      <td>1987-06-26</td>\n",
       "      <td>1988-06-25</td>\n",
       "    </tr>\n",
       "    <tr>\n",
       "      <th>2</th>\n",
       "      <td>10001</td>\n",
       "      <td>66074</td>\n",
       "      <td>1988-06-25</td>\n",
       "      <td>1989-06-25</td>\n",
       "    </tr>\n",
       "    <tr>\n",
       "      <th>3</th>\n",
       "      <td>10001</td>\n",
       "      <td>66596</td>\n",
       "      <td>1989-06-25</td>\n",
       "      <td>1990-06-25</td>\n",
       "    </tr>\n",
       "    <tr>\n",
       "      <th>4</th>\n",
       "      <td>10001</td>\n",
       "      <td>66961</td>\n",
       "      <td>1990-06-25</td>\n",
       "      <td>1991-06-25</td>\n",
       "    </tr>\n",
       "    <tr>\n",
       "      <th>5</th>\n",
       "      <td>10001</td>\n",
       "      <td>71046</td>\n",
       "      <td>1991-06-25</td>\n",
       "      <td>1992-06-24</td>\n",
       "    </tr>\n",
       "    <tr>\n",
       "      <th>6</th>\n",
       "      <td>10001</td>\n",
       "      <td>74333</td>\n",
       "      <td>1992-06-24</td>\n",
       "      <td>1993-06-24</td>\n",
       "    </tr>\n",
       "    <tr>\n",
       "      <th>7</th>\n",
       "      <td>10001</td>\n",
       "      <td>75286</td>\n",
       "      <td>1993-06-24</td>\n",
       "      <td>1994-06-24</td>\n",
       "    </tr>\n",
       "    <tr>\n",
       "      <th>8</th>\n",
       "      <td>10001</td>\n",
       "      <td>75994</td>\n",
       "      <td>1994-06-24</td>\n",
       "      <td>1995-06-24</td>\n",
       "    </tr>\n",
       "    <tr>\n",
       "      <th>9</th>\n",
       "      <td>10001</td>\n",
       "      <td>76884</td>\n",
       "      <td>1995-06-24</td>\n",
       "      <td>1996-06-23</td>\n",
       "    </tr>\n",
       "    <tr>\n",
       "      <th>10</th>\n",
       "      <td>10001</td>\n",
       "      <td>80013</td>\n",
       "      <td>1996-06-23</td>\n",
       "      <td>1997-06-23</td>\n",
       "    </tr>\n",
       "    <tr>\n",
       "      <th>11</th>\n",
       "      <td>10001</td>\n",
       "      <td>81025</td>\n",
       "      <td>1997-06-23</td>\n",
       "      <td>1998-06-23</td>\n",
       "    </tr>\n",
       "    <tr>\n",
       "      <th>12</th>\n",
       "      <td>10001</td>\n",
       "      <td>81097</td>\n",
       "      <td>1998-06-23</td>\n",
       "      <td>1999-06-23</td>\n",
       "    </tr>\n",
       "    <tr>\n",
       "      <th>13</th>\n",
       "      <td>10001</td>\n",
       "      <td>84917</td>\n",
       "      <td>1999-06-23</td>\n",
       "      <td>2000-06-22</td>\n",
       "    </tr>\n",
       "    <tr>\n",
       "      <th>14</th>\n",
       "      <td>10001</td>\n",
       "      <td>85112</td>\n",
       "      <td>2000-06-22</td>\n",
       "      <td>2001-06-22</td>\n",
       "    </tr>\n",
       "    <tr>\n",
       "      <th>15</th>\n",
       "      <td>10001</td>\n",
       "      <td>85097</td>\n",
       "      <td>2001-06-22</td>\n",
       "      <td>2002-06-22</td>\n",
       "    </tr>\n",
       "    <tr>\n",
       "      <th>16</th>\n",
       "      <td>10001</td>\n",
       "      <td>88958</td>\n",
       "      <td>2002-06-22</td>\n",
       "      <td>9999-01-01</td>\n",
       "    </tr>\n",
       "    <tr>\n",
       "      <th>17</th>\n",
       "      <td>10002</td>\n",
       "      <td>65828</td>\n",
       "      <td>1996-08-03</td>\n",
       "      <td>1997-08-03</td>\n",
       "    </tr>\n",
       "    <tr>\n",
       "      <th>18</th>\n",
       "      <td>10002</td>\n",
       "      <td>65909</td>\n",
       "      <td>1997-08-03</td>\n",
       "      <td>1998-08-03</td>\n",
       "    </tr>\n",
       "    <tr>\n",
       "      <th>19</th>\n",
       "      <td>10002</td>\n",
       "      <td>67534</td>\n",
       "      <td>1998-08-03</td>\n",
       "      <td>1999-08-03</td>\n",
       "    </tr>\n",
       "  </tbody>\n",
       "</table>\n",
       "</div>"
      ],
      "text/plain": [
       "    emp_no  salary   from_date     to_date\n",
       "0    10001   60117  1986-06-26  1987-06-26\n",
       "1    10001   62102  1987-06-26  1988-06-25\n",
       "2    10001   66074  1988-06-25  1989-06-25\n",
       "3    10001   66596  1989-06-25  1990-06-25\n",
       "4    10001   66961  1990-06-25  1991-06-25\n",
       "5    10001   71046  1991-06-25  1992-06-24\n",
       "6    10001   74333  1992-06-24  1993-06-24\n",
       "7    10001   75286  1993-06-24  1994-06-24\n",
       "8    10001   75994  1994-06-24  1995-06-24\n",
       "9    10001   76884  1995-06-24  1996-06-23\n",
       "10   10001   80013  1996-06-23  1997-06-23\n",
       "11   10001   81025  1997-06-23  1998-06-23\n",
       "12   10001   81097  1998-06-23  1999-06-23\n",
       "13   10001   84917  1999-06-23  2000-06-22\n",
       "14   10001   85112  2000-06-22  2001-06-22\n",
       "15   10001   85097  2001-06-22  2002-06-22\n",
       "16   10001   88958  2002-06-22  9999-01-01\n",
       "17   10002   65828  1996-08-03  1997-08-03\n",
       "18   10002   65909  1997-08-03  1998-08-03\n",
       "19   10002   67534  1998-08-03  1999-08-03"
      ]
     },
     "execution_count": 100,
     "metadata": {},
     "output_type": "execute_result"
    }
   ],
   "source": [
    "salaries_df.head(20)"
   ]
  },
  {
   "cell_type": "markdown",
   "id": "4391f9c4",
   "metadata": {},
   "source": [
    "###  Is there a relationship between how long an employee has been with the company and their salary?\n",
    "\n",
    "H\n",
    "0\n",
    ": There is no linear relationship between employee tenure and their salary\n",
    "\n",
    "H\n",
    "a\n",
    ": There is a linear relationship between employee tenure and their salary\n"
   ]
  },
  {
   "cell_type": "code",
   "execution_count": 101,
   "id": "ed740385",
   "metadata": {},
   "outputs": [
    {
     "data": {
      "text/plain": [
       "(0.3064625613186014, 0.0)"
      ]
     },
     "execution_count": 101,
     "metadata": {},
     "output_type": "execute_result"
    }
   ],
   "source": [
    "stats.pearsonr(employees_with_salaries.tenure, employees_with_salaries.salary)"
   ]
  },
  {
   "cell_type": "code",
   "execution_count": 102,
   "id": "1dd163d1",
   "metadata": {},
   "outputs": [
    {
     "data": {
      "text/plain": [
       "<seaborn.axisgrid.FacetGrid at 0x287820280>"
      ]
     },
     "execution_count": 102,
     "metadata": {},
     "output_type": "execute_result"
    },
    {
     "data": {
      "image/png": "[encoded data removed]",
      "text/plain": [
       "<Figure size 360x360 with 1 Axes>"
      ]
     },
     "metadata": {
      "needs_background": "light"
     },
     "output_type": "display_data"
    }
   ],
   "source": [
    "sns.relplot(data=employees_with_salaries, y='salary', x='tenure')"
   ]
  },
  {
   "cell_type": "markdown",
   "id": "6a022a34",
   "metadata": {},
   "source": [
    "We can reject the null hypothesis, but the correlation is weak to moderate in the positive direction. Heteroscedasticity increases here as well, so if we took this correlation and used it as part of a linear regression for prediction, we would have a significant amount of potential error."
   ]
  },
  {
   "cell_type": "markdown",
   "id": "b6294a60",
   "metadata": {},
   "source": [
    "### Is there a relationship between how long an employee has been with the company and the number of titles they have had?"
   ]
  },
  {
   "cell_type": "code",
   "execution_count": 103,
   "id": "fc38cfb1",
   "metadata": {},
   "outputs": [],
   "source": [
    "query = '''\n",
    "SELECT\n",
    "    e.emp_no,\n",
    "    DATEDIFF((SELECT MAX(hire_date) FROM employees), e.hire_date) AS tenure,\n",
    "    n_titles\n",
    "FROM employees e\n",
    "JOIN (\n",
    "    SELECT emp_no, COUNT(*) as n_titles\n",
    "    FROM employees e\n",
    "    JOIN titles t USING (emp_no)\n",
    "    GROUP BY emp_no\n",
    ") emp_title_count USING (emp_no)\n",
    "'''"
   ]
  },
  {
   "cell_type": "code",
   "execution_count": 104,
   "id": "4dafdc5c",
   "metadata": {},
   "outputs": [],
   "source": [
    "employees_with_titles = pd.read_sql(query, url)"
   ]
  },
  {
   "cell_type": "code",
   "execution_count": 105,
   "id": "e9cbe325",
   "metadata": {},
   "outputs": [
    {
     "data": {
      "text/plain": [
       "(300024, 3)"
      ]
     },
     "execution_count": 105,
     "metadata": {},
     "output_type": "execute_result"
    }
   ],
   "source": [
    "employees_with_titles.shape"
   ]
  },
  {
   "cell_type": "code",
   "execution_count": 106,
   "id": "4fad4206",
   "metadata": {},
   "outputs": [
    {
     "data": {
      "text/html": [
       "<div>\n",
       "<style scoped>\n",
       "    .dataframe tbody tr th:only-of-type {\n",
       "        vertical-align: middle;\n",
       "    }\n",
       "\n",
       "    .dataframe tbody tr th {\n",
       "        vertical-align: top;\n",
       "    }\n",
       "\n",
       "    .dataframe thead th {\n",
       "        text-align: right;\n",
       "    }\n",
       "</style>\n",
       "<table border=\"1\" class=\"dataframe\">\n",
       "  <thead>\n",
       "    <tr style=\"text-align: right;\">\n",
       "      <th></th>\n",
       "      <th>emp_no</th>\n",
       "      <th>tenure</th>\n",
       "      <th>n_titles</th>\n",
       "    </tr>\n",
       "  </thead>\n",
       "  <tbody>\n",
       "    <tr>\n",
       "      <th>0</th>\n",
       "      <td>10001</td>\n",
       "      <td>4964</td>\n",
       "      <td>1</td>\n",
       "    </tr>\n",
       "    <tr>\n",
       "      <th>1</th>\n",
       "      <td>10002</td>\n",
       "      <td>5181</td>\n",
       "      <td>1</td>\n",
       "    </tr>\n",
       "    <tr>\n",
       "      <th>2</th>\n",
       "      <td>10003</td>\n",
       "      <td>4901</td>\n",
       "      <td>1</td>\n",
       "    </tr>\n",
       "    <tr>\n",
       "      <th>3</th>\n",
       "      <td>10004</td>\n",
       "      <td>4806</td>\n",
       "      <td>2</td>\n",
       "    </tr>\n",
       "    <tr>\n",
       "      <th>4</th>\n",
       "      <td>10005</td>\n",
       "      <td>3790</td>\n",
       "      <td>2</td>\n",
       "    </tr>\n",
       "  </tbody>\n",
       "</table>\n",
       "</div>"
      ],
      "text/plain": [
       "   emp_no  tenure  n_titles\n",
       "0   10001    4964         1\n",
       "1   10002    5181         1\n",
       "2   10003    4901         1\n",
       "3   10004    4806         2\n",
       "4   10005    3790         2"
      ]
     },
     "execution_count": 106,
     "metadata": {},
     "output_type": "execute_result"
    }
   ],
   "source": [
    "employees_with_titles.head()"
   ]
  },
  {
   "cell_type": "markdown",
   "id": "49d60f1c",
   "metadata": {},
   "source": [
    "\n",
    "H\n",
    "0\n",
    ": There's no linear relationship between employee tenure and number of titles\n",
    "\n",
    "H\n",
    "a\n",
    ": There's a linear relationship between employee tenure and number of titles"
   ]
  },
  {
   "cell_type": "code",
   "execution_count": 107,
   "id": "81635a13",
   "metadata": {},
   "outputs": [
    {
     "data": {
      "text/plain": [
       "(0.2665989299134097, 0.0)"
      ]
     },
     "execution_count": 107,
     "metadata": {},
     "output_type": "execute_result"
    }
   ],
   "source": [
    "stats.pearsonr(employees_with_titles.tenure, employees_with_titles.n_titles)"
   ]
  },
  {
   "cell_type": "code",
   "execution_count": null,
   "id": "110c632c",
   "metadata": {},
   "outputs": [],
   "source": [
    "We reject the null hypothesis"
   ]
  },
  {
   "cell_type": "markdown",
   "id": "63bc4391",
   "metadata": {},
   "source": [
    "# 4 Use the sleepstudy data.\n"
   ]
  },
  {
   "cell_type": "markdown",
   "id": "fd75da67",
   "metadata": {},
   "source": [
    "### Is there a relationship between days and reaction time?\n",
    "\n",
    "H\n",
    "0\n",
    ": there is no linear relationship between reaction time and number of days\n",
    "\n",
    "H\n",
    "a\n",
    ": there is a linear relationship between reaction time and number of days"
   ]
  },
  {
   "cell_type": "code",
   "execution_count": 108,
   "id": "4f54ff69",
   "metadata": {},
   "outputs": [],
   "source": [
    "from pydataset import data"
   ]
  },
  {
   "cell_type": "code",
   "execution_count": 109,
   "id": "a8d1a59d",
   "metadata": {
    "scrolled": true
   },
   "outputs": [],
   "source": [
    "sleep = data('sleepstudy')\n"
   ]
  },
  {
   "cell_type": "code",
   "execution_count": 112,
   "id": "6aa6c521",
   "metadata": {},
   "outputs": [
    {
     "name": "stdout",
     "output_type": "stream",
     "text": [
      "sleepstudy\n",
      "\n",
      "PyDataset Documentation (adopted from R Documentation. The displayed examples are in R)\n",
      "\n",
      "## Reaction times in a sleep deprivation study\n",
      "\n",
      "### Description\n",
      "\n",
      "The average reaction time per day for subjects in a sleep deprivation study.\n",
      "On day 0 the subjects had their normal amount of sleep. Starting that night\n",
      "they were restricted to 3 hours of sleep per night. The observations represent\n",
      "the average reaction time on a series of tests given each day to each subject.\n",
      "\n",
      "### Format\n",
      "\n",
      "A data frame with 180 observations on the following 3 variables.\n",
      "\n",
      "`Reaction`\n",
      "\n",
      "Average reaction time (ms)\n",
      "\n",
      "`Days`\n",
      "\n",
      "Number of days of sleep deprivation\n",
      "\n",
      "`Subject`\n",
      "\n",
      "Subject number on which the observation was made.\n",
      "\n",
      "### Details\n",
      "\n",
      "These data are from the study described in Belenky et al. (2003), for the\n",
      "sleep-deprived group and for the first 10 days of the study, up to the\n",
      "recovery period.\n",
      "\n",
      "### References\n",
      "\n",
      "Gregory Belenky, Nancy J. Wesensten, David R. Thorne, Maria L. Thomas, Helen\n",
      "C. Sing, Daniel P. Redmond, Michael B. Russo and Thomas J. Balkin (2003)\n",
      "Patterns of performance degradation and restoration during sleep restriction\n",
      "and subsequent recovery: a sleep dose-response study. _Journal of Sleep\n",
      "Research_ **12**, 1–12.\n",
      "\n",
      "### Examples\n",
      "\n",
      "    str(sleepstudy)\n",
      "    require(lattice)\n",
      "    xyplot(Reaction ~ Days | Subject, sleepstudy, type = c(\"g\",\"p\",\"r\"),\n",
      "           index = function(x,y) coef(lm(y ~ x))[1],\n",
      "           xlab = \"Days of sleep deprivation\",\n",
      "           ylab = \"Average reaction time (ms)\", aspect = \"xy\")\n",
      "    (fm1 <- lmer(Reaction ~ Days + (Days|Subject), sleepstudy))\n",
      "    (fm2 <- lmer(Reaction ~ Days + (1|Subject) + (0+Days|Subject), sleepstudy))\n",
      "\n",
      "\n"
     ]
    }
   ],
   "source": [
    "data('sleepstudy', show_doc=True)"
   ]
  },
  {
   "cell_type": "code",
   "execution_count": 114,
   "id": "9e84bfbe",
   "metadata": {},
   "outputs": [
    {
     "data": {
      "text/html": [
       "<div>\n",
       "<style scoped>\n",
       "    .dataframe tbody tr th:only-of-type {\n",
       "        vertical-align: middle;\n",
       "    }\n",
       "\n",
       "    .dataframe tbody tr th {\n",
       "        vertical-align: top;\n",
       "    }\n",
       "\n",
       "    .dataframe thead th {\n",
       "        text-align: right;\n",
       "    }\n",
       "</style>\n",
       "<table border=\"1\" class=\"dataframe\">\n",
       "  <thead>\n",
       "    <tr style=\"text-align: right;\">\n",
       "      <th></th>\n",
       "      <th>Reaction</th>\n",
       "      <th>Days</th>\n",
       "      <th>Subject</th>\n",
       "    </tr>\n",
       "  </thead>\n",
       "  <tbody>\n",
       "    <tr>\n",
       "      <th>1</th>\n",
       "      <td>249.5600</td>\n",
       "      <td>0</td>\n",
       "      <td>308</td>\n",
       "    </tr>\n",
       "    <tr>\n",
       "      <th>2</th>\n",
       "      <td>258.7047</td>\n",
       "      <td>1</td>\n",
       "      <td>308</td>\n",
       "    </tr>\n",
       "    <tr>\n",
       "      <th>3</th>\n",
       "      <td>250.8006</td>\n",
       "      <td>2</td>\n",
       "      <td>308</td>\n",
       "    </tr>\n",
       "    <tr>\n",
       "      <th>4</th>\n",
       "      <td>321.4398</td>\n",
       "      <td>3</td>\n",
       "      <td>308</td>\n",
       "    </tr>\n",
       "    <tr>\n",
       "      <th>5</th>\n",
       "      <td>356.8519</td>\n",
       "      <td>4</td>\n",
       "      <td>308</td>\n",
       "    </tr>\n",
       "  </tbody>\n",
       "</table>\n",
       "</div>"
      ],
      "text/plain": [
       "   Reaction  Days  Subject\n",
       "1  249.5600     0      308\n",
       "2  258.7047     1      308\n",
       "3  250.8006     2      308\n",
       "4  321.4398     3      308\n",
       "5  356.8519     4      308"
      ]
     },
     "execution_count": 114,
     "metadata": {},
     "output_type": "execute_result"
    }
   ],
   "source": [
    "\n",
    "sleep.head()"
   ]
  },
  {
   "cell_type": "code",
   "execution_count": 110,
   "id": "e63c7dad",
   "metadata": {
    "scrolled": true
   },
   "outputs": [
    {
     "data": {
      "text/plain": [
       "(0.5352302262650255, 9.89409632221439e-15)"
      ]
     },
     "execution_count": 110,
     "metadata": {},
     "output_type": "execute_result"
    }
   ],
   "source": [
    "stats.pearsonr(sleep.Reaction,sleep.Days)"
   ]
  },
  {
   "cell_type": "code",
   "execution_count": 115,
   "id": "08898009",
   "metadata": {},
   "outputs": [
    {
     "data": {
      "text/plain": [
       "<seaborn.axisgrid.FacetGrid at 0x29267dd90>"
      ]
     },
     "execution_count": 115,
     "metadata": {},
     "output_type": "execute_result"
    },
    {
     "data": {
      "image/png": "[encoded data removed]",
      "text/plain": [
       "<Figure size 360x360 with 1 Axes>"
      ]
     },
     "metadata": {
      "needs_background": "light"
     },
     "output_type": "display_data"
    }
   ],
   "source": [
    "sns.lmplot(data=sleep, y='Reaction', x='Days')"
   ]
  },
  {
   "cell_type": "markdown",
   "id": "80cc293c",
   "metadata": {},
   "source": [
    "# $ Chi Square$"
   ]
  },
  {
   "cell_type": "markdown",
   "id": "382a8c47",
   "metadata": {},
   "source": [
    "### 1 Answer with the type of stats test you would use (assume normal distribution):\n",
    "\n",
    "* Do students get better test grades if they have a rubber duck on their desk?\n",
    "    * variables:\n",
    "        * grades (continuous, numeric)\n",
    "        * rubber duck (discrete, boolean)\n",
    "       \n",
    "    We would use the t-test independent, 2 sample, 2-Tail\n",
    "\n",
    "* Does smoking affect when or not someone has lung cancer?\n",
    "    * variables:\n",
    "        * cancer (discrete, boolean)\n",
    "        * smoking (discrete, boolean)\n",
    "       \n",
    "    We would use the chi^2\n",
    "\n",
    "* Is gender independent of a person’s blood type?\n",
    "    * variables:\n",
    "        * gender (discrete, boolean)\n",
    "        * blood type (discrete, boolean)\n",
    "       \n",
    "    We would use the chi^2\n",
    "\n",
    "\n",
    "* A farming company wants to know if a new fertilizer has improved crop yield or not\n",
    "    * variables:\n",
    "        * old fertilizer vs new fertilizer (discrete, boolean)\n",
    "        * yield (continuous, numeric)\n",
    "       \n",
    "    We would use t-test independent, 2-sample, one-tail\n",
    "\n",
    "* Does the length of time of the lecture correlate with a students grade?\n",
    "    * variables:\n",
    "        * lecture time (continuous, numeric)\n",
    "        * students grades (continuous, numeric)\n",
    "       \n",
    "    We would use Pearson R\n",
    "\n",
    "* Do people with dogs live in apartments more than people with cats?\n",
    "\n",
    "    * variables:\n",
    "        * lecture time (continuous, numeric)\n",
    "        * students grades (continuous, numeric)\n",
    "       \n",
    "    We would use Pearson R\n"
   ]
  },
  {
   "cell_type": "markdown",
   "id": "13097c7d",
   "metadata": {},
   "source": [
    "### 2. Use the following contingency table to help answer the question of whether using a macbook and being a codeup student are independent of each other.\n",
    "\n",
    "            Codeup Student\tNot Codeup Student\n",
    "    Uses a Macbook\t49\t20\n",
    "    Doesn't Use A Macbook\t1\t30\n",
    "\n",
    "    * variables:\n",
    "        * code up student (discrete, boolean)\n",
    "        * macbook owner (discrete, boolean)\n",
    "       \n",
    "    We would use the chi^2 test  \n",
    "    \n",
    "#### 1. Form Hypothesis\n",
    "\n",
    "$H_0$: There is **no** association between being a mackbook owner and being a codeup student\n",
    "\n",
    "$H_0$: There is an association between being a mackbook owner and being a codeup student"
   ]
  },
  {
   "cell_type": "code",
   "execution_count": 168,
   "id": "37119690",
   "metadata": {},
   "outputs": [],
   "source": [
    "alpha = 0.05"
   ]
  },
  {
   "cell_type": "code",
   "execution_count": 148,
   "id": "13d66fe9",
   "metadata": {},
   "outputs": [],
   "source": [
    "import pandas as pd\n",
    "import numpy as np\n",
    "\n",
    "from pydataset import data\n",
    "from scipy import stats"
   ]
  },
  {
   "cell_type": "markdown",
   "id": "59c03915",
   "metadata": {},
   "source": [
    "#### 2. contingency table"
   ]
  },
  {
   "cell_type": "code",
   "execution_count": 163,
   "id": "44718dff",
   "metadata": {
    "scrolled": true
   },
   "outputs": [
    {
     "name": "stdout",
     "output_type": "stream",
     "text": [
      "<class 'pandas.core.frame.DataFrame'>\n",
      "RangeIndex: 2 entries, 0 to 1\n",
      "Data columns (total 2 columns):\n",
      " #   Column  Non-Null Count  Dtype\n",
      "---  ------  --------------  -----\n",
      " 0   0       2 non-null      int64\n",
      " 1   1       2 non-null      int64\n",
      "dtypes: int64(2)\n",
      "memory usage: 160.0 bytes\n"
     ]
    }
   ],
   "source": [
    "# create data frame of observation\n",
    "\n",
    "data = [[49,20],[1,30]]\n",
    "\n",
    "df = pd.DataFrame(data)\n",
    "df.info()"
   ]
  },
  {
   "cell_type": "markdown",
   "id": "5777e0b3",
   "metadata": {},
   "source": [
    "#### 3. use stats.chi2_contingency"
   ]
  },
  {
   "cell_type": "code",
   "execution_count": 161,
   "id": "f91db0e5",
   "metadata": {
    "scrolled": false
   },
   "outputs": [
    {
     "data": {
      "text/plain": [
       "(36.65264142122487, 1.4116760526193828e-09)"
      ]
     },
     "execution_count": 161,
     "metadata": {},
     "output_type": "execute_result"
    }
   ],
   "source": [
    "# Run chi^2 test\n",
    "chi2,p,degf, expected = stats.chi2_contingency(df)\n",
    "chi2, p"
   ]
  },
  {
   "cell_type": "code",
   "execution_count": 166,
   "id": "9590af54",
   "metadata": {
    "scrolled": true
   },
   "outputs": [
    {
     "name": "stdout",
     "output_type": "stream",
     "text": [
      "observed\n",
      "[[49 20]\n",
      " [ 1 30]]\n",
      "\n",
      "expected\n",
      "[[34 34]\n",
      " [15 15]]\n",
      "\n",
      "----\n",
      "chi^2 = 36.6526\n",
      "p     = 0.0000\n"
     ]
    }
   ],
   "source": [
    "print('observed')\n",
    "print(df.values)\n",
    "print('\\nexpected')\n",
    "print(expected.astype(int))\n",
    "print('\\n----')\n",
    "print(f'chi^2 = {chi2:.4f}')\n",
    "print(f'p     = {p:.4f}')"
   ]
  },
  {
   "cell_type": "code",
   "execution_count": 169,
   "id": "a0f3a104",
   "metadata": {
    "scrolled": true
   },
   "outputs": [
    {
     "name": "stdout",
     "output_type": "stream",
     "text": [
      "We reject the null\n"
     ]
    }
   ],
   "source": [
    "if p < alpha:\n",
    "    print('We reject the null')\n",
    "else:\n",
    "    print(\"we fail to reject the null\")"
   ]
  },
  {
   "cell_type": "markdown",
   "id": "502e3111",
   "metadata": {},
   "source": [
    "We reject the null hypothesis.\n",
    "There appears to be an association between codeup students and macbook ownership"
   ]
  },
  {
   "cell_type": "markdown",
   "id": "8da9de99",
   "metadata": {},
   "source": [
    "### 2.  Choose another 2 categorical variables from the mpg dataset and perform a chi^2 contingency table test with them. Be sure to state your null and alternative hypotheses.\n",
    "\n",
    "* variables:\n",
    "        * manufacturer (discrete, boolean)\n",
    "        * class (discrete, boolean)\n",
    "       \n",
    "    We would use the chi^2 test  \n",
    "    \n",
    "#### 1. Form Hypothesis\n",
    "\n",
    "$H_0$: There is **no** association between manufactured and class\n",
    "\n",
    "$H_0$: There is an association between manufactured and class"
   ]
  },
  {
   "cell_type": "code",
   "execution_count": 174,
   "id": "2ccc9362",
   "metadata": {
    "scrolled": true
   },
   "outputs": [
    {
     "data": {
      "text/html": [
       "<div>\n",
       "<style scoped>\n",
       "    .dataframe tbody tr th:only-of-type {\n",
       "        vertical-align: middle;\n",
       "    }\n",
       "\n",
       "    .dataframe tbody tr th {\n",
       "        vertical-align: top;\n",
       "    }\n",
       "\n",
       "    .dataframe thead th {\n",
       "        text-align: right;\n",
       "    }\n",
       "</style>\n",
       "<table border=\"1\" class=\"dataframe\">\n",
       "  <thead>\n",
       "    <tr style=\"text-align: right;\">\n",
       "      <th></th>\n",
       "      <th>manufacturer</th>\n",
       "      <th>model</th>\n",
       "      <th>displ</th>\n",
       "      <th>year</th>\n",
       "      <th>cyl</th>\n",
       "      <th>trans</th>\n",
       "      <th>drv</th>\n",
       "      <th>cty</th>\n",
       "      <th>hwy</th>\n",
       "      <th>fl</th>\n",
       "      <th>class</th>\n",
       "    </tr>\n",
       "  </thead>\n",
       "  <tbody>\n",
       "    <tr>\n",
       "      <th>1</th>\n",
       "      <td>audi</td>\n",
       "      <td>a4</td>\n",
       "      <td>1.8</td>\n",
       "      <td>1999</td>\n",
       "      <td>4</td>\n",
       "      <td>auto(l5)</td>\n",
       "      <td>f</td>\n",
       "      <td>18</td>\n",
       "      <td>29</td>\n",
       "      <td>p</td>\n",
       "      <td>compact</td>\n",
       "    </tr>\n",
       "    <tr>\n",
       "      <th>2</th>\n",
       "      <td>audi</td>\n",
       "      <td>a4</td>\n",
       "      <td>1.8</td>\n",
       "      <td>1999</td>\n",
       "      <td>4</td>\n",
       "      <td>manual(m5)</td>\n",
       "      <td>f</td>\n",
       "      <td>21</td>\n",
       "      <td>29</td>\n",
       "      <td>p</td>\n",
       "      <td>compact</td>\n",
       "    </tr>\n",
       "    <tr>\n",
       "      <th>3</th>\n",
       "      <td>audi</td>\n",
       "      <td>a4</td>\n",
       "      <td>2.0</td>\n",
       "      <td>2008</td>\n",
       "      <td>4</td>\n",
       "      <td>manual(m6)</td>\n",
       "      <td>f</td>\n",
       "      <td>20</td>\n",
       "      <td>31</td>\n",
       "      <td>p</td>\n",
       "      <td>compact</td>\n",
       "    </tr>\n",
       "    <tr>\n",
       "      <th>4</th>\n",
       "      <td>audi</td>\n",
       "      <td>a4</td>\n",
       "      <td>2.0</td>\n",
       "      <td>2008</td>\n",
       "      <td>4</td>\n",
       "      <td>auto(av)</td>\n",
       "      <td>f</td>\n",
       "      <td>21</td>\n",
       "      <td>30</td>\n",
       "      <td>p</td>\n",
       "      <td>compact</td>\n",
       "    </tr>\n",
       "    <tr>\n",
       "      <th>5</th>\n",
       "      <td>audi</td>\n",
       "      <td>a4</td>\n",
       "      <td>2.8</td>\n",
       "      <td>1999</td>\n",
       "      <td>6</td>\n",
       "      <td>auto(l5)</td>\n",
       "      <td>f</td>\n",
       "      <td>16</td>\n",
       "      <td>26</td>\n",
       "      <td>p</td>\n",
       "      <td>compact</td>\n",
       "    </tr>\n",
       "  </tbody>\n",
       "</table>\n",
       "</div>"
      ],
      "text/plain": [
       "  manufacturer model  displ  year  cyl       trans drv  cty  hwy fl    class\n",
       "1         audi    a4    1.8  1999    4    auto(l5)   f   18   29  p  compact\n",
       "2         audi    a4    1.8  1999    4  manual(m5)   f   21   29  p  compact\n",
       "3         audi    a4    2.0  2008    4  manual(m6)   f   20   31  p  compact\n",
       "4         audi    a4    2.0  2008    4    auto(av)   f   21   30  p  compact\n",
       "5         audi    a4    2.8  1999    6    auto(l5)   f   16   26  p  compact"
      ]
     },
     "execution_count": 174,
     "metadata": {},
     "output_type": "execute_result"
    }
   ],
   "source": [
    "mpg = data('mpg')\n",
    "mpg.head()"
   ]
  },
  {
   "cell_type": "markdown",
   "id": "63ca95f5",
   "metadata": {},
   "source": [
    "#### 2. Make our contingency table"
   ]
  },
  {
   "cell_type": "code",
   "execution_count": 177,
   "id": "59f38374",
   "metadata": {
    "scrolled": false
   },
   "outputs": [
    {
     "data": {
      "text/html": [
       "<div>\n",
       "<style scoped>\n",
       "    .dataframe tbody tr th:only-of-type {\n",
       "        vertical-align: middle;\n",
       "    }\n",
       "\n",
       "    .dataframe tbody tr th {\n",
       "        vertical-align: top;\n",
       "    }\n",
       "\n",
       "    .dataframe thead th {\n",
       "        text-align: right;\n",
       "    }\n",
       "</style>\n",
       "<table border=\"1\" class=\"dataframe\">\n",
       "  <thead>\n",
       "    <tr style=\"text-align: right;\">\n",
       "      <th>class</th>\n",
       "      <th>2seater</th>\n",
       "      <th>compact</th>\n",
       "      <th>midsize</th>\n",
       "      <th>minivan</th>\n",
       "      <th>pickup</th>\n",
       "      <th>subcompact</th>\n",
       "      <th>suv</th>\n",
       "    </tr>\n",
       "    <tr>\n",
       "      <th>manufacturer</th>\n",
       "      <th></th>\n",
       "      <th></th>\n",
       "      <th></th>\n",
       "      <th></th>\n",
       "      <th></th>\n",
       "      <th></th>\n",
       "      <th></th>\n",
       "    </tr>\n",
       "  </thead>\n",
       "  <tbody>\n",
       "    <tr>\n",
       "      <th>audi</th>\n",
       "      <td>0</td>\n",
       "      <td>15</td>\n",
       "      <td>3</td>\n",
       "      <td>0</td>\n",
       "      <td>0</td>\n",
       "      <td>0</td>\n",
       "      <td>0</td>\n",
       "    </tr>\n",
       "    <tr>\n",
       "      <th>chevrolet</th>\n",
       "      <td>5</td>\n",
       "      <td>0</td>\n",
       "      <td>5</td>\n",
       "      <td>0</td>\n",
       "      <td>0</td>\n",
       "      <td>0</td>\n",
       "      <td>9</td>\n",
       "    </tr>\n",
       "    <tr>\n",
       "      <th>dodge</th>\n",
       "      <td>0</td>\n",
       "      <td>0</td>\n",
       "      <td>0</td>\n",
       "      <td>11</td>\n",
       "      <td>19</td>\n",
       "      <td>0</td>\n",
       "      <td>7</td>\n",
       "    </tr>\n",
       "    <tr>\n",
       "      <th>ford</th>\n",
       "      <td>0</td>\n",
       "      <td>0</td>\n",
       "      <td>0</td>\n",
       "      <td>0</td>\n",
       "      <td>7</td>\n",
       "      <td>9</td>\n",
       "      <td>9</td>\n",
       "    </tr>\n",
       "    <tr>\n",
       "      <th>honda</th>\n",
       "      <td>0</td>\n",
       "      <td>0</td>\n",
       "      <td>0</td>\n",
       "      <td>0</td>\n",
       "      <td>0</td>\n",
       "      <td>9</td>\n",
       "      <td>0</td>\n",
       "    </tr>\n",
       "    <tr>\n",
       "      <th>hyundai</th>\n",
       "      <td>0</td>\n",
       "      <td>0</td>\n",
       "      <td>7</td>\n",
       "      <td>0</td>\n",
       "      <td>0</td>\n",
       "      <td>7</td>\n",
       "      <td>0</td>\n",
       "    </tr>\n",
       "    <tr>\n",
       "      <th>jeep</th>\n",
       "      <td>0</td>\n",
       "      <td>0</td>\n",
       "      <td>0</td>\n",
       "      <td>0</td>\n",
       "      <td>0</td>\n",
       "      <td>0</td>\n",
       "      <td>8</td>\n",
       "    </tr>\n",
       "    <tr>\n",
       "      <th>land rover</th>\n",
       "      <td>0</td>\n",
       "      <td>0</td>\n",
       "      <td>0</td>\n",
       "      <td>0</td>\n",
       "      <td>0</td>\n",
       "      <td>0</td>\n",
       "      <td>4</td>\n",
       "    </tr>\n",
       "    <tr>\n",
       "      <th>lincoln</th>\n",
       "      <td>0</td>\n",
       "      <td>0</td>\n",
       "      <td>0</td>\n",
       "      <td>0</td>\n",
       "      <td>0</td>\n",
       "      <td>0</td>\n",
       "      <td>3</td>\n",
       "    </tr>\n",
       "    <tr>\n",
       "      <th>mercury</th>\n",
       "      <td>0</td>\n",
       "      <td>0</td>\n",
       "      <td>0</td>\n",
       "      <td>0</td>\n",
       "      <td>0</td>\n",
       "      <td>0</td>\n",
       "      <td>4</td>\n",
       "    </tr>\n",
       "    <tr>\n",
       "      <th>nissan</th>\n",
       "      <td>0</td>\n",
       "      <td>2</td>\n",
       "      <td>7</td>\n",
       "      <td>0</td>\n",
       "      <td>0</td>\n",
       "      <td>0</td>\n",
       "      <td>4</td>\n",
       "    </tr>\n",
       "    <tr>\n",
       "      <th>pontiac</th>\n",
       "      <td>0</td>\n",
       "      <td>0</td>\n",
       "      <td>5</td>\n",
       "      <td>0</td>\n",
       "      <td>0</td>\n",
       "      <td>0</td>\n",
       "      <td>0</td>\n",
       "    </tr>\n",
       "    <tr>\n",
       "      <th>subaru</th>\n",
       "      <td>0</td>\n",
       "      <td>4</td>\n",
       "      <td>0</td>\n",
       "      <td>0</td>\n",
       "      <td>0</td>\n",
       "      <td>4</td>\n",
       "      <td>6</td>\n",
       "    </tr>\n",
       "    <tr>\n",
       "      <th>toyota</th>\n",
       "      <td>0</td>\n",
       "      <td>12</td>\n",
       "      <td>7</td>\n",
       "      <td>0</td>\n",
       "      <td>7</td>\n",
       "      <td>0</td>\n",
       "      <td>8</td>\n",
       "    </tr>\n",
       "    <tr>\n",
       "      <th>volkswagen</th>\n",
       "      <td>0</td>\n",
       "      <td>14</td>\n",
       "      <td>7</td>\n",
       "      <td>0</td>\n",
       "      <td>0</td>\n",
       "      <td>6</td>\n",
       "      <td>0</td>\n",
       "    </tr>\n",
       "  </tbody>\n",
       "</table>\n",
       "</div>"
      ],
      "text/plain": [
       "class         2seater  compact  midsize  minivan  pickup  subcompact  suv\n",
       "manufacturer                                                             \n",
       "audi                0       15        3        0       0           0    0\n",
       "chevrolet           5        0        5        0       0           0    9\n",
       "dodge               0        0        0       11      19           0    7\n",
       "ford                0        0        0        0       7           9    9\n",
       "honda               0        0        0        0       0           9    0\n",
       "hyundai             0        0        7        0       0           7    0\n",
       "jeep                0        0        0        0       0           0    8\n",
       "land rover          0        0        0        0       0           0    4\n",
       "lincoln             0        0        0        0       0           0    3\n",
       "mercury             0        0        0        0       0           0    4\n",
       "nissan              0        2        7        0       0           0    4\n",
       "pontiac             0        0        5        0       0           0    0\n",
       "subaru              0        4        0        0       0           4    6\n",
       "toyota              0       12        7        0       7           0    8\n",
       "volkswagen          0       14        7        0       0           6    0"
      ]
     },
     "execution_count": 177,
     "metadata": {},
     "output_type": "execute_result"
    }
   ],
   "source": [
    "observed = pd.crosstab(mpg.manufacturer, mpg['class'])\n",
    "observed"
   ]
  },
  {
   "cell_type": "markdown",
   "id": "7cefd524",
   "metadata": {},
   "source": [
    "#### 3. use stats.chi2_contingency"
   ]
  },
  {
   "cell_type": "code",
   "execution_count": 180,
   "id": "b202be17",
   "metadata": {},
   "outputs": [],
   "source": [
    "chi2, p, degf, expected = stats.chi2_contingency(observed)"
   ]
  },
  {
   "cell_type": "code",
   "execution_count": 182,
   "id": "7d948289",
   "metadata": {
    "scrolled": true
   },
   "outputs": [
    {
     "name": "stdout",
     "output_type": "stream",
     "text": [
      "Observed\n",
      "[[ 0 15  3  0  0  0  0]\n",
      " [ 5  0  5  0  0  0  9]\n",
      " [ 0  0  0 11 19  0  7]\n",
      " [ 0  0  0  0  7  9  9]\n",
      " [ 0  0  0  0  0  9  0]\n",
      " [ 0  0  7  0  0  7  0]\n",
      " [ 0  0  0  0  0  0  8]\n",
      " [ 0  0  0  0  0  0  4]\n",
      " [ 0  0  0  0  0  0  3]\n",
      " [ 0  0  0  0  0  0  4]\n",
      " [ 0  2  7  0  0  0  4]\n",
      " [ 0  0  5  0  0  0  0]\n",
      " [ 0  4  0  0  0  4  6]\n",
      " [ 0 12  7  0  7  0  8]\n",
      " [ 0 14  7  0  0  6  0]]\n",
      "\n",
      "Expected\n",
      "[[0 3 3 0 2 2 4]\n",
      " [0 3 3 0 2 2 5]\n",
      " [0 7 6 1 5 5 9]\n",
      " [0 5 4 1 3 3 6]\n",
      " [0 1 1 0 1 1 2]\n",
      " [0 2 2 0 1 2 3]\n",
      " [0 1 1 0 1 1 2]\n",
      " [0 0 0 0 0 0 1]\n",
      " [0 0 0 0 0 0 0]\n",
      " [0 0 0 0 0 0 1]\n",
      " [0 2 2 0 1 1 3]\n",
      " [0 1 0 0 0 0 1]\n",
      " [0 2 2 0 1 2 3]\n",
      " [0 6 5 1 4 5 9]\n",
      " [0 5 4 1 3 4 7]]\n",
      "\n",
      "----\n",
      "chi^2 = 464.3721\n",
      "p     = 0.0000\n"
     ]
    }
   ],
   "source": [
    "\n",
    "print('Observed')\n",
    "print(observed.values)\n",
    "print('\\nExpected')\n",
    "print(expected.astype(int))\n",
    "print('\\n----')\n",
    "print(f'chi^2 = {chi2:.4f}')\n",
    "print(f'p     = {p:.4f}')"
   ]
  },
  {
   "cell_type": "code",
   "execution_count": 184,
   "id": "6043f17b",
   "metadata": {},
   "outputs": [
    {
     "name": "stdout",
     "output_type": "stream",
     "text": [
      "We reject the null\n"
     ]
    }
   ],
   "source": [
    "\n",
    "if p < alpha:\n",
    "    print('We reject the null')\n",
    "else:\n",
    "    print(\"we fail to reject the null\")"
   ]
  },
  {
   "cell_type": "markdown",
   "id": "621c5ef4",
   "metadata": {},
   "source": [
    "We reject the null hypothesis\n",
    "There is a significant association between manufactured and class"
   ]
  },
  {
   "cell_type": "markdown",
   "id": "1e47fc34",
   "metadata": {},
   "source": [
    "### 4. Use the data from the employees database to answer these questions:\n",
    "\n",
    "* Is an employee's gender independent of whether an employee works in sales or marketing? (only look at current employees)\n",
    "\n",
    "* Is an employee's gender independent of whether or not they are or have been a manager?"
   ]
  },
  {
   "cell_type": "markdown",
   "id": "1e35c63a",
   "metadata": {},
   "source": [
    "### Is an employee's gender independent of whether an employee works in sales or marketing? (only look at current employees)"
   ]
  },
  {
   "cell_type": "markdown",
   "id": "6b4507e4",
   "metadata": {},
   "source": [
    "* variables:\n",
    "        * gender (discrete, boolean)\n",
    "        * sales vs marketing (discrete, boolean)\n",
    "       \n",
    "    We would use the chi^2 test  \n",
    "    \n",
    "#### 1. Form Hypothesis\n",
    "\n",
    "H\n",
    "o\n",
    ": there is no association between gender and the department\n",
    "\n",
    "H\n",
    "a\n",
    ": there is an association between gender and the department"
   ]
  },
  {
   "cell_type": "code",
   "execution_count": 117,
   "id": "1aafa8c5",
   "metadata": {},
   "outputs": [],
   "source": [
    "url = env.get_db_url('employees')\n",
    "\n",
    "query = '''\n",
    "SELECT employees.gender, departments.dept_name\n",
    "From employees\n",
    "join dept_emp using(emp_no)\t\n",
    "join departments using(dept_no)\n",
    "where to_date > curdate()\n",
    "'''\n"
   ]
  },
  {
   "cell_type": "code",
   "execution_count": 120,
   "id": "8477c8b8",
   "metadata": {},
   "outputs": [
    {
     "data": {
      "text/html": [
       "<div>\n",
       "<style scoped>\n",
       "    .dataframe tbody tr th:only-of-type {\n",
       "        vertical-align: middle;\n",
       "    }\n",
       "\n",
       "    .dataframe tbody tr th {\n",
       "        vertical-align: top;\n",
       "    }\n",
       "\n",
       "    .dataframe thead th {\n",
       "        text-align: right;\n",
       "    }\n",
       "</style>\n",
       "<table border=\"1\" class=\"dataframe\">\n",
       "  <thead>\n",
       "    <tr style=\"text-align: right;\">\n",
       "      <th></th>\n",
       "      <th>gender</th>\n",
       "      <th>dept_name</th>\n",
       "    </tr>\n",
       "  </thead>\n",
       "  <tbody>\n",
       "    <tr>\n",
       "      <th>0</th>\n",
       "      <td>M</td>\n",
       "      <td>Customer Service</td>\n",
       "    </tr>\n",
       "    <tr>\n",
       "      <th>1</th>\n",
       "      <td>F</td>\n",
       "      <td>Customer Service</td>\n",
       "    </tr>\n",
       "    <tr>\n",
       "      <th>2</th>\n",
       "      <td>M</td>\n",
       "      <td>Customer Service</td>\n",
       "    </tr>\n",
       "    <tr>\n",
       "      <th>3</th>\n",
       "      <td>F</td>\n",
       "      <td>Customer Service</td>\n",
       "    </tr>\n",
       "    <tr>\n",
       "      <th>4</th>\n",
       "      <td>F</td>\n",
       "      <td>Customer Service</td>\n",
       "    </tr>\n",
       "    <tr>\n",
       "      <th>...</th>\n",
       "      <td>...</td>\n",
       "      <td>...</td>\n",
       "    </tr>\n",
       "    <tr>\n",
       "      <th>240119</th>\n",
       "      <td>F</td>\n",
       "      <td>Sales</td>\n",
       "    </tr>\n",
       "    <tr>\n",
       "      <th>240120</th>\n",
       "      <td>M</td>\n",
       "      <td>Sales</td>\n",
       "    </tr>\n",
       "    <tr>\n",
       "      <th>240121</th>\n",
       "      <td>M</td>\n",
       "      <td>Sales</td>\n",
       "    </tr>\n",
       "    <tr>\n",
       "      <th>240122</th>\n",
       "      <td>F</td>\n",
       "      <td>Sales</td>\n",
       "    </tr>\n",
       "    <tr>\n",
       "      <th>240123</th>\n",
       "      <td>F</td>\n",
       "      <td>Sales</td>\n",
       "    </tr>\n",
       "  </tbody>\n",
       "</table>\n",
       "<p>240124 rows × 2 columns</p>\n",
       "</div>"
      ],
      "text/plain": [
       "       gender         dept_name\n",
       "0           M  Customer Service\n",
       "1           F  Customer Service\n",
       "2           M  Customer Service\n",
       "3           F  Customer Service\n",
       "4           F  Customer Service\n",
       "...       ...               ...\n",
       "240119      F             Sales\n",
       "240120      M             Sales\n",
       "240121      M             Sales\n",
       "240122      F             Sales\n",
       "240123      F             Sales\n",
       "\n",
       "[240124 rows x 2 columns]"
      ]
     },
     "execution_count": 120,
     "metadata": {},
     "output_type": "execute_result"
    }
   ],
   "source": [
    "#read in sql data\n",
    "df = pd.read_sql(query, url)\n",
    "df"
   ]
  },
  {
   "cell_type": "code",
   "execution_count": 121,
   "id": "304bb2c8",
   "metadata": {
    "scrolled": true
   },
   "outputs": [
    {
     "data": {
      "text/plain": [
       "M    144114\n",
       "F     96010\n",
       "Name: gender, dtype: int64"
      ]
     },
     "execution_count": 121,
     "metadata": {},
     "output_type": "execute_result"
    }
   ],
   "source": [
    "#view gender data\n",
    "df.gender.value_counts()"
   ]
  },
  {
   "cell_type": "code",
   "execution_count": 122,
   "id": "0af45cdf",
   "metadata": {},
   "outputs": [
    {
     "data": {
      "text/plain": [
       "Development           61386\n",
       "Production            53304\n",
       "Sales                 37701\n",
       "Customer Service      17569\n",
       "Research              15441\n",
       "Marketing             14842\n",
       "Quality Management    14546\n",
       "Human Resources       12898\n",
       "Finance               12437\n",
       "Name: dept_name, dtype: int64"
      ]
     },
     "execution_count": 122,
     "metadata": {},
     "output_type": "execute_result"
    }
   ],
   "source": [
    "#view dept_name data\n",
    "df.dept_name.value_counts()"
   ]
  },
  {
   "cell_type": "code",
   "execution_count": 123,
   "id": "a6dcbaea",
   "metadata": {},
   "outputs": [
    {
     "data": {
      "text/html": [
       "<div>\n",
       "<style scoped>\n",
       "    .dataframe tbody tr th:only-of-type {\n",
       "        vertical-align: middle;\n",
       "    }\n",
       "\n",
       "    .dataframe tbody tr th {\n",
       "        vertical-align: top;\n",
       "    }\n",
       "\n",
       "    .dataframe thead th {\n",
       "        text-align: right;\n",
       "    }\n",
       "</style>\n",
       "<table border=\"1\" class=\"dataframe\">\n",
       "  <thead>\n",
       "    <tr style=\"text-align: right;\">\n",
       "      <th>dept_name</th>\n",
       "      <th>Customer Service</th>\n",
       "      <th>Development</th>\n",
       "      <th>Finance</th>\n",
       "      <th>Human Resources</th>\n",
       "      <th>Marketing</th>\n",
       "      <th>Production</th>\n",
       "      <th>Quality Management</th>\n",
       "      <th>Research</th>\n",
       "      <th>Sales</th>\n",
       "    </tr>\n",
       "    <tr>\n",
       "      <th>gender</th>\n",
       "      <th></th>\n",
       "      <th></th>\n",
       "      <th></th>\n",
       "      <th></th>\n",
       "      <th></th>\n",
       "      <th></th>\n",
       "      <th></th>\n",
       "      <th></th>\n",
       "      <th></th>\n",
       "    </tr>\n",
       "  </thead>\n",
       "  <tbody>\n",
       "    <tr>\n",
       "      <th>F</th>\n",
       "      <td>7007</td>\n",
       "      <td>24533</td>\n",
       "      <td>5014</td>\n",
       "      <td>5147</td>\n",
       "      <td>5864</td>\n",
       "      <td>21393</td>\n",
       "      <td>5872</td>\n",
       "      <td>6181</td>\n",
       "      <td>14999</td>\n",
       "    </tr>\n",
       "    <tr>\n",
       "      <th>M</th>\n",
       "      <td>10562</td>\n",
       "      <td>36853</td>\n",
       "      <td>7423</td>\n",
       "      <td>7751</td>\n",
       "      <td>8978</td>\n",
       "      <td>31911</td>\n",
       "      <td>8674</td>\n",
       "      <td>9260</td>\n",
       "      <td>22702</td>\n",
       "    </tr>\n",
       "  </tbody>\n",
       "</table>\n",
       "</div>"
      ],
      "text/plain": [
       "dept_name  Customer Service  Development  Finance  Human Resources  Marketing  \\\n",
       "gender                                                                          \n",
       "F                      7007        24533     5014             5147       5864   \n",
       "M                     10562        36853     7423             7751       8978   \n",
       "\n",
       "dept_name  Production  Quality Management  Research  Sales  \n",
       "gender                                                      \n",
       "F               21393                5872      6181  14999  \n",
       "M               31911                8674      9260  22702  "
      ]
     },
     "execution_count": 123,
     "metadata": {},
     "output_type": "execute_result"
    }
   ],
   "source": [
    "#create contigency table\n",
    "observed = pd.crosstab(df.gender, df.dept_name)\n",
    "observed"
   ]
  },
  {
   "cell_type": "code",
   "execution_count": 124,
   "id": "3b83c8b3",
   "metadata": {},
   "outputs": [],
   "source": [
    "#calculate chi2 and p-value\n",
    "chi2, p, degf, expected = stats.chi2_contingency(observed)"
   ]
  },
  {
   "cell_type": "code",
   "execution_count": 125,
   "id": "5d9db4e2",
   "metadata": {},
   "outputs": [
    {
     "name": "stdout",
     "output_type": "stream",
     "text": [
      "Observed\n",
      "[[ 7007 24533  5014  5147  5864 21393  5872  6181 14999]\n",
      " [10562 36853  7423  7751  8978 31911  8674  9260 22702]]\n",
      "\n",
      "Expected\n",
      "[[ 7024 24544  4972  5157  5934 21312  5816  6173 15074]\n",
      " [10544 36841  7464  7740  8907 31991  8729  9267 22626]]\n",
      "\n",
      "----\n",
      "chi^2 = 4.1153\n",
      "p     = 0.8466\n"
     ]
    }
   ],
   "source": [
    "#output values\n",
    "print('Observed')\n",
    "print(observed.values)\n",
    "print('\\nExpected')\n",
    "print(expected.astype(int))\n",
    "print('\\n----')\n",
    "print(f'chi^2 = {chi2:.4f}')\n",
    "print(f'p     = {p:.4f}')"
   ]
  },
  {
   "cell_type": "code",
   "execution_count": 126,
   "id": "f57e2a0d",
   "metadata": {},
   "outputs": [
    {
     "name": "stdout",
     "output_type": "stream",
     "text": [
      "We fail to reject the null hypothesis\n"
     ]
    }
   ],
   "source": [
    "#conclude\n",
    "if p < alpha:\n",
    "    print('We reject the null hypothesis')\n",
    "else:\n",
    "    print('We fail to reject the null hypothesis')"
   ]
  },
  {
   "cell_type": "markdown",
   "id": "c03004cd",
   "metadata": {},
   "source": [
    "### Is an employee's gender independent of whether or not they are or have been a manager?\n",
    "H\n",
    "o\n",
    ": there is no association between being a persons gender and being a manager\n",
    "\n",
    "H\n",
    "a\n",
    ": there is a association between being a persons gender and being a manager"
   ]
  },
  {
   "cell_type": "code",
   "execution_count": 128,
   "id": "8b0d81e0",
   "metadata": {},
   "outputs": [],
   "source": [
    "#set sql query\n",
    "query = '''\n",
    "        select emp_no, gender, dept_no\n",
    "        from employees\n",
    "            left join dept_manager\n",
    "                using (emp_no)\n",
    "        '''"
   ]
  },
  {
   "cell_type": "code",
   "execution_count": 129,
   "id": "99cc9a5a",
   "metadata": {},
   "outputs": [
    {
     "data": {
      "text/html": [
       "<div>\n",
       "<style scoped>\n",
       "    .dataframe tbody tr th:only-of-type {\n",
       "        vertical-align: middle;\n",
       "    }\n",
       "\n",
       "    .dataframe tbody tr th {\n",
       "        vertical-align: top;\n",
       "    }\n",
       "\n",
       "    .dataframe thead th {\n",
       "        text-align: right;\n",
       "    }\n",
       "</style>\n",
       "<table border=\"1\" class=\"dataframe\">\n",
       "  <thead>\n",
       "    <tr style=\"text-align: right;\">\n",
       "      <th></th>\n",
       "      <th>emp_no</th>\n",
       "      <th>gender</th>\n",
       "      <th>dept_no</th>\n",
       "    </tr>\n",
       "  </thead>\n",
       "  <tbody>\n",
       "    <tr>\n",
       "      <th>0</th>\n",
       "      <td>10001</td>\n",
       "      <td>M</td>\n",
       "      <td>None</td>\n",
       "    </tr>\n",
       "    <tr>\n",
       "      <th>1</th>\n",
       "      <td>10002</td>\n",
       "      <td>F</td>\n",
       "      <td>None</td>\n",
       "    </tr>\n",
       "    <tr>\n",
       "      <th>2</th>\n",
       "      <td>10003</td>\n",
       "      <td>M</td>\n",
       "      <td>None</td>\n",
       "    </tr>\n",
       "    <tr>\n",
       "      <th>3</th>\n",
       "      <td>10004</td>\n",
       "      <td>M</td>\n",
       "      <td>None</td>\n",
       "    </tr>\n",
       "    <tr>\n",
       "      <th>4</th>\n",
       "      <td>10005</td>\n",
       "      <td>M</td>\n",
       "      <td>None</td>\n",
       "    </tr>\n",
       "    <tr>\n",
       "      <th>...</th>\n",
       "      <td>...</td>\n",
       "      <td>...</td>\n",
       "      <td>...</td>\n",
       "    </tr>\n",
       "    <tr>\n",
       "      <th>300019</th>\n",
       "      <td>499995</td>\n",
       "      <td>F</td>\n",
       "      <td>None</td>\n",
       "    </tr>\n",
       "    <tr>\n",
       "      <th>300020</th>\n",
       "      <td>499996</td>\n",
       "      <td>M</td>\n",
       "      <td>None</td>\n",
       "    </tr>\n",
       "    <tr>\n",
       "      <th>300021</th>\n",
       "      <td>499997</td>\n",
       "      <td>M</td>\n",
       "      <td>None</td>\n",
       "    </tr>\n",
       "    <tr>\n",
       "      <th>300022</th>\n",
       "      <td>499998</td>\n",
       "      <td>M</td>\n",
       "      <td>None</td>\n",
       "    </tr>\n",
       "    <tr>\n",
       "      <th>300023</th>\n",
       "      <td>499999</td>\n",
       "      <td>M</td>\n",
       "      <td>None</td>\n",
       "    </tr>\n",
       "  </tbody>\n",
       "</table>\n",
       "<p>300024 rows × 3 columns</p>\n",
       "</div>"
      ],
      "text/plain": [
       "        emp_no gender dept_no\n",
       "0        10001      M    None\n",
       "1        10002      F    None\n",
       "2        10003      M    None\n",
       "3        10004      M    None\n",
       "4        10005      M    None\n",
       "...        ...    ...     ...\n",
       "300019  499995      F    None\n",
       "300020  499996      M    None\n",
       "300021  499997      M    None\n",
       "300022  499998      M    None\n",
       "300023  499999      M    None\n",
       "\n",
       "[300024 rows x 3 columns]"
      ]
     },
     "execution_count": 129,
     "metadata": {},
     "output_type": "execute_result"
    }
   ],
   "source": [
    "#read in sql data\n",
    "df = pd.read_sql(query, url)\n",
    "df"
   ]
  },
  {
   "cell_type": "code",
   "execution_count": 130,
   "id": "f5c842c7",
   "metadata": {},
   "outputs": [
    {
     "name": "stdout",
     "output_type": "stream",
     "text": [
      "<class 'pandas.core.frame.DataFrame'>\n",
      "RangeIndex: 300024 entries, 0 to 300023\n",
      "Data columns (total 3 columns):\n",
      " #   Column   Non-Null Count   Dtype \n",
      "---  ------   --------------   ----- \n",
      " 0   emp_no   300024 non-null  int64 \n",
      " 1   gender   300024 non-null  object\n",
      " 2   dept_no  24 non-null      object\n",
      "dtypes: int64(1), object(2)\n",
      "memory usage: 6.9+ MB\n"
     ]
    }
   ],
   "source": [
    "#look at data\n",
    "df.info()"
   ]
  },
  {
   "cell_type": "code",
   "execution_count": 131,
   "id": "f57b1911",
   "metadata": {},
   "outputs": [
    {
     "data": {
      "text/plain": [
       "None    300000\n",
       "d004         4\n",
       "d006         4\n",
       "d009         4\n",
       "d001         2\n",
       "d002         2\n",
       "d003         2\n",
       "d005         2\n",
       "d007         2\n",
       "d008         2\n",
       "Name: dept_no, dtype: int64"
      ]
     },
     "execution_count": 131,
     "metadata": {},
     "output_type": "execute_result"
    }
   ],
   "source": [
    "#look at dept_no data\n",
    "df.dept_no.value_counts(dropna=False)"
   ]
  },
  {
   "cell_type": "code",
   "execution_count": 132,
   "id": "cb97e864",
   "metadata": {},
   "outputs": [],
   "source": [
    "#fill in nulls\n",
    "df.dept_no = df.dept_no.fillna('not manager')"
   ]
  },
  {
   "cell_type": "code",
   "execution_count": null,
   "id": "609278a8",
   "metadata": {},
   "outputs": [],
   "source": []
  },
  {
   "cell_type": "code",
   "execution_count": null,
   "id": "7dbd2546",
   "metadata": {},
   "outputs": [],
   "source": []
  }
 ],
 "metadata": {
  "kernelspec": {
   "display_name": "Python 3 (ipykernel)",
   "language": "python",
   "name": "python3"
  },
  "language_info": {
   "codemirror_mode": {
    "name": "ipython",
    "version": 3
   },
   "file_extension": ".py",
   "mimetype": "text/x-python",
   "name": "python",
   "nbconvert_exporter": "python",
   "pygments_lexer": "ipython3",
   "version": "3.9.12"
  }
 },
 "nbformat": 4,
 "nbformat_minor": 5
}
