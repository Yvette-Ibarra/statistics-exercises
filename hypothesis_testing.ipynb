{
 "cells": [
  {
   "cell_type": "markdown",
   "id": "53766878",
   "metadata": {},
   "source": [
    "# $ Hypothesis Testing$"
   ]
  },
  {
   "cell_type": "markdown",
   "id": "c6ff0658",
   "metadata": {},
   "source": [
    "For each of the following questions:\n",
    "* formulate a null and alternative hypothesis (be as specific as you can be), \n",
    "* then give an example of what a true positive, true negative, type I and type II errors would look like. \n",
    "\n",
    "Note that some of the questions are intentionally phrased in a vague way. It is your job to reword these as more precise questions that could be tested.\n"
   ]
  },
  {
   "cell_type": "markdown",
   "id": "a949cc2d",
   "metadata": {},
   "source": [
    "### 1. \"Has the network latency gone up since we switched internet service providers?\"\n",
    "T-test\n",
    "#### Is there a relationship between data speed and internet provider\n",
    "Data Types: \n",
    "\n",
    "        - data speed (discrete, numeric) use bins\n",
    "        \n",
    "        - internet providers(discrete, Boolean)\n",
    "WE are testing Dependency\n",
    "\n",
    "$H_{0}$: There is no relationship between internet providers and data speed\n",
    "\n",
    "$H_{a}$: There is a relationship between internet providers and data speed\n",
    "\n"
   ]
  },
  {
   "cell_type": "markdown",
   "id": "3d2dfdc3",
   "metadata": {},
   "source": [
    "###### True Negative:\n",
    "There is no relatinship between internet providers and data speed and our testing failed to reject $H_{0}"
   ]
  },
  {
   "cell_type": "markdown",
   "id": "3562d490",
   "metadata": {},
   "source": [
    "###### True Positive: \n",
    "There is a relationship between internet providers and data speed and our testing rejected $H_{0}\n"
   ]
  },
  {
   "cell_type": "markdown",
   "id": "7d1155bd",
   "metadata": {},
   "source": [
    "###### Type I Error (Reject null when null was true): \n",
    "There is no relationship between the data speed and internet providers but our conclusions found that there was a relationship."
   ]
  },
  {
   "cell_type": "markdown",
   "id": "bd48dc14",
   "metadata": {},
   "source": [
    "###### Type II Error (Accept null when null was false): \n",
    "There is a relationship between the data speed and the internet provider but our conclusion failed to determined the existance of such relationship."
   ]
  },
  {
   "cell_type": "markdown",
   "id": "fb65aec4",
   "metadata": {},
   "source": [
    "### 1. \"Has the network latency gone up since we switched internet service providers?\"\n",
    "T-test\n",
    "#### Is there an increase of mean latency with the new internet service providers\n",
    "Data Types: \n",
    "\n",
    "        - latency (continuous, numeric) use bins\n",
    "        \n",
    "        - internet providers(discrete, Boolean)\n",
    "We are testing difference the difference between two means\n",
    "\n",
    "$H_{0}$: the mean latency group a(new internet provider) < = to the mean latency group b(previous internet provider)\n",
    "\n",
    "$H_{a}$: the mean latency group a(new internet provider) > to the mean latency group b(previous internet provider)\n",
    "    \n",
    "* True Negative:\n",
    "    Latency did not go up and we said it did not go up\n",
    "     \n",
    "* True Positive:\n",
    "    Latency went up and we said it went up\n",
    "    \n",
    "* Type I Error:\n",
    "    Latency did not go up but we said it did\n",
    "    \n",
    "* Type II Error:\n",
    "    Latency did go up but we said it did not.\n",
    "\n"
   ]
  },
  {
   "cell_type": "markdown",
   "id": "d0dd62a3",
   "metadata": {},
   "source": [
    "### 2.  \"Is the website redesign any good?\"\n",
    "##### Does our website design increase the  engagement of our targeted audience?\n",
    "Data Types: \n",
    "        -new website desgin (discrete, Boolean)\n",
    "        -engagement of targeted audience(continuous, numeric)\n",
    "WE are testing difference\n",
    "\n",
    "$H_{0}$: The mean engament of our targeted audiences with our original website >=  The mean engament of our targeted audiences with our new website\n",
    "\n",
    "$H_{a}$: The mean engament of our targeted audiences with our original website < The mean engament of our targeted audiences with our new website\n",
    "\n"
   ]
  },
  {
   "cell_type": "markdown",
   "id": "9e20af9c",
   "metadata": {},
   "source": [
    "###### True Negative:\n",
    "The new website does not increase targeted audience engagement and we failed to reject $H_{0}$ "
   ]
  },
  {
   "cell_type": "markdown",
   "id": "1f01b32b",
   "metadata": {},
   "source": [
    "###### True Positive:\n",
    "The new website does increased engagement with targeted audience and we rejected $H_{0}$"
   ]
  },
  {
   "cell_type": "markdown",
   "id": "e1cd2853",
   "metadata": {},
   "source": [
    "###### Type I Error (Reject null when null was true):\n",
    "The new website does not increase engagement with targeted audience and we concluded that our new webside does increase engagement"
   ]
  },
  {
   "cell_type": "markdown",
   "id": "6be2d9e7",
   "metadata": {},
   "source": [
    "###### Type II Error (Accept null when null was false):\n",
    "The new website does increase engagement with targeted audience and we concluded that our new webside does not increase engagement"
   ]
  },
  {
   "cell_type": "markdown",
   "id": "d42f89df",
   "metadata": {},
   "source": [
    "### 2.  \"Is the website redesign any good?\"\n",
    "##### Does our website design increase the  engagement of our targeted audience?\n",
    "Data Types: \n",
    "        -old vs new website desgin (discrete, Boolean)\n",
    "        -Time on site in seconds(continuous, numeric)\n",
    "\n",
    "WE are testing difference\n",
    "\n",
    "$H_{0}$: The mean time of our old website >=  The mean time with our new website\n",
    "\n",
    "$H_{a}$: The mean time of our old website <  The mean time with our new website \n",
    "    \n",
    "* True Negative:\n",
    "    Visitors spent less or equal time now and we said that\n",
    "    \n",
    "* True Postive:\n",
    "    Visitors spend more time and we stated that\n",
    "    \n",
    "* Type I Error:\n",
    "    We stated the site was better but it is not\n",
    "    \n",
    "* Type II Error:\n",
    "    We stated the site was better but it is better\n",
    "\n"
   ]
  },
  {
   "cell_type": "markdown",
   "id": "870b8204",
   "metadata": {},
   "source": [
    "### 3. \"Is our television ad driving more sales?\"\n",
    "\n",
    "#### Is there a linear relationship between sales and the time period our television ad was run\n",
    "#### Where mean sales increased in the time period that our ads where showing on television?\n",
    "\n",
    "Data Types: \n",
    "        -Sales (continuous, numeric)\n",
    "        -Time period Ad was ran (discrete, Boolean)\n",
    "        \n",
    "WE are testing Difference\n",
    "\n",
    "$H_{0}$: The mean sales while ad did not show on television >= The mean sales while ad did show on television\n",
    "\n",
    "$H_{a}$: The mean sales while ad did not show on television < The mean sales while ad did show on television\n",
    "\n"
   ]
  },
  {
   "cell_type": "markdown",
   "id": "2711a11c",
   "metadata": {},
   "source": [
    "###### True Negative:\n",
    "The television ad does not increase sales and and we failed to reject $H_{0}$ "
   ]
  },
  {
   "cell_type": "markdown",
   "id": "950b0a65",
   "metadata": {},
   "source": [
    "###### True Positive:\n",
    "The television ad does increase sales and and we reject $H_{0}$ \n",
    "\n",
    " "
   ]
  },
  {
   "cell_type": "markdown",
   "id": "a50561dc",
   "metadata": {},
   "source": [
    "###### Type I Error (Reject null when null was true):\n",
    "The television ad does not increase sales but our conclusions state that it does increase sales"
   ]
  },
  {
   "cell_type": "markdown",
   "id": "1faf64b9",
   "metadata": {},
   "source": [
    "###### Type II Error (Accept null when null was false):\n",
    "The television ad does increase sales but our conclusions state that it does not increase sales."
   ]
  },
  {
   "cell_type": "markdown",
   "id": "2fb9e813",
   "metadata": {},
   "source": [
    "### 3. \"Is our television ad driving more sales?\"\n",
    "\n",
    "#### \n",
    "\n",
    "T-test\n",
    "Data Types: \n",
    "        -Sales (continuous, numeric)\n",
    "        - pre-Ad  (discrete, Boolean)\n",
    "        \n",
    "WE are testing Difference\n",
    "\n",
    "$H_{0}$: The mean sales pre-Ad >= The mean sales post-Ad\n",
    "\n",
    "$H_{a}$: The mean sales pre-Ad < The mean sales post-Ad\n",
    "\n",
    "\n",
    "\n",
    "* True Negative:\n",
    "    Sales did not increased post-Ad and we stated that\n",
    "    \n",
    "* True Positive:\n",
    "    post-ad sales increased and we stated that they would increase\n",
    "    \n",
    "* Type I Error:\n",
    "    Post-Ad sales are not increased but we said they did increased\n",
    "    \n",
    "* Type II Error:\n",
    "    Post-Ad sales increased but we said that sales did not increased.\n",
    "    Ad was working but we didnt think so \n",
    "\n"
   ]
  },
  {
   "cell_type": "markdown",
   "id": "22a14c2b",
   "metadata": {},
   "source": [
    "# $T-Test Exercises$"
   ]
  },
  {
   "cell_type": "markdown",
   "id": "9c3fd3e5",
   "metadata": {},
   "source": [
    "### Imports"
   ]
  },
  {
   "cell_type": "code",
   "execution_count": 263,
   "id": "cd8b5e8f",
   "metadata": {},
   "outputs": [],
   "source": [
    "# pyplot for plotting\n",
    "import matplotlib.pyplot as plt\n",
    "# numpy for vectorized array operations\n",
    "import numpy as np\n",
    "# pandas for proper tabular manipulation\n",
    "import pandas as pd\n",
    "# scipy stats for our subversions\n",
    "from scipy import stats\n",
    "from pydataset import data"
   ]
  },
  {
   "cell_type": "markdown",
   "id": "888e0ab2",
   "metadata": {},
   "source": [
    "# 1.\n",
    "Answer with the type of test you would use (assume normal distribution):\n"
   ]
  },
  {
   "cell_type": "markdown",
   "id": "4461ea54",
   "metadata": {},
   "source": [
    "* Is there a difference in grades of students on the second floor compared to grades of all students?\n",
    "\n",
    "This situation compares the mean of and individual against a group.  The difference grades of students on the second floor compared to grades of all students.\n",
    "\n",
    "One sample t-test: scipy.stats.ttest_1samp, Two tails\n"
   ]
  },
  {
   "cell_type": "markdown",
   "id": "0e05614d",
   "metadata": {},
   "source": [
    "* Are adults who drink milk taller than adults who dont drink milk?\n",
    "\n",
    "This situation compares two heights means of the groups adults who drink milk and Adults who do not drink milk. \n",
    "\n",
    "Independent t-test (or 2-sample), One - Tail"
   ]
  },
  {
   "cell_type": "markdown",
   "id": "059aae0f",
   "metadata": {},
   "source": [
    "* Is the the price of gas higher in texas or in new mexico?\n",
    "\n",
    "This compares two means of gas prices of differnt regions Texas and New Mexico:\n",
    "\n",
    "Independent t-test (or 2-sample), One - Tail"
   ]
  },
  {
   "cell_type": "markdown",
   "id": "56f4a401",
   "metadata": {},
   "source": [
    "* Are there differences in stress levels between students who take data science vs students who take web development vs students who take cloud academy?\n",
    "\n",
    "This compares three differnt means of stress levels of groups a,b,and c:\n",
    "    \n",
    "ANOVA"
   ]
  },
  {
   "cell_type": "markdown",
   "id": "bf5e2319",
   "metadata": {},
   "source": [
    "# 2. \n",
    "Ace Realty wants to determine whether the average time it takes to sell homes is different for its two offices. A sample of 40 sales from office #1 revealed a mean of 90 days and a standard deviation of 15 days. A sample of 50 sales from office #2 revealed a mean of 100 days and a standard deviation of 20 days. Use a .05 level of significance.\n",
    "\n"
   ]
  },
  {
   "cell_type": "markdown",
   "id": "cb10082a",
   "metadata": {},
   "source": [
    "What are we comparing?\n",
    "\n",
    "-We are comparing the average time(continuous, numberic) of two offices(discrete, categories).\n",
    "- One Sample of two sample?\n",
    "    * two sample; two groups out of the population\n",
    "- One tailed or two tailed?\n",
    "    * two tailed; we are just asked they are different\n",
    "\n",
    "Variables:\n",
    "\n",
    "    * mean days to sell home(continuous, numeric)\n",
    "    * Office A vs Office B (discrete, boolean)\n",
    "    \n",
    "Test: \n",
    "\n",
    "    * Independent t-test (or 2-sample): scipy.stats.ttest_in\n",
    "    (if levene is passed to show equal variance) \n",
    "       Else:\n",
    "    * Mann-Whitney's test\n",
    "    * will use Two-Tails  to show inequality\n",
    "    * alpha = 0.5\n",
    "Office A mean : 90 days, std: 15 Sample Size = 40\n",
    "\n",
    "Office B mean : 100 days, std: 20 Sample Size = 50\n"
   ]
  },
  {
   "cell_type": "markdown",
   "id": "2f678224",
   "metadata": {},
   "source": [
    "$H_0$: Average time to sell at Office A == average time to sell at Office B\n",
    "\n",
    "$H_a$: Average time to sell at Office A != average time to sell at Office B\n",
    "\n",
    "Significance level alpha = 0.05"
   ]
  },
  {
   "cell_type": "code",
   "execution_count": 152,
   "id": "7a2f3210",
   "metadata": {},
   "outputs": [
    {
     "data": {
      "text/plain": [
       "<matplotlib.legend.Legend at 0x292227730>"
      ]
     },
     "execution_count": 152,
     "metadata": {},
     "output_type": "execute_result"
    },
    {
     "data": {
      "image/png": "[encoded data removed]",
      "text/plain": [
       "<Figure size 648x432 with 1 Axes>"
      ]
     },
     "metadata": {
      "needs_background": "light"
     },
     "output_type": "display_data"
    }
   ],
   "source": [
    "# Visualize two distribution:\n",
    "\n",
    "x = np.arange(50,150)\n",
    "\n",
    "y1 = stats.norm(90,15).pdf(x)\n",
    "y2 = stats.norm(100,20).pdf(x)\n",
    "\n",
    "plt.figure(figsize=(9,6))\n",
    "plt.plot(x, y1, label = 'office 1')\n",
    "plt.plot(x, y2, label = 'office 2')\n",
    "plt.axvline(90, ls = ':')\n",
    "plt.axvline(100, ls = ':', color = 'orange')\n",
    "\n",
    "plt.legend()\n"
   ]
  },
  {
   "cell_type": "code",
   "execution_count": 88,
   "id": "c93efe90",
   "metadata": {
    "scrolled": true
   },
   "outputs": [
    {
     "name": "stdout",
     "output_type": "stream",
     "text": [
      "89.59269238859926\n",
      "103.16885283935153\n"
     ]
    }
   ],
   "source": [
    "#stats.norm(μ, σ)\n",
    "office_a = stats.norm(90, 15).rvs(40)\n",
    "print(office_a.mean())\n",
    "office_b = stats.norm(100, 20).rvs(50)\n",
    "print(office_b.mean())"
   ]
  },
  {
   "cell_type": "code",
   "execution_count": 89,
   "id": "ab1aa932",
   "metadata": {
    "scrolled": true
   },
   "outputs": [
    {
     "data": {
      "text/plain": [
       "227.45909230377123"
      ]
     },
     "execution_count": 89,
     "metadata": {},
     "output_type": "execute_result"
    }
   ],
   "source": [
    "office_a.var()"
   ]
  },
  {
   "cell_type": "code",
   "execution_count": 90,
   "id": "66c287a2",
   "metadata": {},
   "outputs": [
    {
     "data": {
      "text/plain": [
       "470.7561495020426"
      ]
     },
     "execution_count": 90,
     "metadata": {},
     "output_type": "execute_result"
    }
   ],
   "source": [
    "office_b.var()"
   ]
  },
  {
   "cell_type": "code",
   "execution_count": 91,
   "id": "f576c3be",
   "metadata": {
    "scrolled": false
   },
   "outputs": [],
   "source": [
    "stat, pval = stats.levene(office_a, office_b)\n",
    "\n",
    "if pval < 0.05:\n",
    "    print('we can reject H0 ==> inequal variance')"
   ]
  },
  {
   "cell_type": "code",
   "execution_count": 92,
   "id": "c7c7434d",
   "metadata": {},
   "outputs": [
    {
     "data": {
      "text/plain": [
       "0.05986139611205938"
      ]
     },
     "execution_count": 92,
     "metadata": {},
     "output_type": "execute_result"
    }
   ],
   "source": [
    "# depending on pval equal_var is false when p>=0.5\n",
    "# if pval is less than 0.05 then we then equal_var is True\n",
    "pval"
   ]
  },
  {
   "cell_type": "code",
   "execution_count": 95,
   "id": "1d6c1f98",
   "metadata": {},
   "outputs": [
    {
     "name": "stdout",
     "output_type": "stream",
     "text": [
      " t-stat:3.634374250153617\n",
      " p-value:0.05986139611205938\n"
     ]
    }
   ],
   "source": [
    "alpha = 0.05\n",
    "\n",
    "t_stat, p_val = stats.ttest_ind(office_a,office_b, equal_var = True)\n",
    "print(f' t-stat:{stat}')\n",
    "print(f' p-value:{pval}')\n"
   ]
  },
  {
   "cell_type": "code",
   "execution_count": 96,
   "id": "c04c0ca0",
   "metadata": {},
   "outputs": [],
   "source": [
    "# if pval is less than .05 we reject the null hypothesis,\n",
    "# if pval is greater than 0.05 we fail to reject the null hypotheis\n",
    "if pval < 0.05:\n",
    "    print('we can reject H0 ')"
   ]
  },
  {
   "cell_type": "code",
   "execution_count": null,
   "id": "026bc4e2",
   "metadata": {},
   "outputs": [],
   "source": [
    "# we are using random simulating values so our pval for levene\n",
    "# ranges greatly and changes our method of equal_var"
   ]
  },
  {
   "cell_type": "markdown",
   "id": "08c75262",
   "metadata": {},
   "source": [
    "Load the mpg dataset and use it to answer the following questions:\n",
    "\n",
    "# * Is there a difference in fuel-efficiency in cars from 2008 vs 1999?\n"
   ]
  },
  {
   "cell_type": "code",
   "execution_count": 100,
   "id": "4286c06a",
   "metadata": {},
   "outputs": [],
   "source": [
    "mpg = data('mpg')"
   ]
  },
  {
   "cell_type": "markdown",
   "id": "69557c72",
   "metadata": {},
   "source": [
    "- one tail or two tail? Two tailed: looking specifically for inequality\n",
    "- one sample/Two sample? Two sample (independent) Looking to compare values across cars manufactued specifially in 2008\n",
    "- for this one, we perform a ttest_ind on these two subsets of our data"
   ]
  },
  {
   "cell_type": "markdown",
   "id": "b0878742",
   "metadata": {},
   "source": [
    "h0: there is no difference in fuel =efficiency in cars from 2008 vs 1999\n",
    "\n",
    "ha: there is difference in fuel =efficiency in cars from 2008 vs 1999"
   ]
  },
  {
   "cell_type": "markdown",
   "id": "e7d5d3ef",
   "metadata": {},
   "source": [
    "arithmetic meand: (c + h)/2\n",
    "harmonic mean 2/((1/c)+(1/h))"
   ]
  },
  {
   "cell_type": "code",
   "execution_count": 102,
   "id": "f1820833",
   "metadata": {},
   "outputs": [
    {
     "data": {
      "text/html": [
       "<div>\n",
       "<style scoped>\n",
       "    .dataframe tbody tr th:only-of-type {\n",
       "        vertical-align: middle;\n",
       "    }\n",
       "\n",
       "    .dataframe tbody tr th {\n",
       "        vertical-align: top;\n",
       "    }\n",
       "\n",
       "    .dataframe thead th {\n",
       "        text-align: right;\n",
       "    }\n",
       "</style>\n",
       "<table border=\"1\" class=\"dataframe\">\n",
       "  <thead>\n",
       "    <tr style=\"text-align: right;\">\n",
       "      <th></th>\n",
       "      <th>manufacturer</th>\n",
       "      <th>model</th>\n",
       "      <th>displ</th>\n",
       "      <th>year</th>\n",
       "      <th>cyl</th>\n",
       "      <th>trans</th>\n",
       "      <th>drv</th>\n",
       "      <th>cty</th>\n",
       "      <th>hwy</th>\n",
       "      <th>fl</th>\n",
       "      <th>class</th>\n",
       "      <th>avg_fe</th>\n",
       "    </tr>\n",
       "  </thead>\n",
       "  <tbody>\n",
       "    <tr>\n",
       "      <th>1</th>\n",
       "      <td>audi</td>\n",
       "      <td>a4</td>\n",
       "      <td>1.8</td>\n",
       "      <td>1999</td>\n",
       "      <td>4</td>\n",
       "      <td>auto(l5)</td>\n",
       "      <td>f</td>\n",
       "      <td>18</td>\n",
       "      <td>29</td>\n",
       "      <td>p</td>\n",
       "      <td>compact</td>\n",
       "      <td>22.212766</td>\n",
       "    </tr>\n",
       "    <tr>\n",
       "      <th>2</th>\n",
       "      <td>audi</td>\n",
       "      <td>a4</td>\n",
       "      <td>1.8</td>\n",
       "      <td>1999</td>\n",
       "      <td>4</td>\n",
       "      <td>manual(m5)</td>\n",
       "      <td>f</td>\n",
       "      <td>21</td>\n",
       "      <td>29</td>\n",
       "      <td>p</td>\n",
       "      <td>compact</td>\n",
       "      <td>24.360000</td>\n",
       "    </tr>\n",
       "    <tr>\n",
       "      <th>3</th>\n",
       "      <td>audi</td>\n",
       "      <td>a4</td>\n",
       "      <td>2.0</td>\n",
       "      <td>2008</td>\n",
       "      <td>4</td>\n",
       "      <td>manual(m6)</td>\n",
       "      <td>f</td>\n",
       "      <td>20</td>\n",
       "      <td>31</td>\n",
       "      <td>p</td>\n",
       "      <td>compact</td>\n",
       "      <td>24.313725</td>\n",
       "    </tr>\n",
       "    <tr>\n",
       "      <th>4</th>\n",
       "      <td>audi</td>\n",
       "      <td>a4</td>\n",
       "      <td>2.0</td>\n",
       "      <td>2008</td>\n",
       "      <td>4</td>\n",
       "      <td>auto(av)</td>\n",
       "      <td>f</td>\n",
       "      <td>21</td>\n",
       "      <td>30</td>\n",
       "      <td>p</td>\n",
       "      <td>compact</td>\n",
       "      <td>24.705882</td>\n",
       "    </tr>\n",
       "    <tr>\n",
       "      <th>5</th>\n",
       "      <td>audi</td>\n",
       "      <td>a4</td>\n",
       "      <td>2.8</td>\n",
       "      <td>1999</td>\n",
       "      <td>6</td>\n",
       "      <td>auto(l5)</td>\n",
       "      <td>f</td>\n",
       "      <td>16</td>\n",
       "      <td>26</td>\n",
       "      <td>p</td>\n",
       "      <td>compact</td>\n",
       "      <td>19.809524</td>\n",
       "    </tr>\n",
       "    <tr>\n",
       "      <th>...</th>\n",
       "      <td>...</td>\n",
       "      <td>...</td>\n",
       "      <td>...</td>\n",
       "      <td>...</td>\n",
       "      <td>...</td>\n",
       "      <td>...</td>\n",
       "      <td>...</td>\n",
       "      <td>...</td>\n",
       "      <td>...</td>\n",
       "      <td>...</td>\n",
       "      <td>...</td>\n",
       "      <td>...</td>\n",
       "    </tr>\n",
       "    <tr>\n",
       "      <th>230</th>\n",
       "      <td>volkswagen</td>\n",
       "      <td>passat</td>\n",
       "      <td>2.0</td>\n",
       "      <td>2008</td>\n",
       "      <td>4</td>\n",
       "      <td>auto(s6)</td>\n",
       "      <td>f</td>\n",
       "      <td>19</td>\n",
       "      <td>28</td>\n",
       "      <td>p</td>\n",
       "      <td>midsize</td>\n",
       "      <td>22.638298</td>\n",
       "    </tr>\n",
       "    <tr>\n",
       "      <th>231</th>\n",
       "      <td>volkswagen</td>\n",
       "      <td>passat</td>\n",
       "      <td>2.0</td>\n",
       "      <td>2008</td>\n",
       "      <td>4</td>\n",
       "      <td>manual(m6)</td>\n",
       "      <td>f</td>\n",
       "      <td>21</td>\n",
       "      <td>29</td>\n",
       "      <td>p</td>\n",
       "      <td>midsize</td>\n",
       "      <td>24.360000</td>\n",
       "    </tr>\n",
       "    <tr>\n",
       "      <th>232</th>\n",
       "      <td>volkswagen</td>\n",
       "      <td>passat</td>\n",
       "      <td>2.8</td>\n",
       "      <td>1999</td>\n",
       "      <td>6</td>\n",
       "      <td>auto(l5)</td>\n",
       "      <td>f</td>\n",
       "      <td>16</td>\n",
       "      <td>26</td>\n",
       "      <td>p</td>\n",
       "      <td>midsize</td>\n",
       "      <td>19.809524</td>\n",
       "    </tr>\n",
       "    <tr>\n",
       "      <th>233</th>\n",
       "      <td>volkswagen</td>\n",
       "      <td>passat</td>\n",
       "      <td>2.8</td>\n",
       "      <td>1999</td>\n",
       "      <td>6</td>\n",
       "      <td>manual(m5)</td>\n",
       "      <td>f</td>\n",
       "      <td>18</td>\n",
       "      <td>26</td>\n",
       "      <td>p</td>\n",
       "      <td>midsize</td>\n",
       "      <td>21.272727</td>\n",
       "    </tr>\n",
       "    <tr>\n",
       "      <th>234</th>\n",
       "      <td>volkswagen</td>\n",
       "      <td>passat</td>\n",
       "      <td>3.6</td>\n",
       "      <td>2008</td>\n",
       "      <td>6</td>\n",
       "      <td>auto(s6)</td>\n",
       "      <td>f</td>\n",
       "      <td>17</td>\n",
       "      <td>26</td>\n",
       "      <td>p</td>\n",
       "      <td>midsize</td>\n",
       "      <td>20.558140</td>\n",
       "    </tr>\n",
       "  </tbody>\n",
       "</table>\n",
       "<p>234 rows × 12 columns</p>\n",
       "</div>"
      ],
      "text/plain": [
       "    manufacturer   model  displ  year  cyl       trans drv  cty  hwy fl  \\\n",
       "1           audi      a4    1.8  1999    4    auto(l5)   f   18   29  p   \n",
       "2           audi      a4    1.8  1999    4  manual(m5)   f   21   29  p   \n",
       "3           audi      a4    2.0  2008    4  manual(m6)   f   20   31  p   \n",
       "4           audi      a4    2.0  2008    4    auto(av)   f   21   30  p   \n",
       "5           audi      a4    2.8  1999    6    auto(l5)   f   16   26  p   \n",
       "..           ...     ...    ...   ...  ...         ...  ..  ...  ... ..   \n",
       "230   volkswagen  passat    2.0  2008    4    auto(s6)   f   19   28  p   \n",
       "231   volkswagen  passat    2.0  2008    4  manual(m6)   f   21   29  p   \n",
       "232   volkswagen  passat    2.8  1999    6    auto(l5)   f   16   26  p   \n",
       "233   volkswagen  passat    2.8  1999    6  manual(m5)   f   18   26  p   \n",
       "234   volkswagen  passat    3.6  2008    6    auto(s6)   f   17   26  p   \n",
       "\n",
       "       class     avg_fe  \n",
       "1    compact  22.212766  \n",
       "2    compact  24.360000  \n",
       "3    compact  24.313725  \n",
       "4    compact  24.705882  \n",
       "5    compact  19.809524  \n",
       "..       ...        ...  \n",
       "230  midsize  22.638298  \n",
       "231  midsize  24.360000  \n",
       "232  midsize  19.809524  \n",
       "233  midsize  21.272727  \n",
       "234  midsize  20.558140  \n",
       "\n",
       "[234 rows x 12 columns]"
      ]
     },
     "execution_count": 102,
     "metadata": {},
     "output_type": "execute_result"
    }
   ],
   "source": [
    "# add harmonic mean collumn\n",
    "mpg['avg_fe'] = stats.hmean(mpg[['cty','hwy']], axis =1)\n",
    "mpg"
   ]
  },
  {
   "cell_type": "code",
   "execution_count": 104,
   "id": "50eaefbd",
   "metadata": {},
   "outputs": [],
   "source": [
    "# filter by 2008 year and fuel efficeincy\n",
    "fe_2008 = mpg[mpg.year == 2008].avg_fe\n",
    "fe_1999 = mpg[mpg.year == 1999].avg_fe"
   ]
  },
  {
   "cell_type": "code",
   "execution_count": 107,
   "id": "27f329df",
   "metadata": {},
   "outputs": [
    {
     "data": {
      "text/plain": [
       "(<AxesSubplot:>, <AxesSubplot:>)"
      ]
     },
     "execution_count": 107,
     "metadata": {},
     "output_type": "execute_result"
    },
    {
     "data": {
      "image/png": "[encoded data removed]",
      "text/plain": [
       "<Figure size 432x288 with 1 Axes>"
      ]
     },
     "metadata": {
      "needs_background": "light"
     },
     "output_type": "display_data"
    }
   ],
   "source": [
    "fe_2008.hist(),fe_1999.hist()"
   ]
  },
  {
   "cell_type": "code",
   "execution_count": 108,
   "id": "1c31c9e6",
   "metadata": {},
   "outputs": [
    {
     "data": {
      "text/plain": [
       "(117, 117)"
      ]
     },
     "execution_count": 108,
     "metadata": {},
     "output_type": "execute_result"
    }
   ],
   "source": [
    "# normality assumption is meet because the count is greater than 30\n",
    "\n",
    "fe_2008.count(),fe_1999.count()"
   ]
  },
  {
   "cell_type": "code",
   "execution_count": 109,
   "id": "fec3056e",
   "metadata": {},
   "outputs": [
    {
     "data": {
      "text/plain": [
       "(22.550836772260343, 25.850396545865912)"
      ]
     },
     "execution_count": 109,
     "metadata": {},
     "output_type": "execute_result"
    }
   ],
   "source": [
    "fe_2008.var(),fe_1999.var()"
   ]
  },
  {
   "cell_type": "code",
   "execution_count": 110,
   "id": "cb90d15f",
   "metadata": {},
   "outputs": [],
   "source": [
    "stat, pval = stats.levene(fe_2008, fe_1999)\n",
    "\n",
    "if pval < 0.05:\n",
    "    print('we can reject H0 ==> inequal variance')"
   ]
  },
  {
   "cell_type": "code",
   "execution_count": 114,
   "id": "fc83f82c",
   "metadata": {},
   "outputs": [
    {
     "data": {
      "text/plain": [
       "(-0.3011962975077886, 0.7635345888327115)"
      ]
     },
     "execution_count": 114,
     "metadata": {},
     "output_type": "execute_result"
    }
   ],
   "source": [
    "t, p = stats.ttest_ind(fe_2008, fe_1999)\n",
    "t,p"
   ]
  },
  {
   "cell_type": "code",
   "execution_count": null,
   "id": "0e443564",
   "metadata": {},
   "outputs": [],
   "source": [
    "# because p value is greater than alpha we fail \n",
    "# to reject null and there is no difference in fuel-efficiency in cars\n",
    "# form 2008 and 1999"
   ]
  },
  {
   "cell_type": "code",
   "execution_count": 115,
   "id": "d556ae82",
   "metadata": {},
   "outputs": [
    {
     "data": {
      "text/plain": [
       "(19.488662986569054, 19.68238764869729)"
      ]
     },
     "execution_count": 115,
     "metadata": {},
     "output_type": "execute_result"
    }
   ],
   "source": [
    "# we can compare means but ttest gives us that backing\n",
    "# of the resulst that we are seeing\n",
    "fe_2008.mean(),fe_1999.mean()"
   ]
  },
  {
   "cell_type": "markdown",
   "id": "f85ee0ba",
   "metadata": {},
   "source": [
    "# *Are compact cars more fuel-efficient than the average car?\n",
    "* one tail\n",
    "* one Sample"
   ]
  },
  {
   "cell_type": "markdown",
   "id": "e1e7e6c1",
   "metadata": {},
   "source": [
    "H0 : mpg for compact cars  < = mpg for the average car\n",
    "HA : mpg for compact cars  > mpg for the average car"
   ]
  },
  {
   "cell_type": "markdown",
   "id": "6d1639ed",
   "metadata": {},
   "source": [
    "* p/2 will be compared to alpha as opposed to just p(because of the one tail)\n",
    "* tstat should be positive if we feed compact car value into our function first"
   ]
  },
  {
   "cell_type": "code",
   "execution_count": 120,
   "id": "bc5ab9a3",
   "metadata": {},
   "outputs": [
    {
     "data": {
      "text/plain": [
       "1      22.212766\n",
       "2      24.360000\n",
       "3      24.313725\n",
       "4      24.705882\n",
       "5      19.809524\n",
       "6      21.272727\n",
       "7      21.600000\n",
       "8      21.272727\n",
       "9      19.512195\n",
       "10     23.333333\n",
       "11     22.304348\n",
       "12     18.750000\n",
       "13     20.238095\n",
       "14     20.238095\n",
       "15     18.750000\n",
       "142    24.360000\n",
       "143    22.304348\n",
       "170    22.222222\n",
       "171    22.978723\n",
       "172    21.590909\n",
       "173    22.978723\n",
       "187    23.625000\n",
       "188    24.360000\n",
       "189    25.038462\n",
       "190    25.735849\n",
       "191    21.272727\n",
       "192    21.272727\n",
       "193    21.600000\n",
       "194    26.666667\n",
       "195    27.789474\n",
       "196    29.836066\n",
       "197    31.876923\n",
       "198    29.836066\n",
       "208    24.360000\n",
       "209    21.955556\n",
       "210    24.360000\n",
       "211    25.019608\n",
       "212    19.902439\n",
       "213    37.714286\n",
       "214    24.360000\n",
       "215    21.955556\n",
       "216    25.019608\n",
       "217    24.360000\n",
       "218    24.360000\n",
       "219    24.360000\n",
       "220    18.871795\n",
       "221    19.902439\n",
       "Name: avg_fe, dtype: float64"
      ]
     },
     "execution_count": 120,
     "metadata": {},
     "output_type": "execute_result"
    }
   ],
   "source": [
    "fe_compact = mpg[mpg['class'] == 'compact'].avg_fe\n",
    "fe_compact"
   ]
  },
  {
   "cell_type": "code",
   "execution_count": 124,
   "id": "fdd9f47c",
   "metadata": {
    "scrolled": true
   },
   "outputs": [],
   "source": [
    "mean_pop = mpg.avg_fe.mean()"
   ]
  },
  {
   "cell_type": "code",
   "execution_count": 127,
   "id": "bd5fac35",
   "metadata": {},
   "outputs": [
    {
     "data": {
      "text/plain": [
       "(<AxesSubplot:>, 47)"
      ]
     },
     "execution_count": 127,
     "metadata": {},
     "output_type": "execute_result"
    },
    {
     "data": {
      "image/png": "[encoded data removed]",
      "text/plain": [
       "<Figure size 432x288 with 1 Axes>"
      ]
     },
     "metadata": {
      "needs_background": "light"
     },
     "output_type": "display_data"
    }
   ],
   "source": [
    "# assume normality because compact is greater than 30, looks kind of normal\n",
    "fe_compact.hist(), fe_compact.count()"
   ]
  },
  {
   "cell_type": "code",
   "execution_count": 132,
   "id": "bd7dbcd6",
   "metadata": {},
   "outputs": [
    {
     "data": {
      "text/plain": [
       "(7.512360093161354, 7.808833174403837e-10)"
      ]
     },
     "execution_count": 132,
     "metadata": {},
     "output_type": "execute_result"
    }
   ],
   "source": [
    "tstat, pval = stats.ttest_1samp(fe_compact,mean_pop)\n",
    "tstat, pval/2"
   ]
  },
  {
   "cell_type": "code",
   "execution_count": 133,
   "id": "559112cc",
   "metadata": {},
   "outputs": [],
   "source": [
    "# Because p/2 < alpha and t > 0, \n",
    "# we can reject the null hypothesis"
   ]
  },
  {
   "cell_type": "markdown",
   "id": "3bc391f0",
   "metadata": {},
   "source": [
    "There appears to be a significant relationship between average mpg compact car and the average mpg average car."
   ]
  },
  {
   "cell_type": "markdown",
   "id": "2edd41b4",
   "metadata": {},
   "source": [
    "# * Do manual cars get better gas mileage than automatic cars?"
   ]
  },
  {
   "cell_type": "markdown",
   "id": "32e48f03",
   "metadata": {},
   "source": [
    "* one tail\n",
    "* two sample\n",
    "\n",
    "we use: Independent t-test (or 2-sample): scipy.stats.ttest_ind\n",
    "\n",
    "$H_0$ : manual cars mpg <= automatic cars mpg\n",
    "\n",
    "$H_a$ : manual cars mpg > automatic cars mpg"
   ]
  },
  {
   "cell_type": "code",
   "execution_count": 135,
   "id": "a4babbdd",
   "metadata": {},
   "outputs": [
    {
     "data": {
      "text/plain": [
       "1       True\n",
       "2      False\n",
       "3      False\n",
       "4       True\n",
       "5       True\n",
       "       ...  \n",
       "230     True\n",
       "231    False\n",
       "232     True\n",
       "233    False\n",
       "234     True\n",
       "Name: trans, Length: 234, dtype: bool"
      ]
     },
     "execution_count": 135,
     "metadata": {},
     "output_type": "execute_result"
    }
   ],
   "source": [
    "mpg.trans.str.contains('auto')"
   ]
  },
  {
   "cell_type": "code",
   "execution_count": 136,
   "id": "93d2576e",
   "metadata": {},
   "outputs": [
    {
     "data": {
      "text/plain": [
       "auto(l4)      83\n",
       "manual(m5)    58\n",
       "auto(l5)      39\n",
       "manual(m6)    19\n",
       "auto(s6)      16\n",
       "auto(l6)       6\n",
       "auto(av)       5\n",
       "auto(s5)       3\n",
       "auto(s4)       3\n",
       "auto(l3)       2\n",
       "Name: trans, dtype: int64"
      ]
     },
     "execution_count": 136,
     "metadata": {},
     "output_type": "execute_result"
    }
   ],
   "source": [
    "mpg.trans.value_counts()"
   ]
  },
  {
   "cell_type": "code",
   "execution_count": 138,
   "id": "d33fbc29",
   "metadata": {},
   "outputs": [],
   "source": [
    "# only auto trans cars, average fuel efficiency\n",
    "auto_fe = mpg[mpg.trans.str.contains('auto')].avg_fe\n",
    "man_fe = mpg[mpg.trans.str.contains('manual')].avg_fe\n"
   ]
  },
  {
   "cell_type": "code",
   "execution_count": 144,
   "id": "b071800e",
   "metadata": {},
   "outputs": [
    {
     "data": {
      "text/plain": [
       "(<AxesSubplot:>,\n",
       " <AxesSubplot:>,\n",
       " 157,\n",
       " 77,\n",
       " 20.428279095002054,\n",
       " 25.665633639828275)"
      ]
     },
     "execution_count": 144,
     "metadata": {},
     "output_type": "execute_result"
    },
    {
     "data": {
      "image/png": "[encoded data removed]",
      "text/plain": [
       "<Figure size 648x432 with 1 Axes>"
      ]
     },
     "metadata": {
      "needs_background": "light"
     },
     "output_type": "display_data"
    }
   ],
   "source": [
    "# look at the distribution. N >30\n",
    "\n",
    "plt.figure(figsize=(9,6))\n",
    "auto_fe.hist(), man_fe.hist(), auto_fe.count(),man_fe.count(), auto_fe.var(),man_fe.var()"
   ]
  },
  {
   "cell_type": "code",
   "execution_count": 145,
   "id": "b37114df",
   "metadata": {},
   "outputs": [
    {
     "data": {
      "text/plain": [
       "LeveneResult(statistic=0.013901207169738269, pvalue=0.9062462281015493)"
      ]
     },
     "execution_count": 145,
     "metadata": {},
     "output_type": "execute_result"
    }
   ],
   "source": [
    "# they have equal variance so set equl_var to True\n",
    "stats.levene(auto_fe, man_fe)"
   ]
  },
  {
   "cell_type": "code",
   "execution_count": 148,
   "id": "11c15e33",
   "metadata": {},
   "outputs": [
    {
     "data": {
      "text/plain": [
       "(4.652577547151351, 2.7552323050220043e-06)"
      ]
     },
     "execution_count": 148,
     "metadata": {},
     "output_type": "execute_result"
    }
   ],
   "source": [
    "t, p = stats.ttest_ind(man_fe, auto_fe, equal_var = True)\n",
    "t, p/2\n",
    "# p/2 because there is two tails"
   ]
  },
  {
   "cell_type": "code",
   "execution_count": null,
   "id": "136804b1",
   "metadata": {},
   "outputs": [],
   "source": [
    "# since t is greater thatn one and p/2 is less than alpha\n",
    "# we reject the null hypothesis"
   ]
  },
  {
   "cell_type": "markdown",
   "id": "153ab307",
   "metadata": {},
   "source": [
    "There appears that mannual cars have better mpg than automatic cars."
   ]
  },
  {
   "cell_type": "code",
   "execution_count": 150,
   "id": "44c5d1f0",
   "metadata": {},
   "outputs": [],
   "source": [
    "mpg['transmission_type'] = np.where(mpg.trans.str.contains('auto'), 'Auto Transmission', 'Manual Transmission')"
   ]
  },
  {
   "cell_type": "code",
   "execution_count": 151,
   "id": "0a6c9ca0",
   "metadata": {
    "scrolled": true
   },
   "outputs": [
    {
     "data": {
      "text/plain": [
       "Text(0.5, 1.0, 'Is mileage different by transmission type?')"
      ]
     },
     "execution_count": 151,
     "metadata": {},
     "output_type": "execute_result"
    },
    {
     "data": {
      "image/png": "[encoded data removed]",
      "text/plain": [
       "<Figure size 648x432 with 1 Axes>"
      ]
     },
     "metadata": {
      "needs_background": "light"
     },
     "output_type": "display_data"
    }
   ],
   "source": [
    "plt.figure(figsize=(9,6))\n",
    "mpg.groupby('transmission_type').avg_fe.mean().plot.bar()\n",
    "plt.xticks(rotation=0)\n",
    "plt.xlabel('')\n",
    "plt.ylabel('Average mileage')\n",
    "plt.title('Is mileage different by transmission type?')"
   ]
  },
  {
   "cell_type": "markdown",
   "id": "7e91e623",
   "metadata": {},
   "source": [
    "# $ Correlation $"
   ]
  },
  {
   "cell_type": "markdown",
   "id": "f4a7db51",
   "metadata": {},
   "source": [
    "# 1\n",
    "Answer with the type of stats test you would use (assume normal distribution):\n",
    "\n",
    "Is there a relationship between the length of your arm and the length of your foot?\n",
    "* Variables:\n",
    "    * length of foot (continuous)\n",
    "    * length of arm (continuous)\n",
    "We would run a Pearson's R test\n",
    "\n",
    "Do guys and gals quit their jobs at the same rate?\n",
    "\n",
    "* Variables:\n",
    "    * guys vs gals (discrete)\n",
    "    * rate of quit job (continuous)\n",
    "We would run a ttest_ind with two tails\n",
    "\n",
    "Does the length of time of the lecture correlate with a students grade?\n",
    "\n",
    "* Variables:\n",
    "    * lenght of time of lecture (continuous)\n",
    "    * students grades (continuous)\n",
    "We would run a Pearson's R test\n"
   ]
  },
  {
   "cell_type": "markdown",
   "id": "2f37b12f",
   "metadata": {},
   "source": [
    "# 2. Use the telco_churn data.\n",
    "\n"
   ]
  },
  {
   "cell_type": "code",
   "execution_count": 264,
   "id": "9b245621",
   "metadata": {
    "scrolled": true
   },
   "outputs": [],
   "source": [
    "import env\n",
    "\n",
    "def get_connection(db, user=env.user, host=env.host, password=env.password):\n",
    "    return f'mysql+pymysql://{user}:{password}@{host}/{db}'\n",
    "    \n",
    "df = pd.read_sql('SELECT * FROM customers', get_connection('telco_churn'))"
   ]
  },
  {
   "cell_type": "code",
   "execution_count": 265,
   "id": "8d677c0d",
   "metadata": {
    "scrolled": true
   },
   "outputs": [
    {
     "data": {
      "text/html": [
       "<div>\n",
       "<style scoped>\n",
       "    .dataframe tbody tr th:only-of-type {\n",
       "        vertical-align: middle;\n",
       "    }\n",
       "\n",
       "    .dataframe tbody tr th {\n",
       "        vertical-align: top;\n",
       "    }\n",
       "\n",
       "    .dataframe thead th {\n",
       "        text-align: right;\n",
       "    }\n",
       "</style>\n",
       "<table border=\"1\" class=\"dataframe\">\n",
       "  <thead>\n",
       "    <tr style=\"text-align: right;\">\n",
       "      <th></th>\n",
       "      <th>customer_id</th>\n",
       "      <th>gender</th>\n",
       "      <th>senior_citizen</th>\n",
       "      <th>partner</th>\n",
       "      <th>dependents</th>\n",
       "      <th>tenure</th>\n",
       "      <th>phone_service</th>\n",
       "      <th>multiple_lines</th>\n",
       "      <th>internet_service_type_id</th>\n",
       "      <th>online_security</th>\n",
       "      <th>...</th>\n",
       "      <th>device_protection</th>\n",
       "      <th>tech_support</th>\n",
       "      <th>streaming_tv</th>\n",
       "      <th>streaming_movies</th>\n",
       "      <th>contract_type_id</th>\n",
       "      <th>paperless_billing</th>\n",
       "      <th>payment_type_id</th>\n",
       "      <th>monthly_charges</th>\n",
       "      <th>total_charges</th>\n",
       "      <th>churn</th>\n",
       "    </tr>\n",
       "  </thead>\n",
       "  <tbody>\n",
       "    <tr>\n",
       "      <th>0</th>\n",
       "      <td>0002-ORFBO</td>\n",
       "      <td>Female</td>\n",
       "      <td>0</td>\n",
       "      <td>Yes</td>\n",
       "      <td>Yes</td>\n",
       "      <td>9</td>\n",
       "      <td>Yes</td>\n",
       "      <td>No</td>\n",
       "      <td>1</td>\n",
       "      <td>No</td>\n",
       "      <td>...</td>\n",
       "      <td>No</td>\n",
       "      <td>Yes</td>\n",
       "      <td>Yes</td>\n",
       "      <td>No</td>\n",
       "      <td>2</td>\n",
       "      <td>Yes</td>\n",
       "      <td>2</td>\n",
       "      <td>65.6</td>\n",
       "      <td>593.3</td>\n",
       "      <td>No</td>\n",
       "    </tr>\n",
       "    <tr>\n",
       "      <th>1</th>\n",
       "      <td>0003-MKNFE</td>\n",
       "      <td>Male</td>\n",
       "      <td>0</td>\n",
       "      <td>No</td>\n",
       "      <td>No</td>\n",
       "      <td>9</td>\n",
       "      <td>Yes</td>\n",
       "      <td>Yes</td>\n",
       "      <td>1</td>\n",
       "      <td>No</td>\n",
       "      <td>...</td>\n",
       "      <td>No</td>\n",
       "      <td>No</td>\n",
       "      <td>No</td>\n",
       "      <td>Yes</td>\n",
       "      <td>1</td>\n",
       "      <td>No</td>\n",
       "      <td>2</td>\n",
       "      <td>59.9</td>\n",
       "      <td>542.4</td>\n",
       "      <td>No</td>\n",
       "    </tr>\n",
       "    <tr>\n",
       "      <th>2</th>\n",
       "      <td>0004-TLHLJ</td>\n",
       "      <td>Male</td>\n",
       "      <td>0</td>\n",
       "      <td>No</td>\n",
       "      <td>No</td>\n",
       "      <td>4</td>\n",
       "      <td>Yes</td>\n",
       "      <td>No</td>\n",
       "      <td>2</td>\n",
       "      <td>No</td>\n",
       "      <td>...</td>\n",
       "      <td>Yes</td>\n",
       "      <td>No</td>\n",
       "      <td>No</td>\n",
       "      <td>No</td>\n",
       "      <td>1</td>\n",
       "      <td>Yes</td>\n",
       "      <td>1</td>\n",
       "      <td>73.9</td>\n",
       "      <td>280.85</td>\n",
       "      <td>Yes</td>\n",
       "    </tr>\n",
       "    <tr>\n",
       "      <th>3</th>\n",
       "      <td>0011-IGKFF</td>\n",
       "      <td>Male</td>\n",
       "      <td>1</td>\n",
       "      <td>Yes</td>\n",
       "      <td>No</td>\n",
       "      <td>13</td>\n",
       "      <td>Yes</td>\n",
       "      <td>No</td>\n",
       "      <td>2</td>\n",
       "      <td>No</td>\n",
       "      <td>...</td>\n",
       "      <td>Yes</td>\n",
       "      <td>No</td>\n",
       "      <td>Yes</td>\n",
       "      <td>Yes</td>\n",
       "      <td>1</td>\n",
       "      <td>Yes</td>\n",
       "      <td>1</td>\n",
       "      <td>98.0</td>\n",
       "      <td>1237.85</td>\n",
       "      <td>Yes</td>\n",
       "    </tr>\n",
       "    <tr>\n",
       "      <th>4</th>\n",
       "      <td>0013-EXCHZ</td>\n",
       "      <td>Female</td>\n",
       "      <td>1</td>\n",
       "      <td>Yes</td>\n",
       "      <td>No</td>\n",
       "      <td>3</td>\n",
       "      <td>Yes</td>\n",
       "      <td>No</td>\n",
       "      <td>2</td>\n",
       "      <td>No</td>\n",
       "      <td>...</td>\n",
       "      <td>No</td>\n",
       "      <td>Yes</td>\n",
       "      <td>Yes</td>\n",
       "      <td>No</td>\n",
       "      <td>1</td>\n",
       "      <td>Yes</td>\n",
       "      <td>2</td>\n",
       "      <td>83.9</td>\n",
       "      <td>267.4</td>\n",
       "      <td>Yes</td>\n",
       "    </tr>\n",
       "  </tbody>\n",
       "</table>\n",
       "<p>5 rows × 21 columns</p>\n",
       "</div>"
      ],
      "text/plain": [
       "  customer_id  gender  senior_citizen partner dependents  tenure  \\\n",
       "0  0002-ORFBO  Female               0     Yes        Yes       9   \n",
       "1  0003-MKNFE    Male               0      No         No       9   \n",
       "2  0004-TLHLJ    Male               0      No         No       4   \n",
       "3  0011-IGKFF    Male               1     Yes         No      13   \n",
       "4  0013-EXCHZ  Female               1     Yes         No       3   \n",
       "\n",
       "  phone_service multiple_lines  internet_service_type_id online_security  ...  \\\n",
       "0           Yes             No                         1              No  ...   \n",
       "1           Yes            Yes                         1              No  ...   \n",
       "2           Yes             No                         2              No  ...   \n",
       "3           Yes             No                         2              No  ...   \n",
       "4           Yes             No                         2              No  ...   \n",
       "\n",
       "  device_protection tech_support streaming_tv streaming_movies  \\\n",
       "0                No          Yes          Yes               No   \n",
       "1                No           No           No              Yes   \n",
       "2               Yes           No           No               No   \n",
       "3               Yes           No          Yes              Yes   \n",
       "4                No          Yes          Yes               No   \n",
       "\n",
       "  contract_type_id  paperless_billing payment_type_id  monthly_charges  \\\n",
       "0                2                Yes               2             65.6   \n",
       "1                1                 No               2             59.9   \n",
       "2                1                Yes               1             73.9   \n",
       "3                1                Yes               1             98.0   \n",
       "4                1                Yes               2             83.9   \n",
       "\n",
       "   total_charges churn  \n",
       "0          593.3    No  \n",
       "1          542.4    No  \n",
       "2         280.85   Yes  \n",
       "3        1237.85   Yes  \n",
       "4          267.4   Yes  \n",
       "\n",
       "[5 rows x 21 columns]"
      ]
     },
     "execution_count": 265,
     "metadata": {},
     "output_type": "execute_result"
    }
   ],
   "source": [
    "df.head()"
   ]
  },
  {
   "cell_type": "code",
   "execution_count": 281,
   "id": "cf030b2d",
   "metadata": {},
   "outputs": [
    {
     "data": {
      "text/plain": [
       "11"
      ]
     },
     "execution_count": 281,
     "metadata": {},
     "output_type": "execute_result"
    }
   ],
   "source": [
    "df.total_charges.str.isspace().sum()"
   ]
  },
  {
   "cell_type": "code",
   "execution_count": 280,
   "id": "b9582c99",
   "metadata": {
    "scrolled": true
   },
   "outputs": [
    {
     "name": "stdout",
     "output_type": "stream",
     "text": [
      "<class 'pandas.core.frame.DataFrame'>\n",
      "RangeIndex: 7043 entries, 0 to 7042\n",
      "Data columns (total 21 columns):\n",
      " #   Column                    Non-Null Count  Dtype  \n",
      "---  ------                    --------------  -----  \n",
      " 0   customer_id               7043 non-null   object \n",
      " 1   gender                    7043 non-null   object \n",
      " 2   senior_citizen            7043 non-null   int64  \n",
      " 3   partner                   7043 non-null   object \n",
      " 4   dependents                7043 non-null   object \n",
      " 5   tenure                    7043 non-null   int64  \n",
      " 6   phone_service             7043 non-null   object \n",
      " 7   multiple_lines            7043 non-null   object \n",
      " 8   internet_service_type_id  7043 non-null   int64  \n",
      " 9   online_security           7043 non-null   object \n",
      " 10  online_backup             7043 non-null   object \n",
      " 11  device_protection         7043 non-null   object \n",
      " 12  tech_support              7043 non-null   object \n",
      " 13  streaming_tv              7043 non-null   object \n",
      " 14  streaming_movies          7043 non-null   object \n",
      " 15  contract_type_id          7043 non-null   int64  \n",
      " 16  paperless_billing         7043 non-null   object \n",
      " 17  payment_type_id           7043 non-null   int64  \n",
      " 18  monthly_charges           7043 non-null   float64\n",
      " 19  total_charges             7043 non-null   object \n",
      " 20  churn                     7043 non-null   object \n",
      "dtypes: float64(1), int64(5), object(15)\n",
      "memory usage: 1.1+ MB\n"
     ]
    }
   ],
   "source": [
    "df.info()"
   ]
  },
  {
   "cell_type": "markdown",
   "id": "bf68897a",
   "metadata": {},
   "source": [
    "### * Does tenure correlate with monthly charges?\n",
    "\n",
    "    * tenure (continuous, numeric)\n",
    "    \n",
    "    * monthly charges (continuous, numeric)\n",
    "    \n",
    "There seems to be a moderate positive correlation \n",
    "\n",
    "r =.24"
   ]
  },
  {
   "cell_type": "code",
   "execution_count": 227,
   "id": "e04c25e8",
   "metadata": {},
   "outputs": [
    {
     "data": {
      "text/plain": [
       "(0     9\n",
       " 1     9\n",
       " 2     4\n",
       " 3    13\n",
       " 4     3\n",
       " Name: tenure, dtype: int64,\n",
       " 0    65.6\n",
       " 1    59.9\n",
       " 2    73.9\n",
       " 3    98.0\n",
       " 4    83.9\n",
       " Name: monthly_charges, dtype: float64)"
      ]
     },
     "execution_count": 227,
     "metadata": {},
     "output_type": "execute_result"
    }
   ],
   "source": [
    "df.tenure.head(), df.monthly_charges.head()"
   ]
  },
  {
   "cell_type": "code",
   "execution_count": 228,
   "id": "6f5a76a0",
   "metadata": {
    "scrolled": true
   },
   "outputs": [
    {
     "data": {
      "text/plain": [
       "<matplotlib.collections.PathCollection at 0x29a1b76a0>"
      ]
     },
     "execution_count": 228,
     "metadata": {},
     "output_type": "execute_result"
    },
    {
     "data": {
      "image/png": "[encoded data removed]",
      "text/plain": [
       "<Figure size 432x288 with 1 Axes>"
      ]
     },
     "metadata": {
      "needs_background": "light"
     },
     "output_type": "display_data"
    }
   ],
   "source": [
    "\n",
    "plt.scatter(df.tenure, df.monthly_charges)"
   ]
  },
  {
   "cell_type": "code",
   "execution_count": 229,
   "id": "4b0d73cf",
   "metadata": {},
   "outputs": [
    {
     "data": {
      "text/plain": [
       "(0.24789985628615246, 4.094044991483017e-99)"
      ]
     },
     "execution_count": 229,
     "metadata": {},
     "output_type": "execute_result"
    }
   ],
   "source": [
    "r, p = stats.pearsonr(df.tenure,df.monthly_charges )\n",
    "r, p"
   ]
  },
  {
   "cell_type": "markdown",
   "id": "d12fc7f5",
   "metadata": {},
   "source": [
    "### * Total charges?\n",
    "There appears to be a strong positive correlation between total charges and tenure"
   ]
  },
  {
   "cell_type": "code",
   "execution_count": 282,
   "id": "2a66c007",
   "metadata": {
    "scrolled": true
   },
   "outputs": [
    {
     "data": {
      "text/plain": [
       "' '"
      ]
     },
     "execution_count": 282,
     "metadata": {},
     "output_type": "execute_result"
    }
   ],
   "source": [
    "df.total_charges.iloc[1731]"
   ]
  },
  {
   "cell_type": "code",
   "execution_count": 283,
   "id": "887369da",
   "metadata": {},
   "outputs": [
    {
     "data": {
      "text/plain": [
       "' '"
      ]
     },
     "execution_count": 283,
     "metadata": {},
     "output_type": "execute_result"
    }
   ],
   "source": [
    "df.total_charges.iloc[1906]"
   ]
  },
  {
   "cell_type": "code",
   "execution_count": 285,
   "id": "05fa8aeb",
   "metadata": {
    "scrolled": false
   },
   "outputs": [
    {
     "data": {
      "text/plain": [
       "0       False\n",
       "4691    False\n",
       "4702    False\n",
       "4701    False\n",
       "4700    False\n",
       "        ...  \n",
       "2344    False\n",
       "2343    False\n",
       "2342    False\n",
       "2341    False\n",
       "7042    False\n",
       "Name: total_charges, Length: 7043, dtype: bool"
      ]
     },
     "execution_count": 285,
     "metadata": {},
     "output_type": "execute_result"
    }
   ],
   "source": [
    "df.total_charges = df.total_charges.str.replace(' ', '0.0')\n",
    "df.total_charges.str.isspace().sort_values(ascending=False)"
   ]
  },
  {
   "cell_type": "code",
   "execution_count": 286,
   "id": "96cf2aa8",
   "metadata": {},
   "outputs": [
    {
     "data": {
      "text/plain": [
       "'0.0'"
      ]
     },
     "execution_count": 286,
     "metadata": {},
     "output_type": "execute_result"
    }
   ],
   "source": [
    "df.total_charges.iloc[1906]"
   ]
  },
  {
   "cell_type": "code",
   "execution_count": 292,
   "id": "e9a2138a",
   "metadata": {
    "scrolled": true
   },
   "outputs": [],
   "source": [
    "df.total_charges = df.total_charges.astype('float')"
   ]
  },
  {
   "cell_type": "code",
   "execution_count": 293,
   "id": "7d7316c1",
   "metadata": {},
   "outputs": [
    {
     "data": {
      "text/plain": [
       "dtype('float64')"
      ]
     },
     "execution_count": 293,
     "metadata": {},
     "output_type": "execute_result"
    }
   ],
   "source": [
    "df.total_charges.dtype"
   ]
  },
  {
   "cell_type": "code",
   "execution_count": 296,
   "id": "bdcff8b9",
   "metadata": {},
   "outputs": [
    {
     "data": {
      "text/plain": [
       "<matplotlib.collections.PathCollection at 0x29bbc45b0>"
      ]
     },
     "execution_count": 296,
     "metadata": {},
     "output_type": "execute_result"
    },
    {
     "data": {
      "image/png": "[encoded data removed]",
      "text/plain": [
       "<Figure size 432x288 with 1 Axes>"
      ]
     },
     "metadata": {
      "needs_background": "light"
     },
     "output_type": "display_data"
    }
   ],
   "source": [
    "plt.scatter(df.tenure, df.total_charges)"
   ]
  },
  {
   "cell_type": "code",
   "execution_count": 294,
   "id": "fcfb6fc3",
   "metadata": {
    "scrolled": false
   },
   "outputs": [
    {
     "data": {
      "text/plain": [
       "(0.8261783979502481, 0.0)"
      ]
     },
     "execution_count": 294,
     "metadata": {},
     "output_type": "execute_result"
    }
   ],
   "source": [
    "r, p = stats.pearsonr(df.tenure, df.total_charges )\n",
    "r, p"
   ]
  },
  {
   "cell_type": "markdown",
   "id": "ab22b8d4",
   "metadata": {},
   "source": [
    "### * What happens if you control for phone and internet service \n",
    "* Variables:\n",
    "    * phone (discrete, boolean)\n",
    "    * internet service (discrete, numeric)\n",
    "    \n",
    "There appears to be a weak positive correlation between phone and internet service"
   ]
  },
  {
   "cell_type": "code",
   "execution_count": 298,
   "id": "73ca9fff",
   "metadata": {},
   "outputs": [
    {
     "data": {
      "text/plain": [
       "Yes    6361\n",
       "No      682\n",
       "Name: phone_service, dtype: int64"
      ]
     },
     "execution_count": 298,
     "metadata": {},
     "output_type": "execute_result"
    }
   ],
   "source": [
    "df.phone_service.value_counts()"
   ]
  },
  {
   "cell_type": "code",
   "execution_count": 318,
   "id": "580b352d",
   "metadata": {
    "scrolled": true
   },
   "outputs": [],
   "source": [
    "# numpy.where(condition[, x, y])\n",
    "df['phone_bool'] = np.where(df.phone_service == 'Yes', 1,0 )"
   ]
  },
  {
   "cell_type": "code",
   "execution_count": 319,
   "id": "16605fc0",
   "metadata": {
    "scrolled": true
   },
   "outputs": [
    {
     "data": {
      "text/html": [
       "<div>\n",
       "<style scoped>\n",
       "    .dataframe tbody tr th:only-of-type {\n",
       "        vertical-align: middle;\n",
       "    }\n",
       "\n",
       "    .dataframe tbody tr th {\n",
       "        vertical-align: top;\n",
       "    }\n",
       "\n",
       "    .dataframe thead th {\n",
       "        text-align: right;\n",
       "    }\n",
       "</style>\n",
       "<table border=\"1\" class=\"dataframe\">\n",
       "  <thead>\n",
       "    <tr style=\"text-align: right;\">\n",
       "      <th></th>\n",
       "      <th>customer_id</th>\n",
       "      <th>gender</th>\n",
       "      <th>senior_citizen</th>\n",
       "      <th>partner</th>\n",
       "      <th>dependents</th>\n",
       "      <th>tenure</th>\n",
       "      <th>phone_service</th>\n",
       "      <th>multiple_lines</th>\n",
       "      <th>internet_service_type_id</th>\n",
       "      <th>online_security</th>\n",
       "      <th>...</th>\n",
       "      <th>tech_support</th>\n",
       "      <th>streaming_tv</th>\n",
       "      <th>streaming_movies</th>\n",
       "      <th>contract_type_id</th>\n",
       "      <th>paperless_billing</th>\n",
       "      <th>payment_type_id</th>\n",
       "      <th>monthly_charges</th>\n",
       "      <th>total_charges</th>\n",
       "      <th>churn</th>\n",
       "      <th>phone_bool</th>\n",
       "    </tr>\n",
       "  </thead>\n",
       "  <tbody>\n",
       "    <tr>\n",
       "      <th>4008</th>\n",
       "      <td>5650-YLIBA</td>\n",
       "      <td>Male</td>\n",
       "      <td>0</td>\n",
       "      <td>No</td>\n",
       "      <td>No</td>\n",
       "      <td>31</td>\n",
       "      <td>Yes</td>\n",
       "      <td>Yes</td>\n",
       "      <td>2</td>\n",
       "      <td>No</td>\n",
       "      <td>...</td>\n",
       "      <td>No</td>\n",
       "      <td>No</td>\n",
       "      <td>No</td>\n",
       "      <td>1</td>\n",
       "      <td>Yes</td>\n",
       "      <td>1</td>\n",
       "      <td>81.15</td>\n",
       "      <td>2640.55</td>\n",
       "      <td>No</td>\n",
       "      <td>1</td>\n",
       "    </tr>\n",
       "    <tr>\n",
       "      <th>5593</th>\n",
       "      <td>7876-AEHIG</td>\n",
       "      <td>Female</td>\n",
       "      <td>0</td>\n",
       "      <td>No</td>\n",
       "      <td>Yes</td>\n",
       "      <td>51</td>\n",
       "      <td>No</td>\n",
       "      <td>No phone service</td>\n",
       "      <td>1</td>\n",
       "      <td>Yes</td>\n",
       "      <td>...</td>\n",
       "      <td>Yes</td>\n",
       "      <td>Yes</td>\n",
       "      <td>Yes</td>\n",
       "      <td>2</td>\n",
       "      <td>No</td>\n",
       "      <td>3</td>\n",
       "      <td>60.15</td>\n",
       "      <td>3077.00</td>\n",
       "      <td>No</td>\n",
       "      <td>0</td>\n",
       "    </tr>\n",
       "    <tr>\n",
       "      <th>24</th>\n",
       "      <td>0031-PVLZI</td>\n",
       "      <td>Female</td>\n",
       "      <td>0</td>\n",
       "      <td>Yes</td>\n",
       "      <td>Yes</td>\n",
       "      <td>4</td>\n",
       "      <td>Yes</td>\n",
       "      <td>No</td>\n",
       "      <td>3</td>\n",
       "      <td>No internet service</td>\n",
       "      <td>...</td>\n",
       "      <td>No internet service</td>\n",
       "      <td>No internet service</td>\n",
       "      <td>No internet service</td>\n",
       "      <td>1</td>\n",
       "      <td>No</td>\n",
       "      <td>2</td>\n",
       "      <td>20.35</td>\n",
       "      <td>76.35</td>\n",
       "      <td>Yes</td>\n",
       "      <td>1</td>\n",
       "    </tr>\n",
       "    <tr>\n",
       "      <th>5201</th>\n",
       "      <td>7319-VENRZ</td>\n",
       "      <td>Male</td>\n",
       "      <td>0</td>\n",
       "      <td>No</td>\n",
       "      <td>No</td>\n",
       "      <td>7</td>\n",
       "      <td>Yes</td>\n",
       "      <td>No</td>\n",
       "      <td>1</td>\n",
       "      <td>No</td>\n",
       "      <td>...</td>\n",
       "      <td>Yes</td>\n",
       "      <td>Yes</td>\n",
       "      <td>No</td>\n",
       "      <td>1</td>\n",
       "      <td>No</td>\n",
       "      <td>3</td>\n",
       "      <td>64.30</td>\n",
       "      <td>445.95</td>\n",
       "      <td>No</td>\n",
       "      <td>1</td>\n",
       "    </tr>\n",
       "    <tr>\n",
       "      <th>1921</th>\n",
       "      <td>2796-UUZZO</td>\n",
       "      <td>Male</td>\n",
       "      <td>0</td>\n",
       "      <td>Yes</td>\n",
       "      <td>Yes</td>\n",
       "      <td>63</td>\n",
       "      <td>Yes</td>\n",
       "      <td>No</td>\n",
       "      <td>2</td>\n",
       "      <td>No</td>\n",
       "      <td>...</td>\n",
       "      <td>No</td>\n",
       "      <td>No</td>\n",
       "      <td>No</td>\n",
       "      <td>1</td>\n",
       "      <td>Yes</td>\n",
       "      <td>4</td>\n",
       "      <td>80.30</td>\n",
       "      <td>4896.35</td>\n",
       "      <td>No</td>\n",
       "      <td>1</td>\n",
       "    </tr>\n",
       "    <tr>\n",
       "      <th>3666</th>\n",
       "      <td>5175-AOBHI</td>\n",
       "      <td>Female</td>\n",
       "      <td>0</td>\n",
       "      <td>No</td>\n",
       "      <td>No</td>\n",
       "      <td>4</td>\n",
       "      <td>Yes</td>\n",
       "      <td>No</td>\n",
       "      <td>1</td>\n",
       "      <td>No</td>\n",
       "      <td>...</td>\n",
       "      <td>No</td>\n",
       "      <td>No</td>\n",
       "      <td>No</td>\n",
       "      <td>1</td>\n",
       "      <td>Yes</td>\n",
       "      <td>2</td>\n",
       "      <td>46.00</td>\n",
       "      <td>193.60</td>\n",
       "      <td>Yes</td>\n",
       "      <td>1</td>\n",
       "    </tr>\n",
       "    <tr>\n",
       "      <th>5615</th>\n",
       "      <td>7908-QCBCA</td>\n",
       "      <td>Female</td>\n",
       "      <td>0</td>\n",
       "      <td>Yes</td>\n",
       "      <td>No</td>\n",
       "      <td>1</td>\n",
       "      <td>Yes</td>\n",
       "      <td>No</td>\n",
       "      <td>2</td>\n",
       "      <td>No</td>\n",
       "      <td>...</td>\n",
       "      <td>No</td>\n",
       "      <td>No</td>\n",
       "      <td>No</td>\n",
       "      <td>1</td>\n",
       "      <td>Yes</td>\n",
       "      <td>2</td>\n",
       "      <td>69.40</td>\n",
       "      <td>69.40</td>\n",
       "      <td>Yes</td>\n",
       "      <td>1</td>\n",
       "    </tr>\n",
       "    <tr>\n",
       "      <th>3326</th>\n",
       "      <td>4737-AQCPU</td>\n",
       "      <td>Male</td>\n",
       "      <td>0</td>\n",
       "      <td>Yes</td>\n",
       "      <td>Yes</td>\n",
       "      <td>72</td>\n",
       "      <td>Yes</td>\n",
       "      <td>Yes</td>\n",
       "      <td>1</td>\n",
       "      <td>Yes</td>\n",
       "      <td>...</td>\n",
       "      <td>Yes</td>\n",
       "      <td>No</td>\n",
       "      <td>No</td>\n",
       "      <td>3</td>\n",
       "      <td>No</td>\n",
       "      <td>4</td>\n",
       "      <td>72.10</td>\n",
       "      <td>5016.65</td>\n",
       "      <td>No</td>\n",
       "      <td>1</td>\n",
       "    </tr>\n",
       "    <tr>\n",
       "      <th>2867</th>\n",
       "      <td>4086-ATNFV</td>\n",
       "      <td>Female</td>\n",
       "      <td>0</td>\n",
       "      <td>Yes</td>\n",
       "      <td>Yes</td>\n",
       "      <td>34</td>\n",
       "      <td>Yes</td>\n",
       "      <td>No</td>\n",
       "      <td>1</td>\n",
       "      <td>Yes</td>\n",
       "      <td>...</td>\n",
       "      <td>No</td>\n",
       "      <td>No</td>\n",
       "      <td>No</td>\n",
       "      <td>2</td>\n",
       "      <td>Yes</td>\n",
       "      <td>2</td>\n",
       "      <td>60.80</td>\n",
       "      <td>2042.05</td>\n",
       "      <td>No</td>\n",
       "      <td>1</td>\n",
       "    </tr>\n",
       "    <tr>\n",
       "      <th>1488</th>\n",
       "      <td>2194-IIQOF</td>\n",
       "      <td>Female</td>\n",
       "      <td>0</td>\n",
       "      <td>Yes</td>\n",
       "      <td>No</td>\n",
       "      <td>71</td>\n",
       "      <td>Yes</td>\n",
       "      <td>Yes</td>\n",
       "      <td>1</td>\n",
       "      <td>Yes</td>\n",
       "      <td>...</td>\n",
       "      <td>Yes</td>\n",
       "      <td>Yes</td>\n",
       "      <td>Yes</td>\n",
       "      <td>3</td>\n",
       "      <td>No</td>\n",
       "      <td>4</td>\n",
       "      <td>89.30</td>\n",
       "      <td>6388.65</td>\n",
       "      <td>No</td>\n",
       "      <td>1</td>\n",
       "    </tr>\n",
       "  </tbody>\n",
       "</table>\n",
       "<p>10 rows × 22 columns</p>\n",
       "</div>"
      ],
      "text/plain": [
       "     customer_id  gender  senior_citizen partner dependents  tenure  \\\n",
       "4008  5650-YLIBA    Male               0      No         No      31   \n",
       "5593  7876-AEHIG  Female               0      No        Yes      51   \n",
       "24    0031-PVLZI  Female               0     Yes        Yes       4   \n",
       "5201  7319-VENRZ    Male               0      No         No       7   \n",
       "1921  2796-UUZZO    Male               0     Yes        Yes      63   \n",
       "3666  5175-AOBHI  Female               0      No         No       4   \n",
       "5615  7908-QCBCA  Female               0     Yes         No       1   \n",
       "3326  4737-AQCPU    Male               0     Yes        Yes      72   \n",
       "2867  4086-ATNFV  Female               0     Yes        Yes      34   \n",
       "1488  2194-IIQOF  Female               0     Yes         No      71   \n",
       "\n",
       "     phone_service    multiple_lines  internet_service_type_id  \\\n",
       "4008           Yes               Yes                         2   \n",
       "5593            No  No phone service                         1   \n",
       "24             Yes                No                         3   \n",
       "5201           Yes                No                         1   \n",
       "1921           Yes                No                         2   \n",
       "3666           Yes                No                         1   \n",
       "5615           Yes                No                         2   \n",
       "3326           Yes               Yes                         1   \n",
       "2867           Yes                No                         1   \n",
       "1488           Yes               Yes                         1   \n",
       "\n",
       "          online_security  ...         tech_support         streaming_tv  \\\n",
       "4008                   No  ...                   No                   No   \n",
       "5593                  Yes  ...                  Yes                  Yes   \n",
       "24    No internet service  ...  No internet service  No internet service   \n",
       "5201                   No  ...                  Yes                  Yes   \n",
       "1921                   No  ...                   No                   No   \n",
       "3666                   No  ...                   No                   No   \n",
       "5615                   No  ...                   No                   No   \n",
       "3326                  Yes  ...                  Yes                   No   \n",
       "2867                  Yes  ...                   No                   No   \n",
       "1488                  Yes  ...                  Yes                  Yes   \n",
       "\n",
       "         streaming_movies contract_type_id paperless_billing  payment_type_id  \\\n",
       "4008                   No                1               Yes                1   \n",
       "5593                  Yes                2                No                3   \n",
       "24    No internet service                1                No                2   \n",
       "5201                   No                1                No                3   \n",
       "1921                   No                1               Yes                4   \n",
       "3666                   No                1               Yes                2   \n",
       "5615                   No                1               Yes                2   \n",
       "3326                   No                3                No                4   \n",
       "2867                   No                2               Yes                2   \n",
       "1488                  Yes                3                No                4   \n",
       "\n",
       "     monthly_charges  total_charges  churn  phone_bool  \n",
       "4008           81.15        2640.55     No           1  \n",
       "5593           60.15        3077.00     No           0  \n",
       "24             20.35          76.35    Yes           1  \n",
       "5201           64.30         445.95     No           1  \n",
       "1921           80.30        4896.35     No           1  \n",
       "3666           46.00         193.60    Yes           1  \n",
       "5615           69.40          69.40    Yes           1  \n",
       "3326           72.10        5016.65     No           1  \n",
       "2867           60.80        2042.05     No           1  \n",
       "1488           89.30        6388.65     No           1  \n",
       "\n",
       "[10 rows x 22 columns]"
      ]
     },
     "execution_count": 319,
     "metadata": {},
     "output_type": "execute_result"
    }
   ],
   "source": [
    "df.sample(10)"
   ]
  },
  {
   "cell_type": "code",
   "execution_count": 300,
   "id": "910c27fd",
   "metadata": {
    "scrolled": true
   },
   "outputs": [
    {
     "data": {
      "text/plain": [
       "2    3096\n",
       "1    2421\n",
       "3    1526\n",
       "Name: internet_service_type_id, dtype: int64"
      ]
     },
     "execution_count": 300,
     "metadata": {},
     "output_type": "execute_result"
    }
   ],
   "source": [
    "\n",
    "df.internet_service_type_id.value_counts()"
   ]
  },
  {
   "cell_type": "code",
   "execution_count": 320,
   "id": "e9e44f5a",
   "metadata": {
    "scrolled": true
   },
   "outputs": [
    {
     "data": {
      "text/plain": [
       "<AxesSubplot:xlabel='internet_service_type_id', ylabel='phone_bool'>"
      ]
     },
     "execution_count": 320,
     "metadata": {},
     "output_type": "execute_result"
    },
    {
     "data": {
      "image/png": "[encoded data removed]",
      "text/plain": [
       "<Figure size 432x288 with 1 Axes>"
      ]
     },
     "metadata": {
      "needs_background": "light"
     },
     "output_type": "display_data"
    }
   ],
   "source": [
    "df.plot.scatter(y='phone_bool', x='internet_service_type_id')"
   ]
  },
  {
   "cell_type": "code",
   "execution_count": 322,
   "id": "925dcc22",
   "metadata": {},
   "outputs": [
    {
     "data": {
      "text/plain": [
       "(0.3874360220309273, 5.211955346182676e-251)"
      ]
     },
     "execution_count": 322,
     "metadata": {},
     "output_type": "execute_result"
    }
   ],
   "source": [
    "r, p = stats.pearsonr(df.phone_bool, df.internet_service_type_id )\n",
    "r, p"
   ]
  },
  {
   "cell_type": "markdown",
   "id": "5bcb6124",
   "metadata": {},
   "source": [
    "# 3 Use the employees database.\n"
   ]
  },
  {
   "cell_type": "code",
   "execution_count": 336,
   "id": "29134b85",
   "metadata": {},
   "outputs": [],
   "source": [
    "import env\n",
    "\n",
    "def get_connection(db, user=env.user, host=env.host, password=env.password):\n",
    "    return f'mysql+pymysql://{user}:{password}@{host}/{db}'\n",
    "    \n",
    "employees_df = pd.read_sql('SELECT * FROM employees', get_connection('employees'))\n",
    "salaries_df = pd.read_sql('SELECT * FROM salaries', get_connection('employees'))\n",
    "dept_emp_df = pd.read_sql('SELECT * FROM dept_emp', get_connection('employees'))"
   ]
  },
  {
   "cell_type": "code",
   "execution_count": 338,
   "id": "55d493c0",
   "metadata": {},
   "outputs": [
    {
     "data": {
      "text/plain": [
       "(   emp_no  birth_date first_name last_name gender   hire_date\n",
       " 0   10001  1953-09-02     Georgi   Facello      M  1986-06-26\n",
       " 1   10002  1964-06-02    Bezalel    Simmel      F  1985-11-21\n",
       " 2   10003  1959-12-03      Parto   Bamford      M  1986-08-28\n",
       " 3   10004  1954-05-01  Chirstian   Koblick      M  1986-12-01\n",
       " 4   10005  1955-01-21    Kyoichi  Maliniak      M  1989-09-12,\n",
       "    emp_no  salary   from_date     to_date\n",
       " 0   10001   60117  1986-06-26  1987-06-26\n",
       " 1   10001   62102  1987-06-26  1988-06-25\n",
       " 2   10001   66074  1988-06-25  1989-06-25\n",
       " 3   10001   66596  1989-06-25  1990-06-25\n",
       " 4   10001   66961  1990-06-25  1991-06-25,\n",
       "    emp_no dept_no   from_date     to_date\n",
       " 0   10001    d005  1986-06-26  9999-01-01\n",
       " 1   10002    d007  1996-08-03  9999-01-01\n",
       " 2   10003    d004  1995-12-03  9999-01-01\n",
       " 3   10004    d004  1986-12-01  9999-01-01\n",
       " 4   10005    d003  1989-09-12  9999-01-01)"
      ]
     },
     "execution_count": 338,
     "metadata": {},
     "output_type": "execute_result"
    }
   ],
   "source": [
    "employees_df.head(),salaries_df.head(),dept_emp_df.head()"
   ]
  },
  {
   "cell_type": "code",
   "execution_count": 342,
   "id": "56d8c518",
   "metadata": {},
   "outputs": [
    {
     "data": {
      "text/html": [
       "<div>\n",
       "<style scoped>\n",
       "    .dataframe tbody tr th:only-of-type {\n",
       "        vertical-align: middle;\n",
       "    }\n",
       "\n",
       "    .dataframe tbody tr th {\n",
       "        vertical-align: top;\n",
       "    }\n",
       "\n",
       "    .dataframe thead th {\n",
       "        text-align: right;\n",
       "    }\n",
       "</style>\n",
       "<table border=\"1\" class=\"dataframe\">\n",
       "  <thead>\n",
       "    <tr style=\"text-align: right;\">\n",
       "      <th></th>\n",
       "      <th>emp_no</th>\n",
       "      <th>salary</th>\n",
       "      <th>from_date</th>\n",
       "      <th>to_date</th>\n",
       "    </tr>\n",
       "  </thead>\n",
       "  <tbody>\n",
       "    <tr>\n",
       "      <th>1411613</th>\n",
       "      <td>248688</td>\n",
       "      <td>45640</td>\n",
       "      <td>1995-07-10</td>\n",
       "      <td>1996-07-09</td>\n",
       "    </tr>\n",
       "    <tr>\n",
       "      <th>2524977</th>\n",
       "      <td>466214</td>\n",
       "      <td>56201</td>\n",
       "      <td>1999-01-01</td>\n",
       "      <td>2000-01-01</td>\n",
       "    </tr>\n",
       "    <tr>\n",
       "      <th>1513347</th>\n",
       "      <td>259432</td>\n",
       "      <td>52359</td>\n",
       "      <td>1993-07-18</td>\n",
       "      <td>1994-07-18</td>\n",
       "    </tr>\n",
       "    <tr>\n",
       "      <th>2639818</th>\n",
       "      <td>478385</td>\n",
       "      <td>49138</td>\n",
       "      <td>1996-10-10</td>\n",
       "      <td>1997-10-10</td>\n",
       "    </tr>\n",
       "    <tr>\n",
       "      <th>377602</th>\n",
       "      <td>49795</td>\n",
       "      <td>61794</td>\n",
       "      <td>1993-08-19</td>\n",
       "      <td>1994-08-19</td>\n",
       "    </tr>\n",
       "    <tr>\n",
       "      <th>486587</th>\n",
       "      <td>61227</td>\n",
       "      <td>90063</td>\n",
       "      <td>1987-12-31</td>\n",
       "      <td>1988-12-30</td>\n",
       "    </tr>\n",
       "    <tr>\n",
       "      <th>1303029</th>\n",
       "      <td>237248</td>\n",
       "      <td>48115</td>\n",
       "      <td>1995-07-16</td>\n",
       "      <td>1996-07-15</td>\n",
       "    </tr>\n",
       "    <tr>\n",
       "      <th>2789267</th>\n",
       "      <td>494174</td>\n",
       "      <td>81442</td>\n",
       "      <td>1993-03-07</td>\n",
       "      <td>1994-03-07</td>\n",
       "    </tr>\n",
       "    <tr>\n",
       "      <th>2586826</th>\n",
       "      <td>472789</td>\n",
       "      <td>54847</td>\n",
       "      <td>1996-12-13</td>\n",
       "      <td>1997-12-13</td>\n",
       "    </tr>\n",
       "    <tr>\n",
       "      <th>1917371</th>\n",
       "      <td>402091</td>\n",
       "      <td>43653</td>\n",
       "      <td>1992-08-22</td>\n",
       "      <td>1993-08-22</td>\n",
       "    </tr>\n",
       "    <tr>\n",
       "      <th>1615640</th>\n",
       "      <td>270203</td>\n",
       "      <td>80374</td>\n",
       "      <td>2002-07-04</td>\n",
       "      <td>9999-01-01</td>\n",
       "    </tr>\n",
       "    <tr>\n",
       "      <th>1073708</th>\n",
       "      <td>212945</td>\n",
       "      <td>47466</td>\n",
       "      <td>1987-11-25</td>\n",
       "      <td>1988-11-24</td>\n",
       "    </tr>\n",
       "    <tr>\n",
       "      <th>605553</th>\n",
       "      <td>73782</td>\n",
       "      <td>44948</td>\n",
       "      <td>1989-09-28</td>\n",
       "      <td>1990-09-28</td>\n",
       "    </tr>\n",
       "    <tr>\n",
       "      <th>2618121</th>\n",
       "      <td>476126</td>\n",
       "      <td>57034</td>\n",
       "      <td>1990-07-27</td>\n",
       "      <td>1991-07-27</td>\n",
       "    </tr>\n",
       "    <tr>\n",
       "      <th>2829570</th>\n",
       "      <td>498440</td>\n",
       "      <td>86977</td>\n",
       "      <td>1994-08-05</td>\n",
       "      <td>1995-08-05</td>\n",
       "    </tr>\n",
       "    <tr>\n",
       "      <th>64653</th>\n",
       "      <td>16805</td>\n",
       "      <td>44805</td>\n",
       "      <td>1992-03-11</td>\n",
       "      <td>1993-03-11</td>\n",
       "    </tr>\n",
       "    <tr>\n",
       "      <th>463421</th>\n",
       "      <td>58813</td>\n",
       "      <td>39955</td>\n",
       "      <td>1990-06-21</td>\n",
       "      <td>1991-06-21</td>\n",
       "    </tr>\n",
       "    <tr>\n",
       "      <th>2503465</th>\n",
       "      <td>463942</td>\n",
       "      <td>60595</td>\n",
       "      <td>1993-01-05</td>\n",
       "      <td>1994-01-05</td>\n",
       "    </tr>\n",
       "    <tr>\n",
       "      <th>51444</th>\n",
       "      <td>15416</td>\n",
       "      <td>74426</td>\n",
       "      <td>1990-02-27</td>\n",
       "      <td>1991-02-27</td>\n",
       "    </tr>\n",
       "    <tr>\n",
       "      <th>821337</th>\n",
       "      <td>96438</td>\n",
       "      <td>74152</td>\n",
       "      <td>2000-05-04</td>\n",
       "      <td>2001-05-04</td>\n",
       "    </tr>\n",
       "  </tbody>\n",
       "</table>\n",
       "</div>"
      ],
      "text/plain": [
       "         emp_no  salary   from_date     to_date\n",
       "1411613  248688   45640  1995-07-10  1996-07-09\n",
       "2524977  466214   56201  1999-01-01  2000-01-01\n",
       "1513347  259432   52359  1993-07-18  1994-07-18\n",
       "2639818  478385   49138  1996-10-10  1997-10-10\n",
       "377602    49795   61794  1993-08-19  1994-08-19\n",
       "486587    61227   90063  1987-12-31  1988-12-30\n",
       "1303029  237248   48115  1995-07-16  1996-07-15\n",
       "2789267  494174   81442  1993-03-07  1994-03-07\n",
       "2586826  472789   54847  1996-12-13  1997-12-13\n",
       "1917371  402091   43653  1992-08-22  1993-08-22\n",
       "1615640  270203   80374  2002-07-04  9999-01-01\n",
       "1073708  212945   47466  1987-11-25  1988-11-24\n",
       "605553    73782   44948  1989-09-28  1990-09-28\n",
       "2618121  476126   57034  1990-07-27  1991-07-27\n",
       "2829570  498440   86977  1994-08-05  1995-08-05\n",
       "64653     16805   44805  1992-03-11  1993-03-11\n",
       "463421    58813   39955  1990-06-21  1991-06-21\n",
       "2503465  463942   60595  1993-01-05  1994-01-05\n",
       "51444     15416   74426  1990-02-27  1991-02-27\n",
       "821337    96438   74152  2000-05-04  2001-05-04"
      ]
     },
     "execution_count": 342,
     "metadata": {},
     "output_type": "execute_result"
    }
   ],
   "source": [
    "salaries_df.sample(20)"
   ]
  },
  {
   "cell_type": "markdown",
   "id": "4391f9c4",
   "metadata": {},
   "source": [
    "### * Is there a relationship between how long an employee has been with the company and their salary?\n"
   ]
  },
  {
   "cell_type": "code",
   "execution_count": 340,
   "id": "2e7f90cf",
   "metadata": {},
   "outputs": [
    {
     "data": {
      "text/plain": [
       "to_date     emp_no  salary  from_date \n",
       "1985-03-01  20869   40000   1985-02-17    1\n",
       "1985-03-11  474918  40000   1985-02-10    1\n",
       "1985-03-20  434232  51991   1985-02-26    1\n",
       "1985-03-23  34059   54776   1985-02-10    1\n",
       "1985-04-17  287732  40000   1985-04-14    1\n",
       "                                         ..\n",
       "9999-01-01  251758  119500  2001-08-05    1\n",
       "            251759  63824   2001-09-04    1\n",
       "            251760  72656   2002-06-24    1\n",
       "            251762  96757   2002-03-23    1\n",
       "            499999  77303   2001-11-29    1\n",
       "Length: 2844047, dtype: int64"
      ]
     },
     "execution_count": 340,
     "metadata": {},
     "output_type": "execute_result"
    }
   ],
   "source": [
    "salaries_df.groupby('to_date').value_counts()"
   ]
  },
  {
   "cell_type": "code",
   "execution_count": null,
   "id": "006c888d",
   "metadata": {},
   "outputs": [],
   "source": []
  },
  {
   "cell_type": "code",
   "execution_count": null,
   "id": "58b43618",
   "metadata": {},
   "outputs": [],
   "source": []
  },
  {
   "cell_type": "markdown",
   "id": "faaa4958",
   "metadata": {},
   "source": [
    "### * Is there a relationship between how long an employee has been with the company and the number of titles they have had?"
   ]
  },
  {
   "cell_type": "code",
   "execution_count": null,
   "id": "8d516693",
   "metadata": {},
   "outputs": [],
   "source": []
  },
  {
   "cell_type": "code",
   "execution_count": null,
   "id": "a42530c9",
   "metadata": {},
   "outputs": [],
   "source": []
  }
 ],
 "metadata": {
  "kernelspec": {
   "display_name": "Python 3 (ipykernel)",
   "language": "python",
   "name": "python3"
  },
  "language_info": {
   "codemirror_mode": {
    "name": "ipython",
    "version": 3
   },
   "file_extension": ".py",
   "mimetype": "text/x-python",
   "name": "python",
   "nbconvert_exporter": "python",
   "pygments_lexer": "ipython3",
   "version": "3.9.12"
  }
 },
 "nbformat": 4,
 "nbformat_minor": 5
}
