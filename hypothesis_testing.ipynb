{
 "cells": [
  {
   "cell_type": "markdown",
   "id": "53766878",
   "metadata": {},
   "source": [
    "# $ Hypothesis Testing$"
   ]
  },
  {
   "cell_type": "markdown",
   "id": "c6ff0658",
   "metadata": {},
   "source": [
    "For each of the following questions:\n",
    "* formulate a null and alternative hypothesis (be as specific as you can be), \n",
    "* then give an example of what a true positive, true negative, type I and type II errors would look like. \n",
    "\n",
    "Note that some of the questions are intentionally phrased in a vague way. It is your job to reword these as more precise questions that could be tested.\n"
   ]
  },
  {
   "cell_type": "markdown",
   "id": "a949cc2d",
   "metadata": {},
   "source": [
    "### 1. \"Has the network latency gone up since we switched internet service providers?\"\n",
    "T-test\n",
    "#### Is there a relationship between data speed and internet provider\n",
    "Data Types: \n",
    "\n",
    "        - data speed (discrete, numeric) use bins\n",
    "        \n",
    "        - internet providers(discrete, Boolean)\n",
    "WE are testing Dependency\n",
    "\n",
    "$H_{0}$: There is no relationship between internet providers and data speed\n",
    "\n",
    "$H_{a}$: There is a relationship between internet providers and data speed\n",
    "\n"
   ]
  },
  {
   "cell_type": "markdown",
   "id": "3d2dfdc3",
   "metadata": {},
   "source": [
    "###### True Negative:\n",
    "There is no relatinship between internet providers and data speed and our testing failed to reject $H_{0}"
   ]
  },
  {
   "cell_type": "markdown",
   "id": "3562d490",
   "metadata": {},
   "source": [
    "###### True Positive: \n",
    "There is a relationship between internet providers and data speed and our testing rejected $H_{0}\n"
   ]
  },
  {
   "cell_type": "markdown",
   "id": "7d1155bd",
   "metadata": {},
   "source": [
    "###### Type I Error (Reject null when null was true): \n",
    "There is no relationship between the data speed and internet providers but our conclusions found that there was a relationship."
   ]
  },
  {
   "cell_type": "markdown",
   "id": "bd48dc14",
   "metadata": {},
   "source": [
    "###### Type II Error (Accept null when null was false): \n",
    "There is a relationship between the data speed and the internet provider but our conclusion failed to determined the existance of such relationship."
   ]
  },
  {
   "cell_type": "markdown",
   "id": "fb65aec4",
   "metadata": {},
   "source": [
    "### 1. \"Has the network latency gone up since we switched internet service providers?\"\n",
    "T-test\n",
    "#### Is there an increase of mean latency with the new internet service providers\n",
    "Data Types: \n",
    "\n",
    "        - latency (continuous, numeric) use bins\n",
    "        \n",
    "        - internet providers(discrete, Boolean)\n",
    "We are testing difference the difference between two means\n",
    "\n",
    "$H_{0}$: the mean latency group a(new internet provider) < = to the mean latency group b(previous internet provider)\n",
    "\n",
    "$H_{a}$: the mean latency group a(new internet provider) > to the mean latency group b(previous internet provider)\n",
    "    \n",
    "* True Negative:\n",
    "    Latency did not go up and we said it did not go up\n",
    "     \n",
    "* True Positive:\n",
    "    Latency went up and we said it went up\n",
    "    \n",
    "* Type I Error:\n",
    "    Latency did not go up but we said it did\n",
    "    \n",
    "* Type II Error:\n",
    "    Latency did go up but we said it did not.\n",
    "\n"
   ]
  },
  {
   "cell_type": "markdown",
   "id": "d0dd62a3",
   "metadata": {},
   "source": [
    "### 2.  \"Is the website redesign any good?\"\n",
    "##### Does our website design increase the  engagement of our targeted audience?\n",
    "Data Types: \n",
    "        -new website desgin (discrete, Boolean)\n",
    "        -engagement of targeted audience(continuous, numeric)\n",
    "WE are testing difference\n",
    "\n",
    "$H_{0}$: The mean engament of our targeted audiences with our original website >=  The mean engament of our targeted audiences with our new website\n",
    "\n",
    "$H_{a}$: The mean engament of our targeted audiences with our original website < The mean engament of our targeted audiences with our new website\n",
    "\n"
   ]
  },
  {
   "cell_type": "markdown",
   "id": "9e20af9c",
   "metadata": {},
   "source": [
    "###### True Negative:\n",
    "The new website does not increase targeted audience engagement and we failed to reject $H_{0}$ "
   ]
  },
  {
   "cell_type": "markdown",
   "id": "1f01b32b",
   "metadata": {},
   "source": [
    "###### True Positive:\n",
    "The new website does increased engagement with targeted audience and we rejected $H_{0}$"
   ]
  },
  {
   "cell_type": "markdown",
   "id": "e1cd2853",
   "metadata": {},
   "source": [
    "###### Type I Error (Reject null when null was true):\n",
    "The new website does not increase engagement with targeted audience and we concluded that our new webside does increase engagement"
   ]
  },
  {
   "cell_type": "markdown",
   "id": "6be2d9e7",
   "metadata": {},
   "source": [
    "###### Type II Error (Accept null when null was false):\n",
    "The new website does increase engagement with targeted audience and we concluded that our new webside does not increase engagement"
   ]
  },
  {
   "cell_type": "markdown",
   "id": "d42f89df",
   "metadata": {},
   "source": [
    "### 2.  \"Is the website redesign any good?\"\n",
    "##### Does our website design increase the  engagement of our targeted audience?\n",
    "Data Types: \n",
    "        -old vs new website desgin (discrete, Boolean)\n",
    "        -Time on site in seconds(continuous, numeric)\n",
    "\n",
    "WE are testing difference\n",
    "\n",
    "$H_{0}$: The mean time of our old website >=  The mean time with our new website\n",
    "\n",
    "$H_{a}$: The mean time of our old website <  The mean time with our new website \n",
    "    \n",
    "* True Negative:\n",
    "    Visitors spent less or equal time now and we said that\n",
    "    \n",
    "* True Postive:\n",
    "    Visitors spend more time and we stated that\n",
    "    \n",
    "* Type I Error:\n",
    "    We stated the site was better but it is not\n",
    "    \n",
    "* Type II Error:\n",
    "    We stated the site was better but it is better\n",
    "\n"
   ]
  },
  {
   "cell_type": "markdown",
   "id": "870b8204",
   "metadata": {},
   "source": [
    "### 3. \"Is our television ad driving more sales?\"\n",
    "\n",
    "#### Is there a linear relationship between sales and the time period our television ad was run\n",
    "#### Where mean sales increased in the time period that our ads where showing on television?\n",
    "\n",
    "Data Types: \n",
    "        -Sales (continuous, numeric)\n",
    "        -Time period Ad was ran (discrete, Boolean)\n",
    "        \n",
    "WE are testing Difference\n",
    "\n",
    "$H_{0}$: The mean sales while ad did not show on television >= The mean sales while ad did show on television\n",
    "\n",
    "$H_{a}$: The mean sales while ad did not show on television < The mean sales while ad did show on television\n",
    "\n"
   ]
  },
  {
   "cell_type": "markdown",
   "id": "2711a11c",
   "metadata": {},
   "source": [
    "###### True Negative:\n",
    "The television ad does not increase sales and and we failed to reject $H_{0}$ "
   ]
  },
  {
   "cell_type": "markdown",
   "id": "950b0a65",
   "metadata": {},
   "source": [
    "###### True Positive:\n",
    "The television ad does increase sales and and we reject $H_{0}$ \n",
    "\n",
    " "
   ]
  },
  {
   "cell_type": "markdown",
   "id": "a50561dc",
   "metadata": {},
   "source": [
    "###### Type I Error (Reject null when null was true):\n",
    "The television ad does not increase sales but our conclusions state that it does increase sales"
   ]
  },
  {
   "cell_type": "markdown",
   "id": "1faf64b9",
   "metadata": {},
   "source": [
    "###### Type II Error (Accept null when null was false):\n",
    "The television ad does increase sales but our conclusions state that it does not increase sales."
   ]
  },
  {
   "cell_type": "markdown",
   "id": "2fb9e813",
   "metadata": {},
   "source": [
    "### 3. \"Is our television ad driving more sales?\"\n",
    "\n",
    "#### \n",
    "\n",
    "T-test\n",
    "Data Types: \n",
    "        -Sales (continuous, numeric)\n",
    "        - pre-Ad  (discrete, Boolean)\n",
    "        \n",
    "WE are testing Difference\n",
    "\n",
    "$H_{0}$: The mean sales pre-Ad >= The mean sales post-Ad\n",
    "\n",
    "$H_{a}$: The mean sales pre-Ad < The mean sales post-Ad\n",
    "\n",
    "\n",
    "\n",
    "* True Negative:\n",
    "    Sales did not increased post-Ad and we stated that\n",
    "    \n",
    "* True Positive:\n",
    "    post-ad sales increased and we stated that they would increase\n",
    "    \n",
    "* Type I Error:\n",
    "    Post-Ad sales are not increased but we said they did increased\n",
    "    \n",
    "* Type II Error:\n",
    "    Post-Ad sales increased but we said that sales did not increased.\n",
    "    Ad was working but we didnt think so \n",
    "\n"
   ]
  },
  {
   "cell_type": "markdown",
   "id": "22a14c2b",
   "metadata": {},
   "source": [
    "# $T-Test Exercises$"
   ]
  },
  {
   "cell_type": "code",
   "execution_count": 97,
   "id": "cd8b5e8f",
   "metadata": {},
   "outputs": [],
   "source": [
    "# pyplot for plotting\n",
    "import matplotlib.pyplot as plt\n",
    "# numpy for vectorized array operations\n",
    "import numpy as np\n",
    "# pandas for proper tabular manipulation\n",
    "import pandas as pd\n",
    "# scipy stats for our subversions\n",
    "from scipy import stats\n",
    "from pydataset import data"
   ]
  },
  {
   "cell_type": "markdown",
   "id": "888e0ab2",
   "metadata": {},
   "source": [
    "# 1.\n",
    "Answer with the type of test you would use (assume normal distribution):\n"
   ]
  },
  {
   "cell_type": "markdown",
   "id": "4461ea54",
   "metadata": {},
   "source": [
    "* Is there a difference in grades of students on the second floor compared to grades of all students?\n",
    "\n",
    "This situation compares the mean of and individual against a group.  The difference grades of students on the second floor compared to grades of all students.\n",
    "\n",
    "One sample t-test: scipy.stats.ttest_1samp, Two tails\n"
   ]
  },
  {
   "cell_type": "markdown",
   "id": "0e05614d",
   "metadata": {},
   "source": [
    "* Are adults who drink milk taller than adults who dont drink milk?\n",
    "\n",
    "This situation compares two heights means of the groups adults who drink milk and Adults who do not drink milk. \n",
    "\n",
    "Independent t-test (or 2-sample), One - Tail"
   ]
  },
  {
   "cell_type": "markdown",
   "id": "059aae0f",
   "metadata": {},
   "source": [
    "* Is the the price of gas higher in texas or in new mexico?\n",
    "\n",
    "This compares two means of gas prices of differnt regions Texas and New Mexico:\n",
    "\n",
    "Independent t-test (or 2-sample), One - Tail"
   ]
  },
  {
   "cell_type": "markdown",
   "id": "56f4a401",
   "metadata": {},
   "source": [
    "* Are there differences in stress levels between students who take data science vs students who take web development vs students who take cloud academy?\n",
    "\n",
    "This compares three differnt means of stress levels of groups a,b,and c:\n",
    "    \n",
    "ANOVA"
   ]
  },
  {
   "cell_type": "markdown",
   "id": "bf5e2319",
   "metadata": {},
   "source": [
    "# 2. \n",
    "Ace Realty wants to determine whether the average time it takes to sell homes is different for its two offices. A sample of 40 sales from office #1 revealed a mean of 90 days and a standard deviation of 15 days. A sample of 50 sales from office #2 revealed a mean of 100 days and a standard deviation of 20 days. Use a .05 level of significance.\n",
    "\n"
   ]
  },
  {
   "cell_type": "markdown",
   "id": "cb10082a",
   "metadata": {},
   "source": [
    "What are we comparing?\n",
    "\n",
    "-We are comparing the average time(continuous, numberic) of two offices(discrete, categories).\n",
    "- One Sample of two sample?\n",
    "    * two sample; two groups out of the population\n",
    "- One tailed or two tailed?\n",
    "    * two tailed; we are just asked they are different\n",
    "\n",
    "Variables:\n",
    "\n",
    "    * mean days to sell home(continuous, numeric)\n",
    "    * Office A vs Office B (discrete, boolean)\n",
    "    \n",
    "Test: \n",
    "\n",
    "    * Independent t-test (or 2-sample): scipy.stats.ttest_in\n",
    "    (if levene is passed to show equal variance) \n",
    "       Else:\n",
    "    * Mann-Whitney's test\n",
    "    * will use Two-Tails  to show inequality\n",
    "    * alpha = 0.5\n",
    "Office A mean : 90 days, std: 15 Sample Size = 40\n",
    "\n",
    "Office B mean : 100 days, std: 20 Sample Size = 50\n"
   ]
  },
  {
   "cell_type": "markdown",
   "id": "2f678224",
   "metadata": {},
   "source": [
    "$H_0$: Average time to sell at Office A == average time to sell at Office B\n",
    "\n",
    "$H_a$: Average time to sell at Office A != average time to sell at Office B\n",
    "\n",
    "Significance level alpha = 0.05"
   ]
  },
  {
   "cell_type": "code",
   "execution_count": 152,
   "id": "81778d83",
   "metadata": {},
   "outputs": [
    {
     "data": {
      "text/plain": [
       "<matplotlib.legend.Legend at 0x292227730>"
      ]
     },
     "execution_count": 152,
     "metadata": {},
     "output_type": "execute_result"
    },
    {
     "data": {
      "image/png": "[encoded data removed]",
      "text/plain": [
       "<Figure size 648x432 with 1 Axes>"
      ]
     },
     "metadata": {
      "needs_background": "light"
     },
     "output_type": "display_data"
    }
   ],
   "source": [
    "# Visualize two distribution:\n",
    "\n",
    "x = np.arange(50,150)\n",
    "\n",
    "y1 = stats.norm(90,15).pdf(x)\n",
    "y2 = stats.norm(100,20).pdf(x)\n",
    "\n",
    "plt.figure(figsize=(9,6))\n",
    "plt.plot(x, y1, label = 'office 1')\n",
    "plt.plot(x, y2, label = 'office 2')\n",
    "plt.axvline(90, ls = ':')\n",
    "plt.axvline(100, ls = ':', color = 'orange')\n",
    "\n",
    "plt.legend()\n"
   ]
  },
  {
   "cell_type": "code",
   "execution_count": 88,
   "id": "c93efe90",
   "metadata": {
    "scrolled": true
   },
   "outputs": [
    {
     "name": "stdout",
     "output_type": "stream",
     "text": [
      "89.59269238859926\n",
      "103.16885283935153\n"
     ]
    }
   ],
   "source": [
    "#stats.norm(μ, σ)\n",
    "office_a = stats.norm(90, 15).rvs(40)\n",
    "print(office_a.mean())\n",
    "office_b = stats.norm(100, 20).rvs(50)\n",
    "print(office_b.mean())"
   ]
  },
  {
   "cell_type": "code",
   "execution_count": 89,
   "id": "ab1aa932",
   "metadata": {
    "scrolled": true
   },
   "outputs": [
    {
     "data": {
      "text/plain": [
       "227.45909230377123"
      ]
     },
     "execution_count": 89,
     "metadata": {},
     "output_type": "execute_result"
    }
   ],
   "source": [
    "office_a.var()"
   ]
  },
  {
   "cell_type": "code",
   "execution_count": 90,
   "id": "8855c1e0",
   "metadata": {},
   "outputs": [
    {
     "data": {
      "text/plain": [
       "470.7561495020426"
      ]
     },
     "execution_count": 90,
     "metadata": {},
     "output_type": "execute_result"
    }
   ],
   "source": [
    "office_b.var()"
   ]
  },
  {
   "cell_type": "code",
   "execution_count": 91,
   "id": "f576c3be",
   "metadata": {
    "scrolled": false
   },
   "outputs": [],
   "source": [
    "stat, pval = stats.levene(office_a, office_b)\n",
    "\n",
    "if pval < 0.05:\n",
    "    print('we can reject H0 ==> inequal variance')"
   ]
  },
  {
   "cell_type": "code",
   "execution_count": 92,
   "id": "4b72822d",
   "metadata": {},
   "outputs": [
    {
     "data": {
      "text/plain": [
       "0.05986139611205938"
      ]
     },
     "execution_count": 92,
     "metadata": {},
     "output_type": "execute_result"
    }
   ],
   "source": [
    "# depending on pval equal_var is false when p>=0.5\n",
    "# if pval is less than 0.05 then we then equal_var is True\n",
    "pval"
   ]
  },
  {
   "cell_type": "code",
   "execution_count": 95,
   "id": "1d6c1f98",
   "metadata": {},
   "outputs": [
    {
     "name": "stdout",
     "output_type": "stream",
     "text": [
      " t-stat:3.634374250153617\n",
      " p-value:0.05986139611205938\n"
     ]
    }
   ],
   "source": [
    "alpha = 0.05\n",
    "\n",
    "t_stat, p_val = stats.ttest_ind(office_a,office_b, equal_var = True)\n",
    "print(f' t-stat:{stat}')\n",
    "print(f' p-value:{pval}')\n"
   ]
  },
  {
   "cell_type": "code",
   "execution_count": 96,
   "id": "9669ce1c",
   "metadata": {},
   "outputs": [],
   "source": [
    "# if pval is less than .05 we reject the null hypothesis,\n",
    "# if pval is greater than 0.05 we fail to reject the null hypotheis\n",
    "if pval < 0.05:\n",
    "    print('we can reject H0 ')"
   ]
  },
  {
   "cell_type": "code",
   "execution_count": null,
   "id": "a0c98bf2",
   "metadata": {},
   "outputs": [],
   "source": [
    "# we are using random simulating values so our pval for levene\n",
    "# ranges greatly and changes our method of equal_var"
   ]
  },
  {
   "cell_type": "markdown",
   "id": "08c75262",
   "metadata": {},
   "source": [
    "Load the mpg dataset and use it to answer the following questions:\n",
    "\n",
    "# * Is there a difference in fuel-efficiency in cars from 2008 vs 1999?\n"
   ]
  },
  {
   "cell_type": "code",
   "execution_count": 100,
   "id": "4286c06a",
   "metadata": {},
   "outputs": [],
   "source": [
    "mpg = data('mpg')"
   ]
  },
  {
   "cell_type": "markdown",
   "id": "ac131b87",
   "metadata": {},
   "source": [
    "- one tail or two tail? Two tailed: looking specifically for inequality\n",
    "- one sample/Two sample? Two sample (independent) Looking to compare values across cars manufactued specifially in 2008\n",
    "- for this one, we perform a ttest_ind on these two subsets of our data"
   ]
  },
  {
   "cell_type": "markdown",
   "id": "191a70e2",
   "metadata": {},
   "source": [
    "h0: there is no difference in fuel =efficiency in cars from 2008 vs 1999\n",
    "\n",
    "ha: there is difference in fuel =efficiency in cars from 2008 vs 1999"
   ]
  },
  {
   "cell_type": "markdown",
   "id": "fa059fcd",
   "metadata": {},
   "source": [
    "arithmetic meand: (c + h)/2\n",
    "harmonic mean 2/((1/c)+(1/h))"
   ]
  },
  {
   "cell_type": "code",
   "execution_count": 102,
   "id": "4f6f2761",
   "metadata": {},
   "outputs": [
    {
     "data": {
      "text/html": [
       "<div>\n",
       "<style scoped>\n",
       "    .dataframe tbody tr th:only-of-type {\n",
       "        vertical-align: middle;\n",
       "    }\n",
       "\n",
       "    .dataframe tbody tr th {\n",
       "        vertical-align: top;\n",
       "    }\n",
       "\n",
       "    .dataframe thead th {\n",
       "        text-align: right;\n",
       "    }\n",
       "</style>\n",
       "<table border=\"1\" class=\"dataframe\">\n",
       "  <thead>\n",
       "    <tr style=\"text-align: right;\">\n",
       "      <th></th>\n",
       "      <th>manufacturer</th>\n",
       "      <th>model</th>\n",
       "      <th>displ</th>\n",
       "      <th>year</th>\n",
       "      <th>cyl</th>\n",
       "      <th>trans</th>\n",
       "      <th>drv</th>\n",
       "      <th>cty</th>\n",
       "      <th>hwy</th>\n",
       "      <th>fl</th>\n",
       "      <th>class</th>\n",
       "      <th>avg_fe</th>\n",
       "    </tr>\n",
       "  </thead>\n",
       "  <tbody>\n",
       "    <tr>\n",
       "      <th>1</th>\n",
       "      <td>audi</td>\n",
       "      <td>a4</td>\n",
       "      <td>1.8</td>\n",
       "      <td>1999</td>\n",
       "      <td>4</td>\n",
       "      <td>auto(l5)</td>\n",
       "      <td>f</td>\n",
       "      <td>18</td>\n",
       "      <td>29</td>\n",
       "      <td>p</td>\n",
       "      <td>compact</td>\n",
       "      <td>22.212766</td>\n",
       "    </tr>\n",
       "    <tr>\n",
       "      <th>2</th>\n",
       "      <td>audi</td>\n",
       "      <td>a4</td>\n",
       "      <td>1.8</td>\n",
       "      <td>1999</td>\n",
       "      <td>4</td>\n",
       "      <td>manual(m5)</td>\n",
       "      <td>f</td>\n",
       "      <td>21</td>\n",
       "      <td>29</td>\n",
       "      <td>p</td>\n",
       "      <td>compact</td>\n",
       "      <td>24.360000</td>\n",
       "    </tr>\n",
       "    <tr>\n",
       "      <th>3</th>\n",
       "      <td>audi</td>\n",
       "      <td>a4</td>\n",
       "      <td>2.0</td>\n",
       "      <td>2008</td>\n",
       "      <td>4</td>\n",
       "      <td>manual(m6)</td>\n",
       "      <td>f</td>\n",
       "      <td>20</td>\n",
       "      <td>31</td>\n",
       "      <td>p</td>\n",
       "      <td>compact</td>\n",
       "      <td>24.313725</td>\n",
       "    </tr>\n",
       "    <tr>\n",
       "      <th>4</th>\n",
       "      <td>audi</td>\n",
       "      <td>a4</td>\n",
       "      <td>2.0</td>\n",
       "      <td>2008</td>\n",
       "      <td>4</td>\n",
       "      <td>auto(av)</td>\n",
       "      <td>f</td>\n",
       "      <td>21</td>\n",
       "      <td>30</td>\n",
       "      <td>p</td>\n",
       "      <td>compact</td>\n",
       "      <td>24.705882</td>\n",
       "    </tr>\n",
       "    <tr>\n",
       "      <th>5</th>\n",
       "      <td>audi</td>\n",
       "      <td>a4</td>\n",
       "      <td>2.8</td>\n",
       "      <td>1999</td>\n",
       "      <td>6</td>\n",
       "      <td>auto(l5)</td>\n",
       "      <td>f</td>\n",
       "      <td>16</td>\n",
       "      <td>26</td>\n",
       "      <td>p</td>\n",
       "      <td>compact</td>\n",
       "      <td>19.809524</td>\n",
       "    </tr>\n",
       "    <tr>\n",
       "      <th>...</th>\n",
       "      <td>...</td>\n",
       "      <td>...</td>\n",
       "      <td>...</td>\n",
       "      <td>...</td>\n",
       "      <td>...</td>\n",
       "      <td>...</td>\n",
       "      <td>...</td>\n",
       "      <td>...</td>\n",
       "      <td>...</td>\n",
       "      <td>...</td>\n",
       "      <td>...</td>\n",
       "      <td>...</td>\n",
       "    </tr>\n",
       "    <tr>\n",
       "      <th>230</th>\n",
       "      <td>volkswagen</td>\n",
       "      <td>passat</td>\n",
       "      <td>2.0</td>\n",
       "      <td>2008</td>\n",
       "      <td>4</td>\n",
       "      <td>auto(s6)</td>\n",
       "      <td>f</td>\n",
       "      <td>19</td>\n",
       "      <td>28</td>\n",
       "      <td>p</td>\n",
       "      <td>midsize</td>\n",
       "      <td>22.638298</td>\n",
       "    </tr>\n",
       "    <tr>\n",
       "      <th>231</th>\n",
       "      <td>volkswagen</td>\n",
       "      <td>passat</td>\n",
       "      <td>2.0</td>\n",
       "      <td>2008</td>\n",
       "      <td>4</td>\n",
       "      <td>manual(m6)</td>\n",
       "      <td>f</td>\n",
       "      <td>21</td>\n",
       "      <td>29</td>\n",
       "      <td>p</td>\n",
       "      <td>midsize</td>\n",
       "      <td>24.360000</td>\n",
       "    </tr>\n",
       "    <tr>\n",
       "      <th>232</th>\n",
       "      <td>volkswagen</td>\n",
       "      <td>passat</td>\n",
       "      <td>2.8</td>\n",
       "      <td>1999</td>\n",
       "      <td>6</td>\n",
       "      <td>auto(l5)</td>\n",
       "      <td>f</td>\n",
       "      <td>16</td>\n",
       "      <td>26</td>\n",
       "      <td>p</td>\n",
       "      <td>midsize</td>\n",
       "      <td>19.809524</td>\n",
       "    </tr>\n",
       "    <tr>\n",
       "      <th>233</th>\n",
       "      <td>volkswagen</td>\n",
       "      <td>passat</td>\n",
       "      <td>2.8</td>\n",
       "      <td>1999</td>\n",
       "      <td>6</td>\n",
       "      <td>manual(m5)</td>\n",
       "      <td>f</td>\n",
       "      <td>18</td>\n",
       "      <td>26</td>\n",
       "      <td>p</td>\n",
       "      <td>midsize</td>\n",
       "      <td>21.272727</td>\n",
       "    </tr>\n",
       "    <tr>\n",
       "      <th>234</th>\n",
       "      <td>volkswagen</td>\n",
       "      <td>passat</td>\n",
       "      <td>3.6</td>\n",
       "      <td>2008</td>\n",
       "      <td>6</td>\n",
       "      <td>auto(s6)</td>\n",
       "      <td>f</td>\n",
       "      <td>17</td>\n",
       "      <td>26</td>\n",
       "      <td>p</td>\n",
       "      <td>midsize</td>\n",
       "      <td>20.558140</td>\n",
       "    </tr>\n",
       "  </tbody>\n",
       "</table>\n",
       "<p>234 rows × 12 columns</p>\n",
       "</div>"
      ],
      "text/plain": [
       "    manufacturer   model  displ  year  cyl       trans drv  cty  hwy fl  \\\n",
       "1           audi      a4    1.8  1999    4    auto(l5)   f   18   29  p   \n",
       "2           audi      a4    1.8  1999    4  manual(m5)   f   21   29  p   \n",
       "3           audi      a4    2.0  2008    4  manual(m6)   f   20   31  p   \n",
       "4           audi      a4    2.0  2008    4    auto(av)   f   21   30  p   \n",
       "5           audi      a4    2.8  1999    6    auto(l5)   f   16   26  p   \n",
       "..           ...     ...    ...   ...  ...         ...  ..  ...  ... ..   \n",
       "230   volkswagen  passat    2.0  2008    4    auto(s6)   f   19   28  p   \n",
       "231   volkswagen  passat    2.0  2008    4  manual(m6)   f   21   29  p   \n",
       "232   volkswagen  passat    2.8  1999    6    auto(l5)   f   16   26  p   \n",
       "233   volkswagen  passat    2.8  1999    6  manual(m5)   f   18   26  p   \n",
       "234   volkswagen  passat    3.6  2008    6    auto(s6)   f   17   26  p   \n",
       "\n",
       "       class     avg_fe  \n",
       "1    compact  22.212766  \n",
       "2    compact  24.360000  \n",
       "3    compact  24.313725  \n",
       "4    compact  24.705882  \n",
       "5    compact  19.809524  \n",
       "..       ...        ...  \n",
       "230  midsize  22.638298  \n",
       "231  midsize  24.360000  \n",
       "232  midsize  19.809524  \n",
       "233  midsize  21.272727  \n",
       "234  midsize  20.558140  \n",
       "\n",
       "[234 rows x 12 columns]"
      ]
     },
     "execution_count": 102,
     "metadata": {},
     "output_type": "execute_result"
    }
   ],
   "source": [
    "# add harmonic mean collumn\n",
    "mpg['avg_fe'] = stats.hmean(mpg[['cty','hwy']], axis =1)\n",
    "mpg"
   ]
  },
  {
   "cell_type": "code",
   "execution_count": 104,
   "id": "1a1412f0",
   "metadata": {},
   "outputs": [],
   "source": [
    "# filter by 2008 year and fuel efficeincy\n",
    "fe_2008 = mpg[mpg.year == 2008].avg_fe\n",
    "fe_1999 = mpg[mpg.year == 1999].avg_fe"
   ]
  },
  {
   "cell_type": "code",
   "execution_count": 107,
   "id": "1fcc0ad7",
   "metadata": {},
   "outputs": [
    {
     "data": {
      "text/plain": [
       "(<AxesSubplot:>, <AxesSubplot:>)"
      ]
     },
     "execution_count": 107,
     "metadata": {},
     "output_type": "execute_result"
    },
    {
     "data": {
      "image/png": "[encoded data removed]",
      "text/plain": [
       "<Figure size 432x288 with 1 Axes>"
      ]
     },
     "metadata": {
      "needs_background": "light"
     },
     "output_type": "display_data"
    }
   ],
   "source": [
    "fe_2008.hist(),fe_1999.hist()"
   ]
  },
  {
   "cell_type": "code",
   "execution_count": 108,
   "id": "352aec4b",
   "metadata": {},
   "outputs": [
    {
     "data": {
      "text/plain": [
       "(117, 117)"
      ]
     },
     "execution_count": 108,
     "metadata": {},
     "output_type": "execute_result"
    }
   ],
   "source": [
    "# normality assumption is meet because the count is greater than 30\n",
    "\n",
    "fe_2008.count(),fe_1999.count()"
   ]
  },
  {
   "cell_type": "code",
   "execution_count": 109,
   "id": "217fcc34",
   "metadata": {},
   "outputs": [
    {
     "data": {
      "text/plain": [
       "(22.550836772260343, 25.850396545865912)"
      ]
     },
     "execution_count": 109,
     "metadata": {},
     "output_type": "execute_result"
    }
   ],
   "source": [
    "fe_2008.var(),fe_1999.var()"
   ]
  },
  {
   "cell_type": "code",
   "execution_count": 110,
   "id": "1d2fff50",
   "metadata": {},
   "outputs": [],
   "source": [
    "stat, pval = stats.levene(fe_2008, fe_1999)\n",
    "\n",
    "if pval < 0.05:\n",
    "    print('we can reject H0 ==> inequal variance')"
   ]
  },
  {
   "cell_type": "code",
   "execution_count": 114,
   "id": "6f27bc10",
   "metadata": {},
   "outputs": [
    {
     "data": {
      "text/plain": [
       "(-0.3011962975077886, 0.7635345888327115)"
      ]
     },
     "execution_count": 114,
     "metadata": {},
     "output_type": "execute_result"
    }
   ],
   "source": [
    "t, p = stats.ttest_ind(fe_2008, fe_1999)\n",
    "t,p"
   ]
  },
  {
   "cell_type": "code",
   "execution_count": null,
   "id": "86bf120c",
   "metadata": {},
   "outputs": [],
   "source": [
    "# because p value is greater than alpha we fail \n",
    "# to reject null and there is no difference in fuel-efficiency in cars\n",
    "# form 2008 and 1999"
   ]
  },
  {
   "cell_type": "code",
   "execution_count": 115,
   "id": "3cd0e215",
   "metadata": {},
   "outputs": [
    {
     "data": {
      "text/plain": [
       "(19.488662986569054, 19.68238764869729)"
      ]
     },
     "execution_count": 115,
     "metadata": {},
     "output_type": "execute_result"
    }
   ],
   "source": [
    "# we can compare means but ttest gives us that backing\n",
    "# of the resulst that we are seeing\n",
    "fe_2008.mean(),fe_1999.mean()"
   ]
  },
  {
   "cell_type": "markdown",
   "id": "3460ad87",
   "metadata": {},
   "source": [
    "# *Are compact cars more fuel-efficient than the average car?\n",
    "* one tail\n",
    "* one Sample"
   ]
  },
  {
   "cell_type": "markdown",
   "id": "15c866eb",
   "metadata": {},
   "source": [
    "H0 : mpg for compact cars  < = mpg for the average car\n",
    "HA : mpg for compact cars  > mpg for the average car"
   ]
  },
  {
   "cell_type": "markdown",
   "id": "a8f81a01",
   "metadata": {},
   "source": [
    "* p/2 will be compared to alpha as opposed to just p(because of the one tail)\n",
    "* tstat should be positive if we feed compact car value into our function first"
   ]
  },
  {
   "cell_type": "code",
   "execution_count": 120,
   "id": "629ebc2a",
   "metadata": {},
   "outputs": [
    {
     "data": {
      "text/plain": [
       "1      22.212766\n",
       "2      24.360000\n",
       "3      24.313725\n",
       "4      24.705882\n",
       "5      19.809524\n",
       "6      21.272727\n",
       "7      21.600000\n",
       "8      21.272727\n",
       "9      19.512195\n",
       "10     23.333333\n",
       "11     22.304348\n",
       "12     18.750000\n",
       "13     20.238095\n",
       "14     20.238095\n",
       "15     18.750000\n",
       "142    24.360000\n",
       "143    22.304348\n",
       "170    22.222222\n",
       "171    22.978723\n",
       "172    21.590909\n",
       "173    22.978723\n",
       "187    23.625000\n",
       "188    24.360000\n",
       "189    25.038462\n",
       "190    25.735849\n",
       "191    21.272727\n",
       "192    21.272727\n",
       "193    21.600000\n",
       "194    26.666667\n",
       "195    27.789474\n",
       "196    29.836066\n",
       "197    31.876923\n",
       "198    29.836066\n",
       "208    24.360000\n",
       "209    21.955556\n",
       "210    24.360000\n",
       "211    25.019608\n",
       "212    19.902439\n",
       "213    37.714286\n",
       "214    24.360000\n",
       "215    21.955556\n",
       "216    25.019608\n",
       "217    24.360000\n",
       "218    24.360000\n",
       "219    24.360000\n",
       "220    18.871795\n",
       "221    19.902439\n",
       "Name: avg_fe, dtype: float64"
      ]
     },
     "execution_count": 120,
     "metadata": {},
     "output_type": "execute_result"
    }
   ],
   "source": [
    "fe_compact = mpg[mpg['class'] == 'compact'].avg_fe\n",
    "fe_compact"
   ]
  },
  {
   "cell_type": "code",
   "execution_count": 124,
   "id": "c62d584a",
   "metadata": {
    "scrolled": true
   },
   "outputs": [],
   "source": [
    "mean_pop = mpg.avg_fe.mean()"
   ]
  },
  {
   "cell_type": "code",
   "execution_count": 127,
   "id": "cf6b719a",
   "metadata": {},
   "outputs": [
    {
     "data": {
      "text/plain": [
       "(<AxesSubplot:>, 47)"
      ]
     },
     "execution_count": 127,
     "metadata": {},
     "output_type": "execute_result"
    },
    {
     "data": {
      "image/png": "[encoded data removed]",
      "text/plain": [
       "<Figure size 432x288 with 1 Axes>"
      ]
     },
     "metadata": {
      "needs_background": "light"
     },
     "output_type": "display_data"
    }
   ],
   "source": [
    "# assume normality because compact is greater than 30, looks kind of normal\n",
    "fe_compact.hist(), fe_compact.count()"
   ]
  },
  {
   "cell_type": "code",
   "execution_count": 132,
   "id": "35e2be3c",
   "metadata": {},
   "outputs": [
    {
     "data": {
      "text/plain": [
       "(7.512360093161354, 7.808833174403837e-10)"
      ]
     },
     "execution_count": 132,
     "metadata": {},
     "output_type": "execute_result"
    }
   ],
   "source": [
    "tstat, pval = stats.ttest_1samp(fe_compact,mean_pop)\n",
    "tstat, pval/2"
   ]
  },
  {
   "cell_type": "code",
   "execution_count": 133,
   "id": "7b0654cd",
   "metadata": {},
   "outputs": [],
   "source": [
    "# Because p/2 < alpha and t > 0, \n",
    "# we can reject the null hypothesis"
   ]
  },
  {
   "cell_type": "markdown",
   "id": "b80648bf",
   "metadata": {},
   "source": [
    "There appears to be a significant relationship between average mpg compact car and the average mpg average car."
   ]
  },
  {
   "cell_type": "markdown",
   "id": "92752222",
   "metadata": {},
   "source": [
    "# * Do manual cars get better gas mileage than automatic cars?"
   ]
  },
  {
   "cell_type": "markdown",
   "id": "a53a54d2",
   "metadata": {},
   "source": [
    "* one tail\n",
    "* two sample\n",
    "\n",
    "we use: Independent t-test (or 2-sample): scipy.stats.ttest_ind\n",
    "\n",
    "$H_0$ : manual cars mpg <= automatic cars mpg\n",
    "\n",
    "$H_a$ : manual cars mpg > automatic cars mpg"
   ]
  },
  {
   "cell_type": "code",
   "execution_count": 135,
   "id": "d7d63a08",
   "metadata": {},
   "outputs": [
    {
     "data": {
      "text/plain": [
       "1       True\n",
       "2      False\n",
       "3      False\n",
       "4       True\n",
       "5       True\n",
       "       ...  \n",
       "230     True\n",
       "231    False\n",
       "232     True\n",
       "233    False\n",
       "234     True\n",
       "Name: trans, Length: 234, dtype: bool"
      ]
     },
     "execution_count": 135,
     "metadata": {},
     "output_type": "execute_result"
    }
   ],
   "source": [
    "mpg.trans.str.contains('auto')"
   ]
  },
  {
   "cell_type": "code",
   "execution_count": 136,
   "id": "4c59c74b",
   "metadata": {},
   "outputs": [
    {
     "data": {
      "text/plain": [
       "auto(l4)      83\n",
       "manual(m5)    58\n",
       "auto(l5)      39\n",
       "manual(m6)    19\n",
       "auto(s6)      16\n",
       "auto(l6)       6\n",
       "auto(av)       5\n",
       "auto(s5)       3\n",
       "auto(s4)       3\n",
       "auto(l3)       2\n",
       "Name: trans, dtype: int64"
      ]
     },
     "execution_count": 136,
     "metadata": {},
     "output_type": "execute_result"
    }
   ],
   "source": [
    "mpg.trans.value_counts()"
   ]
  },
  {
   "cell_type": "code",
   "execution_count": 138,
   "id": "71ceafb1",
   "metadata": {},
   "outputs": [],
   "source": [
    "# only auto trans cars, average fuel efficiency\n",
    "auto_fe = mpg[mpg.trans.str.contains('auto')].avg_fe\n",
    "man_fe = mpg[mpg.trans.str.contains('manual')].avg_fe\n"
   ]
  },
  {
   "cell_type": "code",
   "execution_count": 144,
   "id": "657fae52",
   "metadata": {},
   "outputs": [
    {
     "data": {
      "text/plain": [
       "(<AxesSubplot:>,\n",
       " <AxesSubplot:>,\n",
       " 157,\n",
       " 77,\n",
       " 20.428279095002054,\n",
       " 25.665633639828275)"
      ]
     },
     "execution_count": 144,
     "metadata": {},
     "output_type": "execute_result"
    },
    {
     "data": {
      "image/png": "[encoded data removed]",
      "text/plain": [
       "<Figure size 648x432 with 1 Axes>"
      ]
     },
     "metadata": {
      "needs_background": "light"
     },
     "output_type": "display_data"
    }
   ],
   "source": [
    "# look at the distribution. N >30\n",
    "\n",
    "plt.figure(figsize=(9,6))\n",
    "auto_fe.hist(), man_fe.hist(), auto_fe.count(),man_fe.count(), auto_fe.var(),man_fe.var()"
   ]
  },
  {
   "cell_type": "code",
   "execution_count": 145,
   "id": "c0b65a63",
   "metadata": {},
   "outputs": [
    {
     "data": {
      "text/plain": [
       "LeveneResult(statistic=0.013901207169738269, pvalue=0.9062462281015493)"
      ]
     },
     "execution_count": 145,
     "metadata": {},
     "output_type": "execute_result"
    }
   ],
   "source": [
    "# they have equal variance so set equl_var to True\n",
    "stats.levene(auto_fe, man_fe)"
   ]
  },
  {
   "cell_type": "code",
   "execution_count": 148,
   "id": "5fe6357a",
   "metadata": {},
   "outputs": [
    {
     "data": {
      "text/plain": [
       "(4.652577547151351, 2.7552323050220043e-06)"
      ]
     },
     "execution_count": 148,
     "metadata": {},
     "output_type": "execute_result"
    }
   ],
   "source": [
    "t, p = stats.ttest_ind(man_fe, auto_fe, equal_var = True)\n",
    "t, p/2\n",
    "# p/2 because there is two tails"
   ]
  },
  {
   "cell_type": "code",
   "execution_count": null,
   "id": "82f926bc",
   "metadata": {},
   "outputs": [],
   "source": [
    "# since t is greater thatn one and p/2 is less than alpha\n",
    "# we reject the null hypothesis"
   ]
  },
  {
   "cell_type": "markdown",
   "id": "77c23e8f",
   "metadata": {},
   "source": [
    "There appears that mannual cars have better mpg than automatic cars."
   ]
  },
  {
   "cell_type": "code",
   "execution_count": 150,
   "id": "eb238c18",
   "metadata": {},
   "outputs": [],
   "source": [
    "mpg['transmission_type'] = np.where(mpg.trans.str.contains('auto'), 'Auto Transmission', 'Manual Transmission')"
   ]
  },
  {
   "cell_type": "code",
   "execution_count": 151,
   "id": "4ddd0939",
   "metadata": {},
   "outputs": [
    {
     "data": {
      "text/plain": [
       "Text(0.5, 1.0, 'Is mileage different by transmission type?')"
      ]
     },
     "execution_count": 151,
     "metadata": {},
     "output_type": "execute_result"
    },
    {
     "data": {
      "image/png": "[encoded data removed]",
      "text/plain": [
       "<Figure size 648x432 with 1 Axes>"
      ]
     },
     "metadata": {
      "needs_background": "light"
     },
     "output_type": "display_data"
    }
   ],
   "source": [
    "plt.figure(figsize=(9,6))\n",
    "mpg.groupby('transmission_type').avg_fe.mean().plot.bar()\n",
    "plt.xticks(rotation=0)\n",
    "plt.xlabel('')\n",
    "plt.ylabel('Average mileage')\n",
    "plt.title('Is mileage different by transmission type?')"
   ]
  }
 ],
 "metadata": {
  "kernelspec": {
   "display_name": "Python 3 (ipykernel)",
   "language": "python",
   "name": "python3"
  },
  "language_info": {
   "codemirror_mode": {
    "name": "ipython",
    "version": 3
   },
   "file_extension": ".py",
   "mimetype": "text/x-python",
   "name": "python",
   "nbconvert_exporter": "python",
   "pygments_lexer": "ipython3",
   "version": "3.9.12"
  }
 },
 "nbformat": 4,
 "nbformat_minor": 5
}
