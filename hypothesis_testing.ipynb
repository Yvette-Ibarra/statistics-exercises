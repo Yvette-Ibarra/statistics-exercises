{
 "cells": [
  {
   "cell_type": "markdown",
   "id": "53766878",
   "metadata": {},
   "source": [
    "# $ Hypothesis Testing$"
   ]
  },
  {
   "cell_type": "markdown",
   "id": "c6ff0658",
   "metadata": {},
   "source": [
    "For each of the following questions:\n",
    "* formulate a null and alternative hypothesis (be as specific as you can be), \n",
    "* then give an example of what a true positive, true negative, type I and type II errors would look like. \n",
    "\n",
    "Note that some of the questions are intentionally phrased in a vague way. It is your job to reword these as more precise questions that could be tested.\n"
   ]
  },
  {
   "cell_type": "markdown",
   "id": "a949cc2d",
   "metadata": {},
   "source": [
    "### 1. \"Has the network latency gone up since we switched internet service providers?\"\n",
    "T-test\n",
    "#### Is there a relationship between data speed and internet provider\n",
    "Data Types: \n",
    "\n",
    "        - data speed (discrete, numeric) use bins\n",
    "        \n",
    "        - internet providers(discrete, Boolean)\n",
    "WE are testing Dependency\n",
    "\n",
    "$H_{0}$: There is no relationship between internet providers and data speed\n",
    "\n",
    "$H_{a}$: There is a relationship between internet providers and data speed\n",
    "\n"
   ]
  },
  {
   "cell_type": "markdown",
   "id": "3d2dfdc3",
   "metadata": {},
   "source": [
    "###### True Negative:\n",
    "There is no relatinship between internet providers and data speed and our testing failed to reject $H_{0}"
   ]
  },
  {
   "cell_type": "markdown",
   "id": "3562d490",
   "metadata": {},
   "source": [
    "###### True Positive: \n",
    "There is a relationship between internet providers and data speed and our testing rejected $H_{0}\n"
   ]
  },
  {
   "cell_type": "markdown",
   "id": "7d1155bd",
   "metadata": {},
   "source": [
    "###### Type I Error (Reject null when null was true): \n",
    "There is no relationship between the data speed and internet providers but our conclusions found that there was a relationship."
   ]
  },
  {
   "cell_type": "markdown",
   "id": "bd48dc14",
   "metadata": {},
   "source": [
    "###### Type II Error (Accept null when null was false): \n",
    "There is a relationship between the data speed and the internet provider but our conclusion failed to determined the existance of such relationship."
   ]
  },
  {
   "cell_type": "markdown",
   "id": "fb65aec4",
   "metadata": {},
   "source": [
    "### 1. \"Has the network latency gone up since we switched internet service providers?\"\n",
    "T-test\n",
    "#### Is there an increase of mean latency with the new internet service providers\n",
    "Data Types: \n",
    "\n",
    "        - latency (continuous, numeric) use bins\n",
    "        \n",
    "        - internet providers(discrete, Boolean)\n",
    "We are testing difference the difference between two means\n",
    "\n",
    "$H_{0}$: the mean latency group a(new internet provider) < = to the mean latency group b(previous internet provider)\n",
    "\n",
    "$H_{a}$: the mean latency group a(new internet provider) > to the mean latency group b(previous internet provider)\n",
    "    \n",
    "* True Negative:\n",
    "    Latency did not go up and we said it did not go up\n",
    "     \n",
    "* True Positive:\n",
    "    Latency went up and we said it went up\n",
    "    \n",
    "* Type I Error:\n",
    "    Latency did not go up but we said it did\n",
    "    \n",
    "* Type II Error:\n",
    "    Latency did go up but we said it did not.\n",
    "\n"
   ]
  },
  {
   "cell_type": "markdown",
   "id": "d0dd62a3",
   "metadata": {},
   "source": [
    "### 2.  \"Is the website redesign any good?\"\n",
    "##### Does our website design increase the  engagement of our targeted audience?\n",
    "Data Types: \n",
    "        -new website desgin (discrete, Boolean)\n",
    "        -engagement of targeted audience(continuous, numeric)\n",
    "WE are testing difference\n",
    "\n",
    "$H_{0}$: The mean engament of our targeted audiences with our original website >=  The mean engament of our targeted audiences with our new website\n",
    "\n",
    "$H_{a}$: The mean engament of our targeted audiences with our original website < The mean engament of our targeted audiences with our new website\n",
    "\n"
   ]
  },
  {
   "cell_type": "markdown",
   "id": "9e20af9c",
   "metadata": {},
   "source": [
    "###### True Negative:\n",
    "The new website does not increase targeted audience engagement and we failed to reject $H_{0}$ "
   ]
  },
  {
   "cell_type": "markdown",
   "id": "1f01b32b",
   "metadata": {},
   "source": [
    "###### True Positive:\n",
    "The new website does increased engagement with targeted audience and we rejected $H_{0}$"
   ]
  },
  {
   "cell_type": "markdown",
   "id": "e1cd2853",
   "metadata": {},
   "source": [
    "###### Type I Error (Reject null when null was true):\n",
    "The new website does not increase engagement with targeted audience and we concluded that our new webside does increase engagement"
   ]
  },
  {
   "cell_type": "markdown",
   "id": "6be2d9e7",
   "metadata": {},
   "source": [
    "###### Type II Error (Accept null when null was false):\n",
    "The new website does increase engagement with targeted audience and we concluded that our new webside does not increase engagement"
   ]
  },
  {
   "cell_type": "markdown",
   "id": "d42f89df",
   "metadata": {},
   "source": [
    "### 2.  \"Is the website redesign any good?\"\n",
    "##### Does our website design increase the  engagement of our targeted audience?\n",
    "Data Types: \n",
    "        -old vs new website desgin (discrete, Boolean)\n",
    "        -Time on site in seconds(continuous, numeric)\n",
    "\n",
    "WE are testing difference\n",
    "\n",
    "$H_{0}$: The mean time of our old website >=  The mean time with our new website\n",
    "\n",
    "$H_{a}$: The mean time of our old website <  The mean time with our new website \n",
    "    \n",
    "* True Negative:\n",
    "    Visitors spent less or equal time now and we said that\n",
    "    \n",
    "* True Postive:\n",
    "    Visitors spend more time and we stated that\n",
    "    \n",
    "* Type I Error:\n",
    "    We stated the site was better but it is not\n",
    "    \n",
    "* Type II Error:\n",
    "    We stated the site was better but it is better\n",
    "\n"
   ]
  },
  {
   "cell_type": "markdown",
   "id": "870b8204",
   "metadata": {},
   "source": [
    "### 3. \"Is our television ad driving more sales?\"\n",
    "\n",
    "#### Is there a linear relationship between sales and the time period our television ad was run\n",
    "#### Where mean sales increased in the time period that our ads where showing on television?\n",
    "\n",
    "Data Types: \n",
    "        -Sales (continuous, numeric)\n",
    "        -Time period Ad was ran (discrete, Boolean)\n",
    "        \n",
    "WE are testing Difference\n",
    "\n",
    "$H_{0}$: The mean sales while ad did not show on television >= The mean sales while ad did show on television\n",
    "\n",
    "$H_{a}$: The mean sales while ad did not show on television < The mean sales while ad did show on television\n",
    "\n"
   ]
  },
  {
   "cell_type": "markdown",
   "id": "2711a11c",
   "metadata": {},
   "source": [
    "###### True Negative:\n",
    "The television ad does not increase sales and and we failed to reject $H_{0}$ "
   ]
  },
  {
   "cell_type": "markdown",
   "id": "950b0a65",
   "metadata": {},
   "source": [
    "###### True Positive:\n",
    "The television ad does increase sales and and we reject $H_{0}$ \n",
    "\n",
    " "
   ]
  },
  {
   "cell_type": "markdown",
   "id": "a50561dc",
   "metadata": {},
   "source": [
    "###### Type I Error (Reject null when null was true):\n",
    "The television ad does not increase sales but our conclusions state that it does increase sales"
   ]
  },
  {
   "cell_type": "markdown",
   "id": "1faf64b9",
   "metadata": {},
   "source": [
    "###### Type II Error (Accept null when null was false):\n",
    "The television ad does increase sales but our conclusions state that it does not increase sales."
   ]
  },
  {
   "cell_type": "markdown",
   "id": "2fb9e813",
   "metadata": {},
   "source": [
    "### 3. \"Is our television ad driving more sales?\"\n",
    "\n",
    "#### \n",
    "\n",
    "T-test\n",
    "Data Types: \n",
    "        -Sales (continuous, numeric)\n",
    "        - pre-Ad  (discrete, Boolean)\n",
    "        \n",
    "WE are testing Difference\n",
    "\n",
    "$H_{0}$: The mean sales pre-Ad >= The mean sales post-Ad\n",
    "\n",
    "$H_{a}$: The mean sales pre-Ad < The mean sales post-Ad\n",
    "\n",
    "\n",
    "\n",
    "* True Negative:\n",
    "    Sales did not increased post-Ad and we stated that\n",
    "    \n",
    "* True Positive:\n",
    "    post-ad sales increased and we stated that they would increase\n",
    "    \n",
    "* Type I Error:\n",
    "    Post-Ad sales are not increased but we said they did increased\n",
    "    \n",
    "* Type II Error:\n",
    "    Post-Ad sales increased but we said that sales did not increased.\n",
    "    Ad was working but we didnt think so \n",
    "\n"
   ]
  }
 ],
 "metadata": {
  "kernelspec": {
   "display_name": "Python 3 (ipykernel)",
   "language": "python",
   "name": "python3"
  },
  "language_info": {
   "codemirror_mode": {
    "name": "ipython",
    "version": 3
   },
   "file_extension": ".py",
   "mimetype": "text/x-python",
   "name": "python",
   "nbconvert_exporter": "python",
   "pygments_lexer": "ipython3",
   "version": "3.9.12"
  }
 },
 "nbformat": 4,
 "nbformat_minor": 5
}
